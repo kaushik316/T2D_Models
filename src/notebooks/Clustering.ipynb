{
 "cells": [
  {
   "cell_type": "markdown",
   "metadata": {},
   "source": [
    "## Clustering  "
   ]
  },
  {
   "cell_type": "markdown",
   "metadata": {},
   "source": [
    "Exploratory clustering of T2D and lipids data. The goal of clustering is to determine whether there is a certain subset of points that are similar to each other - whether these splits are made between, across or within the trait labels. Clustering is highly dependent on the parameters chosen for distance measure and the number of desired clusters. Moreover, clustering is not guaranteed to produce useful results, depending on the structure of the data and on the definition of what a 'useful' cluster is. "
   ]
  },
  {
   "cell_type": "code",
   "execution_count": 18,
   "metadata": {},
   "outputs": [],
   "source": [
    "import pandas as pd\n",
    "import numpy as np\n",
    "import boto3\n",
    "import s3fs\n",
    "import os\n",
    "import sys\n",
    "import warnings\n",
    "import random\n",
    "from sklearn.cluster import AgglomerativeClustering\n",
    "from sklearn.mixture import GaussianMixture\n",
    "from sklearn.metrics import pairwise_distances, accuracy_score, recall_score, precision_score, silhouette_score\n",
    "from scipy import stats\n",
    "from scipy.spatial.distance import cdist\n",
    "from matplotlib import pyplot as plt\n",
    "plt.style.use('ggplot')\n",
    "warnings.filterwarnings(action='ignore')\n",
    "sys.path.insert(1, os.path.join(sys.path[0], '..'))\n",
    "from Evaluator import Evaluator\n",
    "from auth import access_key, secret_key"
   ]
  },
  {
   "cell_type": "code",
   "execution_count": 31,
   "metadata": {},
   "outputs": [],
   "source": [
    "filepath = \"s3://voightlab-data/multilabel/Weighted/\""
   ]
  },
  {
   "cell_type": "code",
   "execution_count": 32,
   "metadata": {},
   "outputs": [
    {
     "data": {
      "text/html": [
       "<div>\n",
       "<style scoped>\n",
       "    .dataframe tbody tr th:only-of-type {\n",
       "        vertical-align: middle;\n",
       "    }\n",
       "\n",
       "    .dataframe tbody tr th {\n",
       "        vertical-align: top;\n",
       "    }\n",
       "\n",
       "    .dataframe thead th {\n",
       "        text-align: right;\n",
       "    }\n",
       "</style>\n",
       "<table border=\"1\" class=\"dataframe\">\n",
       "  <thead>\n",
       "    <tr style=\"text-align: right;\">\n",
       "      <th></th>\n",
       "      <th>index</th>\n",
       "      <th>E011-H3K4me1.gappedPeak</th>\n",
       "      <th>E100-H3K9me3.gappedPeak</th>\n",
       "      <th>E039-H3K9me3.gappedPeak</th>\n",
       "      <th>E077-H3K9me3.gappedPeak</th>\n",
       "      <th>E090-H3K9me3.gappedPeak</th>\n",
       "      <th>E012-H3K36me3.gappedPeak</th>\n",
       "      <th>E113-H3K9me3.gappedPeak</th>\n",
       "      <th>E009-H3K9me3.gappedPeak</th>\n",
       "      <th>E068-H3K9me3.gappedPeak</th>\n",
       "      <th>...</th>\n",
       "      <th>E002-H3K9me3.gappedPeak</th>\n",
       "      <th>E043-H3K9me3.gappedPeak</th>\n",
       "      <th>H1-hESC_ChIP-seq_H4K20me1_ENCFF001SVF.bed</th>\n",
       "      <th>E085-H3K9me3.gappedPeak</th>\n",
       "      <th>E034-H3K9me3.gappedPeak</th>\n",
       "      <th>E045-H3K9me3.gappedPeak</th>\n",
       "      <th>E129-H3K9me3.gappedPeak</th>\n",
       "      <th>E046-H3K9me3.gappedPeak</th>\n",
       "      <th>E089-H3K9me3.gappedPeak</th>\n",
       "      <th>E044-H3K9me3.gappedPeak</th>\n",
       "    </tr>\n",
       "  </thead>\n",
       "  <tbody>\n",
       "    <tr>\n",
       "      <th>0</th>\n",
       "      <td>3761</td>\n",
       "      <td>0.159445</td>\n",
       "      <td>0.000000</td>\n",
       "      <td>0.000000</td>\n",
       "      <td>0.000000</td>\n",
       "      <td>0.0</td>\n",
       "      <td>0.000000</td>\n",
       "      <td>0.000000</td>\n",
       "      <td>0.140336</td>\n",
       "      <td>0.000000</td>\n",
       "      <td>...</td>\n",
       "      <td>0.000000</td>\n",
       "      <td>0.000000</td>\n",
       "      <td>0.298983</td>\n",
       "      <td>0.000000</td>\n",
       "      <td>0.000000</td>\n",
       "      <td>0.0</td>\n",
       "      <td>0.000000</td>\n",
       "      <td>0.000000</td>\n",
       "      <td>0.00000</td>\n",
       "      <td>0.000000</td>\n",
       "    </tr>\n",
       "    <tr>\n",
       "      <th>1</th>\n",
       "      <td>2367</td>\n",
       "      <td>0.159445</td>\n",
       "      <td>0.000000</td>\n",
       "      <td>0.000000</td>\n",
       "      <td>0.000000</td>\n",
       "      <td>0.0</td>\n",
       "      <td>0.201615</td>\n",
       "      <td>0.000000</td>\n",
       "      <td>0.000000</td>\n",
       "      <td>0.000000</td>\n",
       "      <td>...</td>\n",
       "      <td>0.119396</td>\n",
       "      <td>0.000000</td>\n",
       "      <td>0.298983</td>\n",
       "      <td>0.127441</td>\n",
       "      <td>0.000000</td>\n",
       "      <td>0.0</td>\n",
       "      <td>0.000000</td>\n",
       "      <td>0.000000</td>\n",
       "      <td>0.00000</td>\n",
       "      <td>0.000000</td>\n",
       "    </tr>\n",
       "    <tr>\n",
       "      <th>2</th>\n",
       "      <td>4085</td>\n",
       "      <td>0.159445</td>\n",
       "      <td>0.000000</td>\n",
       "      <td>0.000000</td>\n",
       "      <td>0.000000</td>\n",
       "      <td>0.0</td>\n",
       "      <td>0.201615</td>\n",
       "      <td>0.102936</td>\n",
       "      <td>0.140336</td>\n",
       "      <td>0.097012</td>\n",
       "      <td>...</td>\n",
       "      <td>0.000000</td>\n",
       "      <td>0.000000</td>\n",
       "      <td>0.298983</td>\n",
       "      <td>0.000000</td>\n",
       "      <td>0.000000</td>\n",
       "      <td>0.0</td>\n",
       "      <td>0.000000</td>\n",
       "      <td>0.000000</td>\n",
       "      <td>0.00000</td>\n",
       "      <td>0.000000</td>\n",
       "    </tr>\n",
       "    <tr>\n",
       "      <th>3</th>\n",
       "      <td>10218</td>\n",
       "      <td>0.159445</td>\n",
       "      <td>0.000000</td>\n",
       "      <td>0.000000</td>\n",
       "      <td>0.000000</td>\n",
       "      <td>0.0</td>\n",
       "      <td>0.000000</td>\n",
       "      <td>0.000000</td>\n",
       "      <td>0.000000</td>\n",
       "      <td>0.000000</td>\n",
       "      <td>...</td>\n",
       "      <td>0.000000</td>\n",
       "      <td>0.000000</td>\n",
       "      <td>0.298983</td>\n",
       "      <td>0.000000</td>\n",
       "      <td>0.000000</td>\n",
       "      <td>0.0</td>\n",
       "      <td>0.000000</td>\n",
       "      <td>0.000000</td>\n",
       "      <td>0.00000</td>\n",
       "      <td>0.000000</td>\n",
       "    </tr>\n",
       "    <tr>\n",
       "      <th>4</th>\n",
       "      <td>7143</td>\n",
       "      <td>0.159445</td>\n",
       "      <td>0.078831</td>\n",
       "      <td>0.067947</td>\n",
       "      <td>0.094133</td>\n",
       "      <td>0.0</td>\n",
       "      <td>0.000000</td>\n",
       "      <td>0.102936</td>\n",
       "      <td>0.140336</td>\n",
       "      <td>0.097012</td>\n",
       "      <td>...</td>\n",
       "      <td>0.119396</td>\n",
       "      <td>0.097588</td>\n",
       "      <td>0.000000</td>\n",
       "      <td>0.127441</td>\n",
       "      <td>0.100616</td>\n",
       "      <td>0.0</td>\n",
       "      <td>0.071681</td>\n",
       "      <td>0.081607</td>\n",
       "      <td>0.06177</td>\n",
       "      <td>0.098339</td>\n",
       "    </tr>\n",
       "  </tbody>\n",
       "</table>\n",
       "<p>5 rows × 126 columns</p>\n",
       "</div>"
      ],
      "text/plain": [
       "   index  E011-H3K4me1.gappedPeak  E100-H3K9me3.gappedPeak  \\\n",
       "0   3761                 0.159445                 0.000000   \n",
       "1   2367                 0.159445                 0.000000   \n",
       "2   4085                 0.159445                 0.000000   \n",
       "3  10218                 0.159445                 0.000000   \n",
       "4   7143                 0.159445                 0.078831   \n",
       "\n",
       "   E039-H3K9me3.gappedPeak  E077-H3K9me3.gappedPeak  E090-H3K9me3.gappedPeak  \\\n",
       "0                 0.000000                 0.000000                      0.0   \n",
       "1                 0.000000                 0.000000                      0.0   \n",
       "2                 0.000000                 0.000000                      0.0   \n",
       "3                 0.000000                 0.000000                      0.0   \n",
       "4                 0.067947                 0.094133                      0.0   \n",
       "\n",
       "   E012-H3K36me3.gappedPeak  E113-H3K9me3.gappedPeak  E009-H3K9me3.gappedPeak  \\\n",
       "0                  0.000000                 0.000000                 0.140336   \n",
       "1                  0.201615                 0.000000                 0.000000   \n",
       "2                  0.201615                 0.102936                 0.140336   \n",
       "3                  0.000000                 0.000000                 0.000000   \n",
       "4                  0.000000                 0.102936                 0.140336   \n",
       "\n",
       "   E068-H3K9me3.gappedPeak           ...             E002-H3K9me3.gappedPeak  \\\n",
       "0                 0.000000           ...                            0.000000   \n",
       "1                 0.000000           ...                            0.119396   \n",
       "2                 0.097012           ...                            0.000000   \n",
       "3                 0.000000           ...                            0.000000   \n",
       "4                 0.097012           ...                            0.119396   \n",
       "\n",
       "   E043-H3K9me3.gappedPeak  H1-hESC_ChIP-seq_H4K20me1_ENCFF001SVF.bed  \\\n",
       "0                 0.000000                                   0.298983   \n",
       "1                 0.000000                                   0.298983   \n",
       "2                 0.000000                                   0.298983   \n",
       "3                 0.000000                                   0.298983   \n",
       "4                 0.097588                                   0.000000   \n",
       "\n",
       "   E085-H3K9me3.gappedPeak  E034-H3K9me3.gappedPeak  E045-H3K9me3.gappedPeak  \\\n",
       "0                 0.000000                 0.000000                      0.0   \n",
       "1                 0.127441                 0.000000                      0.0   \n",
       "2                 0.000000                 0.000000                      0.0   \n",
       "3                 0.000000                 0.000000                      0.0   \n",
       "4                 0.127441                 0.100616                      0.0   \n",
       "\n",
       "   E129-H3K9me3.gappedPeak  E046-H3K9me3.gappedPeak  E089-H3K9me3.gappedPeak  \\\n",
       "0                 0.000000                 0.000000                  0.00000   \n",
       "1                 0.000000                 0.000000                  0.00000   \n",
       "2                 0.000000                 0.000000                  0.00000   \n",
       "3                 0.000000                 0.000000                  0.00000   \n",
       "4                 0.071681                 0.081607                  0.06177   \n",
       "\n",
       "   E044-H3K9me3.gappedPeak  \n",
       "0                 0.000000  \n",
       "1                 0.000000  \n",
       "2                 0.000000  \n",
       "3                 0.000000  \n",
       "4                 0.098339  \n",
       "\n",
       "[5 rows x 126 columns]"
      ]
     },
     "execution_count": 32,
     "metadata": {},
     "output_type": "execute_result"
    }
   ],
   "source": [
    "X_train = pd.read_csv(filepath + \"FeatureSelected/chi2/X_train.csv\", index_col=0)\n",
    "y_train = pd.read_csv(filepath + \"FeatureSelected/chi2/y_train.csv\", index_col=0)\n",
    "\n",
    "X_train = X_train.reset_index()\n",
    "y_train = y_train.reset_index()\n",
    "\n",
    "X_train.head()"
   ]
  },
  {
   "cell_type": "code",
   "execution_count": 36,
   "metadata": {},
   "outputs": [
    {
     "data": {
      "text/html": [
       "<div>\n",
       "<style scoped>\n",
       "    .dataframe tbody tr th:only-of-type {\n",
       "        vertical-align: middle;\n",
       "    }\n",
       "\n",
       "    .dataframe tbody tr th {\n",
       "        vertical-align: top;\n",
       "    }\n",
       "\n",
       "    .dataframe thead th {\n",
       "        text-align: right;\n",
       "    }\n",
       "</style>\n",
       "<table border=\"1\" class=\"dataframe\">\n",
       "  <thead>\n",
       "    <tr style=\"text-align: right;\">\n",
       "      <th></th>\n",
       "      <th>is_BMI</th>\n",
       "      <th>is_CAD</th>\n",
       "      <th>is_T2D</th>\n",
       "      <th>is_lipids</th>\n",
       "    </tr>\n",
       "  </thead>\n",
       "  <tbody>\n",
       "    <tr>\n",
       "      <th>7773</th>\n",
       "      <td>0.0</td>\n",
       "      <td>0.0</td>\n",
       "      <td>0.0</td>\n",
       "      <td>0.0</td>\n",
       "    </tr>\n",
       "    <tr>\n",
       "      <th>5206</th>\n",
       "      <td>0.0</td>\n",
       "      <td>0.0</td>\n",
       "      <td>0.0</td>\n",
       "      <td>0.0</td>\n",
       "    </tr>\n",
       "    <tr>\n",
       "      <th>8664</th>\n",
       "      <td>0.0</td>\n",
       "      <td>0.0</td>\n",
       "      <td>0.0</td>\n",
       "      <td>0.0</td>\n",
       "    </tr>\n",
       "    <tr>\n",
       "      <th>9151</th>\n",
       "      <td>0.0</td>\n",
       "      <td>0.0</td>\n",
       "      <td>0.0</td>\n",
       "      <td>1.0</td>\n",
       "    </tr>\n",
       "    <tr>\n",
       "      <th>2104</th>\n",
       "      <td>1.0</td>\n",
       "      <td>0.0</td>\n",
       "      <td>0.0</td>\n",
       "      <td>0.0</td>\n",
       "    </tr>\n",
       "  </tbody>\n",
       "</table>\n",
       "</div>"
      ],
      "text/plain": [
       "      is_BMI  is_CAD  is_T2D  is_lipids\n",
       "7773     0.0     0.0     0.0        0.0\n",
       "5206     0.0     0.0     0.0        0.0\n",
       "8664     0.0     0.0     0.0        0.0\n",
       "9151     0.0     0.0     0.0        1.0\n",
       "2104     1.0     0.0     0.0        0.0"
      ]
     },
     "execution_count": 36,
     "metadata": {},
     "output_type": "execute_result"
    }
   ],
   "source": [
    "X_test = pd.read_csv(filepath + \"FeatureSelected/chi2/X_test.csv\", index_col=0)\n",
    "y_test = pd.read_csv(filepath + \"FeatureSelected/chi2/y_test.csv\", index_col=0)\n",
    "y_test.head()"
   ]
  },
  {
   "cell_type": "code",
   "execution_count": 37,
   "metadata": {},
   "outputs": [],
   "source": [
    "# Init class for plotting and model evaluation\n",
    "ev = Evaluator()"
   ]
  },
  {
   "cell_type": "code",
   "execution_count": 38,
   "metadata": {},
   "outputs": [],
   "source": [
    "# Some utility functions to help us compare clustering with a few different parameters\n",
    "def concat_labels(df, labels):\n",
    "    labeled_df = pd.concat([df, labels], axis=1)\n",
    "    return labeled_df\n",
    "\n",
    "def make_labels(df):\n",
    "    cols = list(df.columns)\n",
    "    labels = []\n",
    "    \n",
    "    for index, row in df.iterrows():\n",
    "        possible_labels = []\n",
    "        \n",
    "        for col in cols:\n",
    "            if row[col] == 1:\n",
    "                possible_labels.append(col)\n",
    "                \n",
    "        if not possible_labels:\n",
    "            labels.append(0)\n",
    "        else:\n",
    "            rand_label = random.choice(possible_labels)\n",
    "            label = cols.index(rand_label) + 1\n",
    "            labels.append(label)\n",
    "    \n",
    "    return labels"
   ]
  },
  {
   "cell_type": "code",
   "execution_count": 39,
   "metadata": {},
   "outputs": [],
   "source": [
    "def cluster_compare(n_clusters, model, data, metric):\n",
    "    results = []\n",
    "    labels = []\n",
    "    \n",
    "    for n in n_clusters:\n",
    "        model.n_clusters=n\n",
    "        model.fit(data)\n",
    "        predictions = pd.Series(model.labels_, name='label')\n",
    "        unique, counts = np.unique(predictions, return_counts=True)\n",
    "        \n",
    "        if 'label' in data.columns:\n",
    "            data['label'] = predictions\n",
    "        else:\n",
    "            data = concat_labels(data, predictions)\n",
    "        \n",
    "        cluster_metrics = []\n",
    "        \n",
    "        for index,val in enumerate(unique):\n",
    "            avg_dist = pairwise_distances(data.loc[data['label'] == val], metric=metric, n_jobs=-1).mean()\n",
    "            cluster_metrics.append(avg_dist)\n",
    "        \n",
    "        cluster_labels = [str(val) for val in unique] \n",
    "        labels.append(cluster_labels)\n",
    "        results.append(cluster_metrics)\n",
    "            \n",
    "    titles = [(str(n) + \" Clusters\\n\" ) for n in n_clusters]\n",
    "    ev.plot_compare(results, labels, 'cluster number', 'avg  {} distance'.format(metric), titles, False)"
   ]
  },
  {
   "cell_type": "code",
   "execution_count": 40,
   "metadata": {},
   "outputs": [],
   "source": [
    "bin_y_train = make_labels(y_train)\n",
    "bin_y_test = make_labels(y_test)"
   ]
  },
  {
   "cell_type": "code",
   "execution_count": 41,
   "metadata": {},
   "outputs": [
    {
     "name": "stdout",
     "output_type": "stream",
     "text": [
      "0    3169\n",
      "2     854\n",
      "5     422\n",
      "4     368\n",
      "3     218\n",
      "1       1\n",
      "dtype: int64\n"
     ]
    }
   ],
   "source": [
    "print (pd.Series(bin_y_train).value_counts())"
   ]
  },
  {
   "cell_type": "code",
   "execution_count": null,
   "metadata": {},
   "outputs": [],
   "source": []
  },
  {
   "cell_type": "markdown",
   "metadata": {},
   "source": [
    "### Comparing similarity of classes\n",
    "Intuitively we might think that certain traits would share important features. Here we compute and plot the average pairwise distance between all the points of two classes with each other. This allows us to tell which classes contain feature vectors more similar to each other. "
   ]
  },
  {
   "cell_type": "code",
   "execution_count": 42,
   "metadata": {},
   "outputs": [],
   "source": [
    "def pairwise_dist(trait1, trait2, metric='hamming'):\n",
    "   \n",
    "    # Concat the trait labels to each dataframe\n",
    "    t1_df = pd.concat([X_train, y_train[trait1]], axis=1)\n",
    "    t2_df = pd.concat([X_train, y_train[trait2]], axis=1)\n",
    "    \n",
    "    # Save only the positive instances for both\n",
    "    t1_positives = t1_df[t1_df[trait1] == 1]\n",
    "    t2_positives = t2_df[t2_df[trait2] == 1]\n",
    "    \n",
    "    distances = cdist(t1_positives, t2_positives, metric=metric)\n",
    "    return distances.mean()\n",
    "    "
   ]
  },
  {
   "cell_type": "code",
   "execution_count": 43,
   "metadata": {},
   "outputs": [],
   "source": [
    "# Generate all possible pairings and save for plot\n",
    "data = []\n",
    "labels =[]\n",
    "traits = y_train.columns[1:]\n",
    "\n",
    "# Choose distance metric to compute pairwise distances on\n",
    "metric = 'correlation'\n",
    "\n",
    "for i, trait1 in enumerate(traits):\n",
    "    for j, trait2 in enumerate(traits[i+1:]):\n",
    "        labels.append(\"{}-{}\".format(trait1, trait2))\n",
    "        dist = pairwise_dist(trait1, trait2, metric=metric)\n",
    "        data.append(dist)"
   ]
  },
  {
   "cell_type": "code",
   "execution_count": 44,
   "metadata": {},
   "outputs": [
    {
     "data": {
      "image/png": "[encoded data removed]",
      "text/plain": [
       "<Figure size 792x432 with 1 Axes>"
      ]
     },
     "metadata": {},
     "output_type": "display_data"
    }
   ],
   "source": [
    "plt.figure(figsize=(11,6))\n",
    "bars = plt.bar(labels, data)\n",
    "plt.title(\"Distances between traits\\n\")\n",
    "plt.ylabel(\"{} distance\\n\".format(metric))\n",
    "plt.xlabel(\"\\nTrait Pairs\")\n",
    "\n",
    "# Add counts above the two bar graphs\n",
    "for rect in bars:\n",
    "    height = rect.get_height()\n",
    "    plt.text(rect.get_x() + rect.get_width()/2.0, height, \"{0:.5f}\".format(height), ha='center', va='bottom')\n",
    "\n",
    "plt.show()"
   ]
  },
  {
   "cell_type": "code",
   "execution_count": null,
   "metadata": {},
   "outputs": [],
   "source": []
  },
  {
   "cell_type": "markdown",
   "metadata": {},
   "source": [
    "### Agglomerative Clustering"
   ]
  },
  {
   "cell_type": "markdown",
   "metadata": {},
   "source": [
    "A hierarchical clustering method with a bottom-up approach. Each observation starts in its own cluster and clusters are iteratively merged in a way to minimize some linkage criterion. "
   ]
  },
  {
   "cell_type": "code",
   "execution_count": 13,
   "metadata": {},
   "outputs": [],
   "source": [
    "agg_cluster = AgglomerativeClustering(n_clusters=5,\n",
    "#                                       affinity='l1',\n",
    "                                      linkage='ward')"
   ]
  },
  {
   "cell_type": "code",
   "execution_count": 14,
   "metadata": {},
   "outputs": [
    {
     "data": {
      "text/plain": [
       "AgglomerativeClustering(affinity='euclidean', compute_full_tree='auto',\n",
       "            connectivity=None, linkage='ward', memory=None, n_clusters=5,\n",
       "            pooling_func=<function mean at 0x7f0b6009f620>)"
      ]
     },
     "execution_count": 14,
     "metadata": {},
     "output_type": "execute_result"
    }
   ],
   "source": [
    "agg_cluster.fit(X_train)"
   ]
  },
  {
   "cell_type": "code",
   "execution_count": 15,
   "metadata": {},
   "outputs": [
    {
     "name": "stdout",
     "output_type": "stream",
     "text": [
      "[[  0 597]\n",
      " [  1 494]\n",
      " [  2 388]\n",
      " [  3 404]\n",
      " [  4 238]]\n"
     ]
    }
   ],
   "source": [
    "labels = agg_cluster.labels_\n",
    "unique, counts = np.unique(labels, return_counts=True)\n",
    "print (np.asarray((unique, counts)).T)"
   ]
  },
  {
   "cell_type": "code",
   "execution_count": 16,
   "metadata": {},
   "outputs": [
    {
     "data": {
      "text/plain": [
       "-0.00876838642162702"
      ]
     },
     "execution_count": 16,
     "metadata": {},
     "output_type": "execute_result"
    }
   ],
   "source": [
    "silhouette_score(X_test, bin_y_test, metric='hamming')"
   ]
  },
  {
   "cell_type": "code",
   "execution_count": 17,
   "metadata": {},
   "outputs": [
    {
     "ename": "NameError",
     "evalue": "name 'plot_compare' is not defined",
     "output_type": "error",
     "traceback": [
      "\u001b[0;31m---------------------------------------------------------------------------\u001b[0m",
      "\u001b[0;31mNameError\u001b[0m                                 Traceback (most recent call last)",
      "\u001b[0;32m<ipython-input-17-1c91e2cfc904>\u001b[0m in \u001b[0;36m<module>\u001b[0;34m()\u001b[0m\n\u001b[0;32m----> 1\u001b[0;31m \u001b[0mcluster_compare\u001b[0m\u001b[0;34m(\u001b[0m\u001b[0;34m[\u001b[0m\u001b[0;36m3\u001b[0m\u001b[0;34m,\u001b[0m \u001b[0;36m4\u001b[0m\u001b[0;34m,\u001b[0m \u001b[0;36m5\u001b[0m\u001b[0;34m,\u001b[0m \u001b[0;36m6\u001b[0m\u001b[0;34m]\u001b[0m\u001b[0;34m,\u001b[0m \u001b[0magg_cluster\u001b[0m\u001b[0;34m,\u001b[0m \u001b[0mX_train\u001b[0m\u001b[0;34m,\u001b[0m \u001b[0;34m'hamming'\u001b[0m\u001b[0;34m)\u001b[0m\u001b[0;34m\u001b[0m\u001b[0m\n\u001b[0m",
      "\u001b[0;32m<ipython-input-7-b887014ad824>\u001b[0m in \u001b[0;36mcluster_compare\u001b[0;34m(n_clusters, model, data, metric)\u001b[0m\n\u001b[1;32m     25\u001b[0m \u001b[0;34m\u001b[0m\u001b[0m\n\u001b[1;32m     26\u001b[0m     \u001b[0mtitles\u001b[0m \u001b[0;34m=\u001b[0m \u001b[0;34m[\u001b[0m\u001b[0;34m(\u001b[0m\u001b[0mstr\u001b[0m\u001b[0;34m(\u001b[0m\u001b[0mn\u001b[0m\u001b[0;34m)\u001b[0m \u001b[0;34m+\u001b[0m \u001b[0;34m\" Clusters\\n\"\u001b[0m \u001b[0;34m)\u001b[0m \u001b[0;32mfor\u001b[0m \u001b[0mn\u001b[0m \u001b[0;32min\u001b[0m \u001b[0mn_clusters\u001b[0m\u001b[0;34m]\u001b[0m\u001b[0;34m\u001b[0m\u001b[0m\n\u001b[0;32m---> 27\u001b[0;31m     \u001b[0mplot_compare\u001b[0m\u001b[0;34m(\u001b[0m\u001b[0mresults\u001b[0m\u001b[0;34m,\u001b[0m \u001b[0mlabels\u001b[0m\u001b[0;34m,\u001b[0m \u001b[0;34m'cluster number'\u001b[0m\u001b[0;34m,\u001b[0m \u001b[0;34m'avg  {} distance'\u001b[0m\u001b[0;34m.\u001b[0m\u001b[0mformat\u001b[0m\u001b[0;34m(\u001b[0m\u001b[0mmetric\u001b[0m\u001b[0;34m)\u001b[0m\u001b[0;34m,\u001b[0m \u001b[0mtitles\u001b[0m\u001b[0;34m,\u001b[0m \u001b[0;32mFalse\u001b[0m\u001b[0;34m)\u001b[0m\u001b[0;34m\u001b[0m\u001b[0m\n\u001b[0m",
      "\u001b[0;31mNameError\u001b[0m: name 'plot_compare' is not defined"
     ]
    }
   ],
   "source": [
    "cluster_compare([3, 4, 5, 6], agg_cluster, X_train, 'hamming')"
   ]
  },
  {
   "cell_type": "code",
   "execution_count": null,
   "metadata": {},
   "outputs": [],
   "source": []
  },
  {
   "cell_type": "code",
   "execution_count": null,
   "metadata": {},
   "outputs": [],
   "source": []
  }
 ],
 "metadata": {
  "kernelspec": {
   "display_name": "conda_chainer_p36",
   "language": "python",
   "name": "conda_chainer_p36"
  },
  "language_info": {
   "codemirror_mode": {
    "name": "ipython",
    "version": 3
   },
   "file_extension": ".py",
   "mimetype": "text/x-python",
   "name": "python",
   "nbconvert_exporter": "python",
   "pygments_lexer": "ipython3",
   "version": "3.6.5"
  }
 },
 "nbformat": 4,
 "nbformat_minor": 2
}
