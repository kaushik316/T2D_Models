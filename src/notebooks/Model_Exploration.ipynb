{
 "cells": [
  {
   "cell_type": "markdown",
   "metadata": {},
   "source": [
    "# Traits models initial run"
   ]
  },
  {
   "cell_type": "markdown",
   "metadata": {},
   "source": [
    "A first pass fitting a few different sklearn classifiers to the T2D and Lipids datasets. Though some initial preprocessing is conducted on the data no feature selection is performed at this stage. It should be noted that this notebook is meant to show an exploratory look into out of the box model performance. It should be noted that as there are currently more features than samples in the datasets (2750 features vs ~2100 samples), there aren't enough degrees of freedom to optimally fit an interpretable linear model."
   ]
  },
  {
   "cell_type": "code",
   "execution_count": 45,
   "metadata": {},
   "outputs": [],
   "source": [
    "import pandas as pd\n",
    "import numpy as np\n",
    "import sys\n",
    "import os\n",
    "import s3fs\n",
    "import boto\n",
    "from sklearn.model_selection import train_test_split\n",
    "from sklearn.linear_model import LogisticRegressionCV\n",
    "from sklearn.linear_model import LogisticRegression\n",
    "from sklearn.model_selection import StratifiedShuffleSplit\n",
    "from sklearn.model_selection import GridSearchCV\n",
    "from sklearn.ensemble import RandomForestClassifier\n",
    "from sklearn.preprocessing import label_binarize\n",
    "from sklearn.multiclass import OneVsRestClassifier\n",
    "from sklearn.svm import LinearSVC\n",
    "from sklearn.svm import SVC\n",
    "from sklearn.naive_bayes import ComplementNB\n",
    "from sklearn.metrics import roc_curve, auc\n",
    "from sklearn.metrics import precision_score, recall_score, accuracy_score\n",
    "import warnings\n",
    "from matplotlib import pyplot as plt\n",
    "plt.style.use('ggplot')\n",
    "warnings.filterwarnings(action='ignore')\n",
    "import sklearn \n",
    "import jupyterthemes\n",
    "from jupyterthemes import jtplot\n",
    "jtplot.style(theme='oceans16')\n",
    "sys.path.insert(1, os.path.join(sys.path[0], '..'))\n",
    "from auth import access_key, secret_key\n",
    "from Evaluator import Evaluator\n",
    "import itertools"
   ]
  },
  {
   "cell_type": "code",
   "execution_count": null,
   "metadata": {},
   "outputs": [],
   "source": []
  },
  {
   "cell_type": "markdown",
   "metadata": {},
   "source": [
    "### Data Preprocessing"
   ]
  },
  {
   "cell_type": "code",
   "execution_count": 5,
   "metadata": {},
   "outputs": [],
   "source": [
    "# Alter with lipids/t2d/other if needed\n",
    "options = [\"t2d\", \"lipids\", \"grouped\"]\n",
    "trait = options[2]\n",
    "\n",
    "train_filepath = \"S3://voightlab-data/{}/{}_train.csv\".format(trait, trait)\n",
    "test_filepath = \"S3://voightlab-data/{}/{}_test.csv\".format(trait, trait)"
   ]
  },
  {
   "cell_type": "code",
   "execution_count": 6,
   "metadata": {},
   "outputs": [
    {
     "data": {
      "text/html": [
       "<div>\n",
       "<style scoped>\n",
       "    .dataframe tbody tr th:only-of-type {\n",
       "        vertical-align: middle;\n",
       "    }\n",
       "\n",
       "    .dataframe tbody tr th {\n",
       "        vertical-align: top;\n",
       "    }\n",
       "\n",
       "    .dataframe thead th {\n",
       "        text-align: right;\n",
       "    }\n",
       "</style>\n",
       "<table border=\"1\" class=\"dataframe\">\n",
       "  <thead>\n",
       "    <tr style=\"text-align: right;\">\n",
       "      <th></th>\n",
       "      <th>MCF-7_ChIP-seq_CTCF_ENCSR000AHD_ENCFF001UML_ENCFF001UMN_intersect.bed</th>\n",
       "      <th>MCF-7_ChIP-seq_TAF1_ENCSR000AHF_ENCFF001UNU_ENCFF001UNT_intersect.bed</th>\n",
       "      <th>GM12878_ChIP-seq_CTCF_ENCFF002CDP.bed</th>\n",
       "      <th>K562_ChIP-seq_CTCF_ENCFF002CEL.bed</th>\n",
       "      <th>K562_ChIP-seq_POLR2A_ENCFF002CET.bed</th>\n",
       "      <th>endothelial_cell_of_umbilical_vein_ChIP-seq_CTCF_ENCFF002CEH.bed</th>\n",
       "      <th>endothelial_cell_of_umbilical_vein_ChIP-seq_POLR2A_ENCFF002CEJ.bed</th>\n",
       "      <th>keratinocyte_ChIP-seq_CTCF_ENCFF002CFA.bed</th>\n",
       "      <th>keratinocyte_ChIP-seq_POLR2A_ENCFF002CFC.bed</th>\n",
       "      <th>H1-hESC_ChIP-seq_H3K27me3_ENCFF001SUY.bed</th>\n",
       "      <th>...</th>\n",
       "      <th>islet_pooled_H3K4me1_final.bed</th>\n",
       "      <th>islet_CTCF_intersectall.bed</th>\n",
       "      <th>islet_H3K27ac.bed</th>\n",
       "      <th>islet_pooled_H3K27ac.bed</th>\n",
       "      <th>islet_pooled_H3K4me3_peaks.broadPeak</th>\n",
       "      <th>snpcount</th>\n",
       "      <th>is_t2d</th>\n",
       "      <th>is_lipids</th>\n",
       "      <th>is_both</th>\n",
       "      <th>label</th>\n",
       "    </tr>\n",
       "  </thead>\n",
       "  <tbody>\n",
       "    <tr>\n",
       "      <th>6336</th>\n",
       "      <td>0</td>\n",
       "      <td>0</td>\n",
       "      <td>0</td>\n",
       "      <td>0</td>\n",
       "      <td>0</td>\n",
       "      <td>0</td>\n",
       "      <td>0</td>\n",
       "      <td>0</td>\n",
       "      <td>0</td>\n",
       "      <td>0</td>\n",
       "      <td>...</td>\n",
       "      <td>1</td>\n",
       "      <td>0</td>\n",
       "      <td>0</td>\n",
       "      <td>0</td>\n",
       "      <td>0</td>\n",
       "      <td>0.003520</td>\n",
       "      <td>0</td>\n",
       "      <td>0</td>\n",
       "      <td>0</td>\n",
       "      <td>0</td>\n",
       "    </tr>\n",
       "    <tr>\n",
       "      <th>7900</th>\n",
       "      <td>0</td>\n",
       "      <td>0</td>\n",
       "      <td>0</td>\n",
       "      <td>0</td>\n",
       "      <td>0</td>\n",
       "      <td>0</td>\n",
       "      <td>0</td>\n",
       "      <td>0</td>\n",
       "      <td>0</td>\n",
       "      <td>0</td>\n",
       "      <td>...</td>\n",
       "      <td>0</td>\n",
       "      <td>0</td>\n",
       "      <td>1</td>\n",
       "      <td>1</td>\n",
       "      <td>1</td>\n",
       "      <td>0.027574</td>\n",
       "      <td>0</td>\n",
       "      <td>0</td>\n",
       "      <td>0</td>\n",
       "      <td>0</td>\n",
       "    </tr>\n",
       "    <tr>\n",
       "      <th>4172</th>\n",
       "      <td>0</td>\n",
       "      <td>0</td>\n",
       "      <td>0</td>\n",
       "      <td>0</td>\n",
       "      <td>1</td>\n",
       "      <td>0</td>\n",
       "      <td>0</td>\n",
       "      <td>0</td>\n",
       "      <td>0</td>\n",
       "      <td>0</td>\n",
       "      <td>...</td>\n",
       "      <td>0</td>\n",
       "      <td>0</td>\n",
       "      <td>0</td>\n",
       "      <td>0</td>\n",
       "      <td>0</td>\n",
       "      <td>0.000000</td>\n",
       "      <td>0</td>\n",
       "      <td>1</td>\n",
       "      <td>0</td>\n",
       "      <td>2</td>\n",
       "    </tr>\n",
       "    <tr>\n",
       "      <th>3046</th>\n",
       "      <td>0</td>\n",
       "      <td>0</td>\n",
       "      <td>0</td>\n",
       "      <td>0</td>\n",
       "      <td>0</td>\n",
       "      <td>0</td>\n",
       "      <td>0</td>\n",
       "      <td>0</td>\n",
       "      <td>0</td>\n",
       "      <td>1</td>\n",
       "      <td>...</td>\n",
       "      <td>0</td>\n",
       "      <td>0</td>\n",
       "      <td>0</td>\n",
       "      <td>0</td>\n",
       "      <td>0</td>\n",
       "      <td>0.000000</td>\n",
       "      <td>0</td>\n",
       "      <td>1</td>\n",
       "      <td>0</td>\n",
       "      <td>2</td>\n",
       "    </tr>\n",
       "    <tr>\n",
       "      <th>8527</th>\n",
       "      <td>1</td>\n",
       "      <td>0</td>\n",
       "      <td>0</td>\n",
       "      <td>1</td>\n",
       "      <td>1</td>\n",
       "      <td>0</td>\n",
       "      <td>1</td>\n",
       "      <td>0</td>\n",
       "      <td>1</td>\n",
       "      <td>0</td>\n",
       "      <td>...</td>\n",
       "      <td>0</td>\n",
       "      <td>0</td>\n",
       "      <td>1</td>\n",
       "      <td>1</td>\n",
       "      <td>1</td>\n",
       "      <td>0.018187</td>\n",
       "      <td>0</td>\n",
       "      <td>1</td>\n",
       "      <td>0</td>\n",
       "      <td>2</td>\n",
       "    </tr>\n",
       "  </tbody>\n",
       "</table>\n",
       "<p>5 rows × 2752 columns</p>\n",
       "</div>"
      ],
      "text/plain": [
       "      MCF-7_ChIP-seq_CTCF_ENCSR000AHD_ENCFF001UML_ENCFF001UMN_intersect.bed  \\\n",
       "6336                                                  0                       \n",
       "7900                                                  0                       \n",
       "4172                                                  0                       \n",
       "3046                                                  0                       \n",
       "8527                                                  1                       \n",
       "\n",
       "      MCF-7_ChIP-seq_TAF1_ENCSR000AHF_ENCFF001UNU_ENCFF001UNT_intersect.bed  \\\n",
       "6336                                                  0                       \n",
       "7900                                                  0                       \n",
       "4172                                                  0                       \n",
       "3046                                                  0                       \n",
       "8527                                                  0                       \n",
       "\n",
       "      GM12878_ChIP-seq_CTCF_ENCFF002CDP.bed  \\\n",
       "6336                                      0   \n",
       "7900                                      0   \n",
       "4172                                      0   \n",
       "3046                                      0   \n",
       "8527                                      0   \n",
       "\n",
       "      K562_ChIP-seq_CTCF_ENCFF002CEL.bed  \\\n",
       "6336                                   0   \n",
       "7900                                   0   \n",
       "4172                                   0   \n",
       "3046                                   0   \n",
       "8527                                   1   \n",
       "\n",
       "      K562_ChIP-seq_POLR2A_ENCFF002CET.bed  \\\n",
       "6336                                     0   \n",
       "7900                                     0   \n",
       "4172                                     1   \n",
       "3046                                     0   \n",
       "8527                                     1   \n",
       "\n",
       "      endothelial_cell_of_umbilical_vein_ChIP-seq_CTCF_ENCFF002CEH.bed  \\\n",
       "6336                                                  0                  \n",
       "7900                                                  0                  \n",
       "4172                                                  0                  \n",
       "3046                                                  0                  \n",
       "8527                                                  0                  \n",
       "\n",
       "      endothelial_cell_of_umbilical_vein_ChIP-seq_POLR2A_ENCFF002CEJ.bed  \\\n",
       "6336                                                  0                    \n",
       "7900                                                  0                    \n",
       "4172                                                  0                    \n",
       "3046                                                  0                    \n",
       "8527                                                  1                    \n",
       "\n",
       "      keratinocyte_ChIP-seq_CTCF_ENCFF002CFA.bed  \\\n",
       "6336                                           0   \n",
       "7900                                           0   \n",
       "4172                                           0   \n",
       "3046                                           0   \n",
       "8527                                           0   \n",
       "\n",
       "      keratinocyte_ChIP-seq_POLR2A_ENCFF002CFC.bed  \\\n",
       "6336                                             0   \n",
       "7900                                             0   \n",
       "4172                                             0   \n",
       "3046                                             0   \n",
       "8527                                             1   \n",
       "\n",
       "      H1-hESC_ChIP-seq_H3K27me3_ENCFF001SUY.bed  ...    \\\n",
       "6336                                          0  ...     \n",
       "7900                                          0  ...     \n",
       "4172                                          0  ...     \n",
       "3046                                          1  ...     \n",
       "8527                                          0  ...     \n",
       "\n",
       "      islet_pooled_H3K4me1_final.bed  islet_CTCF_intersectall.bed  \\\n",
       "6336                               1                            0   \n",
       "7900                               0                            0   \n",
       "4172                               0                            0   \n",
       "3046                               0                            0   \n",
       "8527                               0                            0   \n",
       "\n",
       "      islet_H3K27ac.bed  islet_pooled_H3K27ac.bed  \\\n",
       "6336                  0                         0   \n",
       "7900                  1                         1   \n",
       "4172                  0                         0   \n",
       "3046                  0                         0   \n",
       "8527                  1                         1   \n",
       "\n",
       "      islet_pooled_H3K4me3_peaks.broadPeak  snpcount  is_t2d  is_lipids  \\\n",
       "6336                                     0  0.003520       0          0   \n",
       "7900                                     1  0.027574       0          0   \n",
       "4172                                     0  0.000000       0          1   \n",
       "3046                                     0  0.000000       0          1   \n",
       "8527                                     1  0.018187       0          1   \n",
       "\n",
       "      is_both  label  \n",
       "6336        0      0  \n",
       "7900        0      0  \n",
       "4172        0      2  \n",
       "3046        0      2  \n",
       "8527        0      2  \n",
       "\n",
       "[5 rows x 2752 columns]"
      ]
     },
     "execution_count": 6,
     "metadata": {},
     "output_type": "execute_result"
    }
   ],
   "source": [
    "train_df = pd.read_csv(train_filepath, index_col=0)\n",
    "test_df = pd.read_csv(test_filepath, index_col=0)\n",
    "train_df.tail()"
   ]
  },
  {
   "cell_type": "code",
   "execution_count": 7,
   "metadata": {},
   "outputs": [],
   "source": [
    "# Read in data and compare class balances\n",
    "def show_counts(df, pos_col, neg_col):\n",
    "    positives = df['type'].value_counts()[pos_col]\n",
    "    controls = df['type'].value_counts()[neg_col]\n",
    "    total = len(df)\n",
    "    print (\"Total samples: {} \\nPositives: {} \\nControls: {}\".format(total, positives, controls))"
   ]
  },
  {
   "cell_type": "code",
   "execution_count": 27,
   "metadata": {},
   "outputs": [],
   "source": [
    "# Read in training data and compare class balances\n",
    "show_counts(train_df, 1, 0)"
   ]
  },
  {
   "cell_type": "code",
   "execution_count": null,
   "metadata": {},
   "outputs": [],
   "source": [
    "# Read in testing data and compare class balances\n",
    "show_counts(test_df, 1, 0)"
   ]
  },
  {
   "cell_type": "code",
   "execution_count": null,
   "metadata": {},
   "outputs": [],
   "source": [
    "train_df.head()"
   ]
  },
  {
   "cell_type": "code",
   "execution_count": 8,
   "metadata": {},
   "outputs": [],
   "source": [
    "# Create training and test splits, dropping labels and sample weights from training set\n",
    "labels = ['label']\n",
    "to_drop = ['is_t2d', 'is_lipids', 'is_both']\n",
    "\n",
    "X_train = train_df.drop(labels + to_drop, axis=1)\n",
    "y_train = train_df.loc[:, labels]\n",
    "\n",
    "X_test = test_df.drop(labels + to_drop, axis=1)\n",
    "y_test = test_df.loc[:, labels]"
   ]
  },
  {
   "cell_type": "code",
   "execution_count": 35,
   "metadata": {},
   "outputs": [
    {
     "data": {
      "text/plain": [
       "0    4485\n",
       "1     403\n",
       "2     392\n",
       "3     116\n",
       "Name: label, dtype: int64"
      ]
     },
     "execution_count": 35,
     "metadata": {},
     "output_type": "execute_result"
    }
   ],
   "source": [
    "# Show counts of each class\n",
    "y_train.iloc[:,0].value_counts()"
   ]
  },
  {
   "cell_type": "code",
   "execution_count": 9,
   "metadata": {},
   "outputs": [],
   "source": [
    "# Init class for model evaluation - detailed in Evaluation.py\n",
    "ev = Evaluator()"
   ]
  },
  {
   "cell_type": "code",
   "execution_count": null,
   "metadata": {},
   "outputs": [],
   "source": []
  },
  {
   "cell_type": "markdown",
   "metadata": {},
   "source": [
    "### Logistic Regression "
   ]
  },
  {
   "cell_type": "markdown",
   "metadata": {},
   "source": [
    "Sklearn's logistic regression model, with ten fold cross validation. Using the following parameters:\n",
    "* cv = 10\n",
    "* penalty = L1 (Same as lasso regression)\n",
    "* class_weight = balanced (Sets regularization term C to 1/(class frequency) for each sample. Useful for imbalanced datasets. "
   ]
  },
  {
   "cell_type": "code",
   "execution_count": 10,
   "metadata": {},
   "outputs": [
    {
     "data": {
      "text/plain": [
       "LogisticRegressionCV(Cs=10, class_weight='balanced', cv=10, dual=False,\n",
       "           fit_intercept=True, intercept_scaling=1.0, max_iter=5000,\n",
       "           multi_class='warn', n_jobs=None, penalty='l1',\n",
       "           random_state=None, refit=True, scoring='roc_auc',\n",
       "           solver='liblinear', tol=0.0001, verbose=0)"
      ]
     },
     "execution_count": 10,
     "metadata": {},
     "output_type": "execute_result"
    }
   ],
   "source": [
    "log_model = LogisticRegressionCV(solver='liblinear', \n",
    "                                 penalty='l1', \n",
    "                                 class_weight='balanced',\n",
    "                                 scoring='roc_auc', \n",
    "                                 cv=10,\n",
    "                                 max_iter=5000)\n",
    "log_model.fit(X_train, y_train)"
   ]
  },
  {
   "cell_type": "code",
   "execution_count": 19,
   "metadata": {},
   "outputs": [],
   "source": [
    "def predict_class(model, X, threshold):\n",
    "    logits = model.predict_proba(X)\n",
    "\n",
    "    predictions = [1 if float(sample[1]) > threshold else 0 for sample in logits]\n",
    "    # else:\n",
    "    #     for index, prediction in enumerate(predictions):\n",
    "    #         argmax = np.argmax(predictions[index].asarray())\n",
    "    #         predictions[index] = [ind if float(sample[argmax]) > threshold else ]\n",
    "\n",
    "    return predictions\n",
    "\n",
    "\n",
    "\n",
    "def summarize_performance(model, X, y, threshold=0.5, proba=True, binary=True, average=None, return_stats=False):\n",
    "    if proba and binary:\n",
    "        predictions = predict_class(model, X, threshold)\n",
    "\n",
    "    else:\n",
    "        predictions = model.predict(X)\n",
    "\n",
    "    if not binary:\n",
    "        avg_metric = average\n",
    "    else:\n",
    "        avg_metric = 'binary'\n",
    "\n",
    "    precision = precision_score(y_true=y, y_pred=predictions, average=avg_metric)\n",
    "    recall = recall_score(y_true=y, y_pred=predictions, average=avg_metric)\n",
    "    accuracy = accuracy_score(y_true=y, y_pred=predictions)\n",
    "\n",
    "    print (\"Model Performance:\\n Precision: {}\\n Recall: {}\\n Accuracy: {}\".format(precision, recall, accuracy))\n",
    "\n",
    "    if return_stats:\n",
    "        return [precision, recall, accuracy]\n",
    "    \n",
    "    \n",
    "    \n",
    "    \n",
    "\n",
    "    \n"
   ]
  },
  {
   "cell_type": "code",
   "execution_count": 22,
   "metadata": {},
   "outputs": [
    {
     "name": "stdout",
     "output_type": "stream",
     "text": [
      "Training Dataset Logistic Model Performance:\n",
      " Precision: 0.5780207561156412\n",
      " Recall: 0.5780207561156412\n",
      " Accuracy: 0.5780207561156412\n"
     ]
    }
   ],
   "source": [
    "print(\"Training Dataset Logistic\", end=\" \")\n",
    "summarize_performance(log_model, X_train, y_train, threshold=0.5, binary=False, average='micro')"
   ]
  },
  {
   "cell_type": "code",
   "execution_count": 23,
   "metadata": {},
   "outputs": [
    {
     "name": "stdout",
     "output_type": "stream",
     "text": [
      "Test Dataset Logistic Model Performance:\n",
      " Precision: 0.4877641824249166\n",
      " Recall: 0.4877641824249166\n",
      " Accuracy: 0.4877641824249166\n"
     ]
    }
   ],
   "source": [
    "print(\"Test Dataset Logistic\", end=\" \")\n",
    "summarize_performance(log_model, X_test, y_test, threshold=0.5, binary=False, average='micro')"
   ]
  },
  {
   "cell_type": "code",
   "execution_count": 38,
   "metadata": {},
   "outputs": [
    {
     "data": {
      "text/plain": [
       "0.4877641824249166"
      ]
     },
     "execution_count": 38,
     "metadata": {},
     "output_type": "execute_result"
    }
   ],
   "source": [
    "accuracy_score(y_test, log_model.predict(X_test))"
   ]
  },
  {
   "cell_type": "code",
   "execution_count": 50,
   "metadata": {},
   "outputs": [],
   "source": [
    "def plot_roc_curve(model, Xtrain, ytrain, Xtest, ytest, classes):\n",
    "    ytrain = label_binarize(ytrain, classes=[0,1,2,3])\n",
    "    ytest = label_binarize(ytest, classes=[0,1,2,3])\n",
    "    n_classes=len(classes)\n",
    "\n",
    "    clf = OneVsRestClassifier(model)\n",
    "    y_score = clf.fit(Xtrain, ytrain)\n",
    "\n",
    "    # Compute ROC curve and ROC area for each class\n",
    "    fpr = dict()\n",
    "    tpr = dict()\n",
    "    roc_auc = dict()\n",
    "\n",
    "    for i in range(n_classes):\n",
    "        fpr[i], tpr[i], _ = roc_curve(y_test[:, i], y_score[:, i])\n",
    "        roc_auc[i] = auc(fpr[i], tpr[i])\n",
    "\n",
    "    # Plot of a ROC curve for a specific class\n",
    "    for i in range(n_classes):\n",
    "        plt.figure()\n",
    "        plt.plot(fpr[i], tpr[i], label='ROC curve (area = %0.2f)' % roc_auc[i])\n",
    "        plt.plot([0, 1], [0, 1], 'k--')\n",
    "        plt.xlim([0.0, 1.0])\n",
    "        plt.ylim([0.0, 1.05])\n",
    "        plt.xlabel('False Positive Rate')\n",
    "        plt.ylabel('True Positive Rate')\n",
    "        plt.title('Receiver operating characteristic example')\n",
    "        plt.legend(loc=\"lower right\")\n",
    "        plt.show()"
   ]
  },
  {
   "cell_type": "code",
   "execution_count": null,
   "metadata": {},
   "outputs": [],
   "source": [
    "plot_roc_curve(log_model,X_train, y_train, X_test, y_test, classes=[0,1,2,3])"
   ]
  },
  {
   "cell_type": "code",
   "execution_count": 39,
   "metadata": {},
   "outputs": [
    {
     "data": {
      "image/png": "[encoded data removed]",
      "text/plain": [
       "<Figure size 800x560 with 1 Axes>"
      ]
     },
     "metadata": {},
     "output_type": "display_data"
    }
   ],
   "source": [
    "# Plot feature importance\n",
    "coefs = log_model.coef_\n",
    "feature_names = X_train.columns\n",
    "important_features = ev.feat_importance(coefs, feature_names, 20, False)"
   ]
  },
  {
   "cell_type": "code",
   "execution_count": null,
   "metadata": {},
   "outputs": [],
   "source": []
  },
  {
   "cell_type": "markdown",
   "metadata": {},
   "source": [
    "# Random Forest"
   ]
  },
  {
   "cell_type": "markdown",
   "metadata": {},
   "source": [
    "Sklearn's implementation of random forest with gridsearch. As mentioned, sklearn requires a one dimensional vector (e.g [1,2,3,4] for multiclass classification, though the random forest model can accept a multidimensional array e.g [[1,1,1], [1,0, 0]]. The second label type is for multilabel classification - i.e where samples can belong to more than one class. "
   ]
  },
  {
   "cell_type": "code",
   "execution_count": 40,
   "metadata": {},
   "outputs": [],
   "source": [
    "# n_jobs = -1 allows training to be done on all available cores\n",
    "rf_model = RandomForestClassifier(n_jobs=-1, class_weight='balanced')\n",
    "\n",
    "# Parameter grid for grid search\n",
    "rf_params = {'n_estimators': [100, 500, 1000, 2000],\n",
    "\t\t\t 'max_depth': [30, 100, 200]}\n",
    "\n",
    "scoring = ['recall', 'roc_auc']\n",
    "\n",
    "cv = StratifiedShuffleSplit(n_splits=10, test_size=0.3)"
   ]
  },
  {
   "cell_type": "code",
   "execution_count": 41,
   "metadata": {},
   "outputs": [
    {
     "name": "stdout",
     "output_type": "stream",
     "text": [
      "The best parameters are {'max_depth': 30, 'n_estimators': 100} with a score of 0.83\n",
      "Grid search's score on new test data was 0.8264738598442715\n"
     ]
    }
   ],
   "source": [
    "# Grid search to iteratively search parameter space\n",
    "rf_grid = GridSearchCV(rf_model, param_grid=rf_params, cv=cv)\n",
    "rf_grid.fit(X_train, y_train)\n",
    "print(\"The best parameters are %s with a score of %0.2f\" % (rf_grid.best_params_, rf_grid.best_score_))\n",
    "\n",
    "rf_grid_score = rf_grid.score(X_test, y_test)\n",
    "print (\"Grid search's score on new test data was {}\".format(rf_grid_score))"
   ]
  },
  {
   "cell_type": "code",
   "execution_count": 42,
   "metadata": {},
   "outputs": [
    {
     "ename": "ValueError",
     "evalue": "Target is multiclass but average='binary'. Please choose another average setting.",
     "output_type": "error",
     "traceback": [
      "\u001b[0;31m---------------------------------------------------------------------------\u001b[0m",
      "\u001b[0;31mValueError\u001b[0m                                Traceback (most recent call last)",
      "\u001b[0;32m<ipython-input-42-da6052551074>\u001b[0m in \u001b[0;36m<module>\u001b[0;34m()\u001b[0m\n\u001b[0;32m----> 1\u001b[0;31m \u001b[0mev\u001b[0m\u001b[0;34m.\u001b[0m\u001b[0msummarize_performance\u001b[0m\u001b[0;34m(\u001b[0m\u001b[0mrf_grid\u001b[0m\u001b[0;34m,\u001b[0m \u001b[0mX_train\u001b[0m\u001b[0;34m,\u001b[0m \u001b[0my_train\u001b[0m\u001b[0;34m,\u001b[0m \u001b[0mproba\u001b[0m\u001b[0;34m=\u001b[0m\u001b[0;32mFalse\u001b[0m\u001b[0;34m)\u001b[0m\u001b[0;34m\u001b[0m\u001b[0m\n\u001b[0m",
      "\u001b[0;32m~/anaconda/envs/t2d_model/src/Evaluator.py\u001b[0m in \u001b[0;36msummarize_performance\u001b[0;34m(self, model, X, y, threshold, proba, return_stats)\u001b[0m\n\u001b[1;32m     52\u001b[0m     \u001b[0maverage\u001b[0m\u001b[0;34m:\u001b[0m \u001b[0mString\u001b[0m\u001b[0;34m\u001b[0m\u001b[0m\n\u001b[1;32m     53\u001b[0m     \u001b[0mreturn_stats\u001b[0m\u001b[0;34m:\u001b[0m \u001b[0mBoolean\u001b[0m\u001b[0;34m\u001b[0m\u001b[0m\n\u001b[0;32m---> 54\u001b[0;31m     '''\n\u001b[0m\u001b[1;32m     55\u001b[0m     \u001b[0;32mdef\u001b[0m \u001b[0msummarize_performance\u001b[0m\u001b[0;34m(\u001b[0m\u001b[0mself\u001b[0m\u001b[0;34m,\u001b[0m \u001b[0mmodel\u001b[0m\u001b[0;34m,\u001b[0m \u001b[0mX\u001b[0m\u001b[0;34m,\u001b[0m \u001b[0my\u001b[0m\u001b[0;34m,\u001b[0m \u001b[0mthreshold\u001b[0m\u001b[0;34m=\u001b[0m\u001b[0;36m0.5\u001b[0m\u001b[0;34m,\u001b[0m \u001b[0mproba\u001b[0m\u001b[0;34m=\u001b[0m\u001b[0;32mTrue\u001b[0m\u001b[0;34m,\u001b[0m \u001b[0mbinary\u001b[0m\u001b[0;34m=\u001b[0m\u001b[0;32mTrue\u001b[0m\u001b[0;34m,\u001b[0m \u001b[0maverage\u001b[0m\u001b[0;34m=\u001b[0m\u001b[0;32mNone\u001b[0m\u001b[0;34m,\u001b[0m \u001b[0mreturn_stats\u001b[0m\u001b[0;34m=\u001b[0m\u001b[0;32mFalse\u001b[0m\u001b[0;34m)\u001b[0m\u001b[0;34m:\u001b[0m\u001b[0;34m\u001b[0m\u001b[0m\n\u001b[1;32m     56\u001b[0m         \u001b[0;32mif\u001b[0m \u001b[0mproba\u001b[0m \u001b[0;32mand\u001b[0m \u001b[0mbinary\u001b[0m\u001b[0;34m:\u001b[0m\u001b[0;34m\u001b[0m\u001b[0m\n",
      "\u001b[0;32m~/anaconda/envs/t2d_model/lib/python3.6/site-packages/sklearn/metrics/classification.py\u001b[0m in \u001b[0;36mprecision_score\u001b[0;34m(y_true, y_pred, labels, pos_label, average, sample_weight)\u001b[0m\n\u001b[1;32m   1267\u001b[0m                                                  \u001b[0maverage\u001b[0m\u001b[0;34m=\u001b[0m\u001b[0maverage\u001b[0m\u001b[0;34m,\u001b[0m\u001b[0;34m\u001b[0m\u001b[0m\n\u001b[1;32m   1268\u001b[0m                                                  \u001b[0mwarn_for\u001b[0m\u001b[0;34m=\u001b[0m\u001b[0;34m(\u001b[0m\u001b[0;34m'precision'\u001b[0m\u001b[0;34m,\u001b[0m\u001b[0;34m)\u001b[0m\u001b[0;34m,\u001b[0m\u001b[0;34m\u001b[0m\u001b[0m\n\u001b[0;32m-> 1269\u001b[0;31m                                                  sample_weight=sample_weight)\n\u001b[0m\u001b[1;32m   1270\u001b[0m     \u001b[0;32mreturn\u001b[0m \u001b[0mp\u001b[0m\u001b[0;34m\u001b[0m\u001b[0m\n\u001b[1;32m   1271\u001b[0m \u001b[0;34m\u001b[0m\u001b[0m\n",
      "\u001b[0;32m~/anaconda/envs/t2d_model/lib/python3.6/site-packages/sklearn/metrics/classification.py\u001b[0m in \u001b[0;36mprecision_recall_fscore_support\u001b[0;34m(y_true, y_pred, beta, labels, pos_label, average, warn_for, sample_weight)\u001b[0m\n\u001b[1;32m   1045\u001b[0m         \u001b[0;32melse\u001b[0m\u001b[0;34m:\u001b[0m\u001b[0;34m\u001b[0m\u001b[0m\n\u001b[1;32m   1046\u001b[0m             raise ValueError(\"Target is %s but average='binary'. Please \"\n\u001b[0;32m-> 1047\u001b[0;31m                              \"choose another average setting.\" % y_type)\n\u001b[0m\u001b[1;32m   1048\u001b[0m     \u001b[0;32melif\u001b[0m \u001b[0mpos_label\u001b[0m \u001b[0;32mnot\u001b[0m \u001b[0;32min\u001b[0m \u001b[0;34m(\u001b[0m\u001b[0;32mNone\u001b[0m\u001b[0;34m,\u001b[0m \u001b[0;36m1\u001b[0m\u001b[0;34m)\u001b[0m\u001b[0;34m:\u001b[0m\u001b[0;34m\u001b[0m\u001b[0m\n\u001b[1;32m   1049\u001b[0m         warnings.warn(\"Note that pos_label (set to %r) is ignored when \"\n",
      "\u001b[0;31mValueError\u001b[0m: Target is multiclass but average='binary'. Please choose another average setting."
     ]
    }
   ],
   "source": [
    "ev.summarize_performance(rf_grid, X_train, y_train, proba=False)"
   ]
  },
  {
   "cell_type": "code",
   "execution_count": null,
   "metadata": {},
   "outputs": [],
   "source": [
    "ev.summarize_performance(rf_grid.best_estimator_, X_test, y_test, proba=False)"
   ]
  },
  {
   "cell_type": "code",
   "execution_count": 48,
   "metadata": {},
   "outputs": [
    {
     "name": "stdout",
     "output_type": "stream",
     "text": [
      "Feature ranking:\n",
      "1. feature MCF-7_ChIP-seq_CTCF_ENCSR000AHD_ENCFF001UML_ENCFF001UMN_intersect.bed (0.004608)\n",
      "2. feature MCF-7_ChIP-seq_TAF1_ENCSR000AHF_ENCFF001UNU_ENCFF001UNT_intersect.bed (0.003527)\n",
      "3. feature GM12878_ChIP-seq_CTCF_ENCFF002CDP.bed (0.003110)\n",
      "4. feature K562_ChIP-seq_CTCF_ENCFF002CEL.bed (0.003068)\n",
      "5. feature K562_ChIP-seq_POLR2A_ENCFF002CET.bed (0.002865)\n",
      "6. feature endothelial_cell_of_umbilical_vein_ChIP-seq_CTCF_ENCFF002CEH.bed (0.002765)\n",
      "7. feature endothelial_cell_of_umbilical_vein_ChIP-seq_POLR2A_ENCFF002CEJ.bed (0.002481)\n",
      "8. feature keratinocyte_ChIP-seq_CTCF_ENCFF002CFA.bed (0.002280)\n",
      "9. feature keratinocyte_ChIP-seq_POLR2A_ENCFF002CFC.bed (0.002245)\n",
      "10. feature H1-hESC_ChIP-seq_H3K27me3_ENCFF001SUY.bed (0.002223)\n",
      "11. feature mammary_epithelial_cell_ChIP-seq_CTCF_ENCFF002CEB.bed (0.002163)\n",
      "12. feature HepG2_ChIP-seq_CTCF_ENCFF002CDZ.bed (0.002115)\n",
      "13. feature H1-hESC_ChIP-seq_CTCF_ENCFF002CDS.bed (0.002067)\n",
      "14. feature H1-hESC_ChIP-seq_H3K4me3_ENCFF001SVC.bed (0.001936)\n",
      "15. feature H1-hESC_ChIP-seq_H4K20me1_ENCFF001SVF.bed (0.001862)\n",
      "16. feature H1-hESC_ChIP-seq_H3K4me1_ENCFF001SVA.bed (0.001856)\n",
      "17. feature H1-hESC_ChIP-seq_H3K36me3_ENCFF001SUZ.bed (0.001791)\n",
      "18. feature H1-hESC_ChIP-seq_H3K4me2_ENCFF001SVB.bed (0.001757)\n",
      "19. feature H1-hESC_ChIP-seq_H3K9ac_ENCFF001SVE.bed (0.001728)\n",
      "20. feature skeletal_muscle_myoblast_ChIP-seq_CTCF_ENCFF002CED.bed (0.001686)\n"
     ]
    }
   ],
   "source": [
    "top_n_features = 20\n",
    "\n",
    "forest = rf_grid.best_estimator_\n",
    "importances = rf_grid.best_estimator_.feature_importances_\n",
    "std = np.std([tree.feature_importances_ for tree in forest.estimators_], axis=0)\n",
    "indices = np.argsort(importances)[::-1]\n",
    "\n",
    "# Print the feature ranking\n",
    "print(\"Feature ranking:\")\n",
    "\n",
    "for f in range(top_n_features):\n",
    "    print(\"%d. feature %s (%f)\" % (f + 1, X_train.columns[f], importances[indices[f]]))"
   ]
  },
  {
   "cell_type": "code",
   "execution_count": null,
   "metadata": {},
   "outputs": [],
   "source": []
  },
  {
   "cell_type": "markdown",
   "metadata": {
    "collapsed": true
   },
   "source": [
    "### Support Vector Machine "
   ]
  },
  {
   "cell_type": "markdown",
   "metadata": {},
   "source": [
    "When used with a linear kernel still allows for evaluation of feature coefficients. Class weight parameter sets regularization parameter C for class i to n_samples / (n_classes * np.bincount(y)) "
   ]
  },
  {
   "cell_type": "code",
   "execution_count": 49,
   "metadata": {},
   "outputs": [
    {
     "data": {
      "text/plain": [
       "SVC(C=1.0, cache_size=200, class_weight='balanced', coef0=0.0,\n",
       "  decision_function_shape='ovr', degree=3, gamma='auto_deprecated',\n",
       "  kernel='linear', max_iter=5000, probability=True, random_state=None,\n",
       "  shrinking=True, tol=0.001, verbose=False)"
      ]
     },
     "execution_count": 49,
     "metadata": {},
     "output_type": "execute_result"
    }
   ],
   "source": [
    "svm_model = SVC(kernel='linear', class_weight='balanced', probability=True, max_iter=5000)\n",
    "svm_model.fit(X_train, y_train, sample_weight=sample_weight)"
   ]
  },
  {
   "cell_type": "code",
   "execution_count": 50,
   "metadata": {},
   "outputs": [
    {
     "name": "stdout",
     "output_type": "stream",
     "text": [
      "Training Dataset SVM Model Performance:\n",
      " Precision: 1.0\n",
      " Recall: 1.0\n",
      " Accuracy: 1.0\n"
     ]
    }
   ],
   "source": [
    "print(\"Training Dataset SVM\", end=\" \")\n",
    "ev.summarize_performance(svm_model, X_train, y_train,  binary=False, average='micro', proba=False)"
   ]
  },
  {
   "cell_type": "code",
   "execution_count": 51,
   "metadata": {},
   "outputs": [
    {
     "name": "stdout",
     "output_type": "stream",
     "text": [
      "Training Dataset SVM Model Performance:\n",
      " Precision: 0.20253164556962025\n",
      " Recall: 0.21052631578947367\n",
      " Accuracy: 0.768796992481203\n"
     ]
    }
   ],
   "source": [
    "print(\"Training Dataset SVM\", end=\" \")\n",
    "ev.summarize_performance(svm_model, X_test, y_test, binary=False, average='micro', proba=False)"
   ]
  },
  {
   "cell_type": "code",
   "execution_count": 52,
   "metadata": {},
   "outputs": [
    {
     "data": {
      "text/html": [
       "<div>\n",
       "<style scoped>\n",
       "    .dataframe tbody tr th:only-of-type {\n",
       "        vertical-align: middle;\n",
       "    }\n",
       "\n",
       "    .dataframe tbody tr th {\n",
       "        vertical-align: top;\n",
       "    }\n",
       "\n",
       "    .dataframe thead th {\n",
       "        text-align: right;\n",
       "    }\n",
       "</style>\n",
       "<table border=\"1\" class=\"dataframe\">\n",
       "  <thead>\n",
       "    <tr style=\"text-align: right;\">\n",
       "      <th></th>\n",
       "      <th>MCF-7_ChIP-seq_CTCF_ENCSR000AHD_ENCFF001UML_ENCFF001UMN_intersect.bed</th>\n",
       "      <th>MCF-7_ChIP-seq_TAF1_ENCSR000AHF_ENCFF001UNU_ENCFF001UNT_intersect.bed</th>\n",
       "      <th>GM12878_ChIP-seq_CTCF_ENCFF002CDP.bed</th>\n",
       "      <th>K562_ChIP-seq_CTCF_ENCFF002CEL.bed</th>\n",
       "      <th>K562_ChIP-seq_POLR2A_ENCFF002CET.bed</th>\n",
       "      <th>endothelial_cell_of_umbilical_vein_ChIP-seq_CTCF_ENCFF002CEH.bed</th>\n",
       "      <th>endothelial_cell_of_umbilical_vein_ChIP-seq_POLR2A_ENCFF002CEJ.bed</th>\n",
       "      <th>keratinocyte_ChIP-seq_CTCF_ENCFF002CFA.bed</th>\n",
       "      <th>keratinocyte_ChIP-seq_POLR2A_ENCFF002CFC.bed</th>\n",
       "      <th>H1-hESC_ChIP-seq_H3K27me3_ENCFF001SUY.bed</th>\n",
       "      <th>...</th>\n",
       "      <th>Hepatocyte_PPARA_GW7647_2hr.bed</th>\n",
       "      <th>Hepatocyte_PPARA_GW7647_24hr.bed</th>\n",
       "      <th>liver_USF1_ctrl_peaks.narrowPeak</th>\n",
       "      <th>liver_USF1_ASH_peaks.narrowPeak</th>\n",
       "      <th>islet_pooled_H3K4me1_final.bed</th>\n",
       "      <th>islet_CTCF_intersectall.bed</th>\n",
       "      <th>islet_H3K27ac.bed</th>\n",
       "      <th>islet_pooled_H3K27ac.bed</th>\n",
       "      <th>islet_pooled_H3K4me3_peaks.broadPeak</th>\n",
       "      <th>snpcount</th>\n",
       "    </tr>\n",
       "  </thead>\n",
       "  <tbody>\n",
       "    <tr>\n",
       "      <th>546</th>\n",
       "      <td>0</td>\n",
       "      <td>0</td>\n",
       "      <td>0</td>\n",
       "      <td>0</td>\n",
       "      <td>0</td>\n",
       "      <td>0</td>\n",
       "      <td>0</td>\n",
       "      <td>0</td>\n",
       "      <td>0</td>\n",
       "      <td>0</td>\n",
       "      <td>...</td>\n",
       "      <td>0</td>\n",
       "      <td>0</td>\n",
       "      <td>0</td>\n",
       "      <td>0</td>\n",
       "      <td>0</td>\n",
       "      <td>0</td>\n",
       "      <td>0</td>\n",
       "      <td>0</td>\n",
       "      <td>0</td>\n",
       "      <td>18</td>\n",
       "    </tr>\n",
       "    <tr>\n",
       "      <th>130</th>\n",
       "      <td>0</td>\n",
       "      <td>0</td>\n",
       "      <td>0</td>\n",
       "      <td>0</td>\n",
       "      <td>0</td>\n",
       "      <td>0</td>\n",
       "      <td>0</td>\n",
       "      <td>0</td>\n",
       "      <td>0</td>\n",
       "      <td>0</td>\n",
       "      <td>...</td>\n",
       "      <td>0</td>\n",
       "      <td>0</td>\n",
       "      <td>0</td>\n",
       "      <td>0</td>\n",
       "      <td>0</td>\n",
       "      <td>0</td>\n",
       "      <td>0</td>\n",
       "      <td>0</td>\n",
       "      <td>0</td>\n",
       "      <td>21</td>\n",
       "    </tr>\n",
       "    <tr>\n",
       "      <th>729</th>\n",
       "      <td>0</td>\n",
       "      <td>0</td>\n",
       "      <td>0</td>\n",
       "      <td>0</td>\n",
       "      <td>0</td>\n",
       "      <td>0</td>\n",
       "      <td>0</td>\n",
       "      <td>0</td>\n",
       "      <td>0</td>\n",
       "      <td>0</td>\n",
       "      <td>...</td>\n",
       "      <td>0</td>\n",
       "      <td>0</td>\n",
       "      <td>0</td>\n",
       "      <td>0</td>\n",
       "      <td>0</td>\n",
       "      <td>0</td>\n",
       "      <td>0</td>\n",
       "      <td>0</td>\n",
       "      <td>0</td>\n",
       "      <td>2</td>\n",
       "    </tr>\n",
       "    <tr>\n",
       "      <th>1647</th>\n",
       "      <td>0</td>\n",
       "      <td>0</td>\n",
       "      <td>0</td>\n",
       "      <td>0</td>\n",
       "      <td>1</td>\n",
       "      <td>0</td>\n",
       "      <td>0</td>\n",
       "      <td>0</td>\n",
       "      <td>0</td>\n",
       "      <td>0</td>\n",
       "      <td>...</td>\n",
       "      <td>0</td>\n",
       "      <td>0</td>\n",
       "      <td>0</td>\n",
       "      <td>0</td>\n",
       "      <td>1</td>\n",
       "      <td>0</td>\n",
       "      <td>1</td>\n",
       "      <td>1</td>\n",
       "      <td>0</td>\n",
       "      <td>36</td>\n",
       "    </tr>\n",
       "    <tr>\n",
       "      <th>206</th>\n",
       "      <td>1</td>\n",
       "      <td>0</td>\n",
       "      <td>0</td>\n",
       "      <td>1</td>\n",
       "      <td>0</td>\n",
       "      <td>0</td>\n",
       "      <td>0</td>\n",
       "      <td>0</td>\n",
       "      <td>0</td>\n",
       "      <td>0</td>\n",
       "      <td>...</td>\n",
       "      <td>0</td>\n",
       "      <td>0</td>\n",
       "      <td>0</td>\n",
       "      <td>0</td>\n",
       "      <td>0</td>\n",
       "      <td>0</td>\n",
       "      <td>0</td>\n",
       "      <td>0</td>\n",
       "      <td>0</td>\n",
       "      <td>8</td>\n",
       "    </tr>\n",
       "  </tbody>\n",
       "</table>\n",
       "<p>5 rows × 2748 columns</p>\n",
       "</div>"
      ],
      "text/plain": [
       "      MCF-7_ChIP-seq_CTCF_ENCSR000AHD_ENCFF001UML_ENCFF001UMN_intersect.bed  \\\n",
       "546                                                   0                       \n",
       "130                                                   0                       \n",
       "729                                                   0                       \n",
       "1647                                                  0                       \n",
       "206                                                   1                       \n",
       "\n",
       "      MCF-7_ChIP-seq_TAF1_ENCSR000AHF_ENCFF001UNU_ENCFF001UNT_intersect.bed  \\\n",
       "546                                                   0                       \n",
       "130                                                   0                       \n",
       "729                                                   0                       \n",
       "1647                                                  0                       \n",
       "206                                                   0                       \n",
       "\n",
       "      GM12878_ChIP-seq_CTCF_ENCFF002CDP.bed  \\\n",
       "546                                       0   \n",
       "130                                       0   \n",
       "729                                       0   \n",
       "1647                                      0   \n",
       "206                                       0   \n",
       "\n",
       "      K562_ChIP-seq_CTCF_ENCFF002CEL.bed  \\\n",
       "546                                    0   \n",
       "130                                    0   \n",
       "729                                    0   \n",
       "1647                                   0   \n",
       "206                                    1   \n",
       "\n",
       "      K562_ChIP-seq_POLR2A_ENCFF002CET.bed  \\\n",
       "546                                      0   \n",
       "130                                      0   \n",
       "729                                      0   \n",
       "1647                                     1   \n",
       "206                                      0   \n",
       "\n",
       "      endothelial_cell_of_umbilical_vein_ChIP-seq_CTCF_ENCFF002CEH.bed  \\\n",
       "546                                                   0                  \n",
       "130                                                   0                  \n",
       "729                                                   0                  \n",
       "1647                                                  0                  \n",
       "206                                                   0                  \n",
       "\n",
       "      endothelial_cell_of_umbilical_vein_ChIP-seq_POLR2A_ENCFF002CEJ.bed  \\\n",
       "546                                                   0                    \n",
       "130                                                   0                    \n",
       "729                                                   0                    \n",
       "1647                                                  0                    \n",
       "206                                                   0                    \n",
       "\n",
       "      keratinocyte_ChIP-seq_CTCF_ENCFF002CFA.bed  \\\n",
       "546                                            0   \n",
       "130                                            0   \n",
       "729                                            0   \n",
       "1647                                           0   \n",
       "206                                            0   \n",
       "\n",
       "      keratinocyte_ChIP-seq_POLR2A_ENCFF002CFC.bed  \\\n",
       "546                                              0   \n",
       "130                                              0   \n",
       "729                                              0   \n",
       "1647                                             0   \n",
       "206                                              0   \n",
       "\n",
       "      H1-hESC_ChIP-seq_H3K27me3_ENCFF001SUY.bed    ...     \\\n",
       "546                                           0    ...      \n",
       "130                                           0    ...      \n",
       "729                                           0    ...      \n",
       "1647                                          0    ...      \n",
       "206                                           0    ...      \n",
       "\n",
       "      Hepatocyte_PPARA_GW7647_2hr.bed  Hepatocyte_PPARA_GW7647_24hr.bed  \\\n",
       "546                                 0                                 0   \n",
       "130                                 0                                 0   \n",
       "729                                 0                                 0   \n",
       "1647                                0                                 0   \n",
       "206                                 0                                 0   \n",
       "\n",
       "      liver_USF1_ctrl_peaks.narrowPeak  liver_USF1_ASH_peaks.narrowPeak  \\\n",
       "546                                  0                                0   \n",
       "130                                  0                                0   \n",
       "729                                  0                                0   \n",
       "1647                                 0                                0   \n",
       "206                                  0                                0   \n",
       "\n",
       "      islet_pooled_H3K4me1_final.bed  islet_CTCF_intersectall.bed  \\\n",
       "546                                0                            0   \n",
       "130                                0                            0   \n",
       "729                                0                            0   \n",
       "1647                               1                            0   \n",
       "206                                0                            0   \n",
       "\n",
       "      islet_H3K27ac.bed  islet_pooled_H3K27ac.bed  \\\n",
       "546                   0                         0   \n",
       "130                   0                         0   \n",
       "729                   0                         0   \n",
       "1647                  1                         1   \n",
       "206                   0                         0   \n",
       "\n",
       "      islet_pooled_H3K4me3_peaks.broadPeak  snpcount  \n",
       "546                                      0        18  \n",
       "130                                      0        21  \n",
       "729                                      0         2  \n",
       "1647                                     0        36  \n",
       "206                                      0         8  \n",
       "\n",
       "[5 rows x 2748 columns]"
      ]
     },
     "execution_count": 52,
     "metadata": {},
     "output_type": "execute_result"
    }
   ],
   "source": [
    "# Display samples that have been chosen as support vectors\n",
    "svec_indices = svm_model.support_\n",
    "svec_df = X_train.iloc[[124, 60, 112, 184, 53], :]\n",
    "svec_df.tail()"
   ]
  },
  {
   "cell_type": "code",
   "execution_count": 53,
   "metadata": {},
   "outputs": [
    {
     "data": {
      "image/png": "[encoded data removed]",
      "text/plain": [
       "<Figure size 460.8x403.2 with 1 Axes>"
      ]
     },
     "metadata": {},
     "output_type": "display_data"
    }
   ],
   "source": [
    "ev.plot_roc_curve(svm_model, X_test, y_test)"
   ]
  },
  {
   "cell_type": "code",
   "execution_count": 1,
   "metadata": {},
   "outputs": [],
   "source": [
    "# Plot feature importance\n",
    "coefs = svm_model.coef_\n",
    "feature_names = X_train.columns\n",
    "important features = ev.feat_importance(coefs, feature_names, 20, one_dim=False)"
   ]
  },
  {
   "cell_type": "code",
   "execution_count": null,
   "metadata": {},
   "outputs": [],
   "source": []
  }
 ],
 "metadata": {
  "kernelspec": {
   "display_name": "Python 3",
   "language": "python",
   "name": "python3"
  },
  "language_info": {
   "codemirror_mode": {
    "name": "ipython",
    "version": 3
   },
   "file_extension": ".py",
   "mimetype": "text/x-python",
   "name": "python",
   "nbconvert_exporter": "python",
   "pygments_lexer": "ipython3",
   "version": "3.6.6"
  }
 },
 "nbformat": 4,
 "nbformat_minor": 2
}
