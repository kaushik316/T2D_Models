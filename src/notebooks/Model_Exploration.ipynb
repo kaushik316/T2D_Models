{
 "cells": [
  {
   "cell_type": "markdown",
   "metadata": {},
   "source": [
    "# Traits models initial run"
   ]
  },
  {
   "cell_type": "markdown",
   "metadata": {},
   "source": [
    "A first pass fitting a few different sklearn classifiers to the T2D and Lipids datasets. Though some initial preprocessing is conducted on the data no feature selection is performed at this stage. It should be noted that this notebook is meant to show an exploratory look into out of the box model performance. It should be noted that as there are currently more features than samples in the datasets (2750 features vs ~2100 samples), there aren't enough degrees of freedom to optimally fit an interpretable linear model."
   ]
  },
  {
   "cell_type": "code",
   "execution_count": 18,
   "metadata": {},
   "outputs": [],
   "source": [
    "import pandas as pd\n",
    "import numpy as np\n",
    "import sys\n",
    "import os\n",
    "import s3fs\n",
    "import boto\n",
    "from sklearn.model_selection import train_test_split\n",
    "from sklearn.linear_model import LogisticRegressionCV\n",
    "from sklearn.linear_model import LogisticRegression\n",
    "from sklearn.model_selection import StratifiedShuffleSplit\n",
    "from sklearn.model_selection import GridSearchCV\n",
    "from sklearn.ensemble import RandomForestClassifier\n",
    "from sklearn.svm import LinearSVC\n",
    "from sklearn.svm import SVC\n",
    "from sklearn.naive_bayes import ComplementNB\n",
    "from sklearn.metrics import roc_curve, auc\n",
    "from sklearn.metrics import precision_score, recall_score, accuracy_score\n",
    "import warnings\n",
    "from matplotlib import pyplot as plt\n",
    "plt.style.use('ggplot')\n",
    "warnings.filterwarnings(action='ignore')\n",
    "import sklearn \n",
    "import jupyterthemes\n",
    "from jupyterthemes import jtplot\n",
    "jtplot.style(theme='oceans16')\n",
    "sys.path.insert(1, os.path.join(sys.path[0], '..'))\n",
    "from auth import access_key, secret_key\n",
    "from Evaluator import Evaluator\n",
    "import itertools"
   ]
  },
  {
   "cell_type": "code",
   "execution_count": null,
   "metadata": {},
   "outputs": [],
   "source": []
  },
  {
   "cell_type": "markdown",
   "metadata": {},
   "source": [
    "### Data Preprocessing"
   ]
  },
  {
   "cell_type": "code",
   "execution_count": 23,
   "metadata": {},
   "outputs": [],
   "source": [
    "# Alter with lipids/t2d/other if needed\n",
    "options = [\"t2d\", \"lipids\"]\n",
    "trait = options[0]\n",
    "\n",
    "train_filepath = \"S3://voightlab-data/{}/{}_training_ML_table.txt\".format(trait, trait)\n",
    "test_filepath = \"S3://voightlab-data/{}/{}_testing_ML_table.txt\".format(trait, trait)\n",
    "\n",
    "# Used to name the output files\n",
    "out_train = \"voightlab-data/{}/{}_train.csv\".format(trait, trait)\n",
    "out_test = \"voightlab-data/{}/{}_test.csv\".format(trait, trait)"
   ]
  },
  {
   "cell_type": "code",
   "execution_count": 24,
   "metadata": {},
   "outputs": [
    {
     "data": {
      "text/html": [
       "<div>\n",
       "<style scoped>\n",
       "    .dataframe tbody tr th:only-of-type {\n",
       "        vertical-align: middle;\n",
       "    }\n",
       "\n",
       "    .dataframe tbody tr th {\n",
       "        vertical-align: top;\n",
       "    }\n",
       "\n",
       "    .dataframe thead th {\n",
       "        text-align: right;\n",
       "    }\n",
       "</style>\n",
       "<table border=\"1\" class=\"dataframe\">\n",
       "  <thead>\n",
       "    <tr style=\"text-align: right;\">\n",
       "      <th></th>\n",
       "      <th>snp</th>\n",
       "      <th>type</th>\n",
       "      <th>MCF-7_ChIP-seq_CTCF_ENCSR000AHD_ENCFF001UML_ENCFF001UMN_intersect.bed</th>\n",
       "      <th>MCF-7_ChIP-seq_TAF1_ENCSR000AHF_ENCFF001UNU_ENCFF001UNT_intersect.bed</th>\n",
       "      <th>GM12878_ChIP-seq_CTCF_ENCFF002CDP.bed</th>\n",
       "      <th>K562_ChIP-seq_CTCF_ENCFF002CEL.bed</th>\n",
       "      <th>K562_ChIP-seq_POLR2A_ENCFF002CET.bed</th>\n",
       "      <th>endothelial_cell_of_umbilical_vein_ChIP-seq_CTCF_ENCFF002CEH.bed</th>\n",
       "      <th>endothelial_cell_of_umbilical_vein_ChIP-seq_POLR2A_ENCFF002CEJ.bed</th>\n",
       "      <th>keratinocyte_ChIP-seq_CTCF_ENCFF002CFA.bed</th>\n",
       "      <th>...</th>\n",
       "      <th>Hepatocyte_PPARA_GW7647_2hr.bed</th>\n",
       "      <th>Hepatocyte_PPARA_GW7647_24hr.bed</th>\n",
       "      <th>liver_USF1_ctrl_peaks.narrowPeak</th>\n",
       "      <th>liver_USF1_ASH_peaks.narrowPeak</th>\n",
       "      <th>islet_pooled_H3K4me1_final.bed</th>\n",
       "      <th>islet_CTCF_intersectall.bed</th>\n",
       "      <th>islet_H3K27ac.bed</th>\n",
       "      <th>islet_pooled_H3K27ac.bed</th>\n",
       "      <th>islet_pooled_H3K4me3_peaks.broadPeak</th>\n",
       "      <th>snpcount</th>\n",
       "    </tr>\n",
       "  </thead>\n",
       "  <tbody>\n",
       "    <tr>\n",
       "      <th>2116</th>\n",
       "      <td>Chr1_Group_1072</td>\n",
       "      <td>control</td>\n",
       "      <td>0</td>\n",
       "      <td>0</td>\n",
       "      <td>0</td>\n",
       "      <td>0</td>\n",
       "      <td>0</td>\n",
       "      <td>0</td>\n",
       "      <td>0</td>\n",
       "      <td>0</td>\n",
       "      <td>...</td>\n",
       "      <td>0</td>\n",
       "      <td>0</td>\n",
       "      <td>0</td>\n",
       "      <td>0</td>\n",
       "      <td>0</td>\n",
       "      <td>0</td>\n",
       "      <td>1</td>\n",
       "      <td>1</td>\n",
       "      <td>1</td>\n",
       "      <td>65</td>\n",
       "    </tr>\n",
       "    <tr>\n",
       "      <th>2117</th>\n",
       "      <td>Chr2_Group_372</td>\n",
       "      <td>control</td>\n",
       "      <td>1</td>\n",
       "      <td>0</td>\n",
       "      <td>0</td>\n",
       "      <td>1</td>\n",
       "      <td>0</td>\n",
       "      <td>1</td>\n",
       "      <td>0</td>\n",
       "      <td>1</td>\n",
       "      <td>...</td>\n",
       "      <td>0</td>\n",
       "      <td>0</td>\n",
       "      <td>0</td>\n",
       "      <td>0</td>\n",
       "      <td>0</td>\n",
       "      <td>1</td>\n",
       "      <td>0</td>\n",
       "      <td>0</td>\n",
       "      <td>0</td>\n",
       "      <td>5</td>\n",
       "    </tr>\n",
       "    <tr>\n",
       "      <th>2118</th>\n",
       "      <td>Chr17_Group_188</td>\n",
       "      <td>control</td>\n",
       "      <td>0</td>\n",
       "      <td>0</td>\n",
       "      <td>0</td>\n",
       "      <td>0</td>\n",
       "      <td>0</td>\n",
       "      <td>0</td>\n",
       "      <td>0</td>\n",
       "      <td>0</td>\n",
       "      <td>...</td>\n",
       "      <td>0</td>\n",
       "      <td>0</td>\n",
       "      <td>0</td>\n",
       "      <td>0</td>\n",
       "      <td>0</td>\n",
       "      <td>0</td>\n",
       "      <td>0</td>\n",
       "      <td>1</td>\n",
       "      <td>0</td>\n",
       "      <td>8</td>\n",
       "    </tr>\n",
       "    <tr>\n",
       "      <th>2119</th>\n",
       "      <td>Chr22_Group_200</td>\n",
       "      <td>control</td>\n",
       "      <td>0</td>\n",
       "      <td>0</td>\n",
       "      <td>0</td>\n",
       "      <td>0</td>\n",
       "      <td>0</td>\n",
       "      <td>0</td>\n",
       "      <td>0</td>\n",
       "      <td>0</td>\n",
       "      <td>...</td>\n",
       "      <td>0</td>\n",
       "      <td>0</td>\n",
       "      <td>0</td>\n",
       "      <td>0</td>\n",
       "      <td>0</td>\n",
       "      <td>0</td>\n",
       "      <td>1</td>\n",
       "      <td>1</td>\n",
       "      <td>1</td>\n",
       "      <td>5</td>\n",
       "    </tr>\n",
       "    <tr>\n",
       "      <th>2120</th>\n",
       "      <td>Chr6_Group_23</td>\n",
       "      <td>control</td>\n",
       "      <td>0</td>\n",
       "      <td>0</td>\n",
       "      <td>0</td>\n",
       "      <td>0</td>\n",
       "      <td>0</td>\n",
       "      <td>0</td>\n",
       "      <td>0</td>\n",
       "      <td>0</td>\n",
       "      <td>...</td>\n",
       "      <td>0</td>\n",
       "      <td>0</td>\n",
       "      <td>0</td>\n",
       "      <td>0</td>\n",
       "      <td>0</td>\n",
       "      <td>0</td>\n",
       "      <td>0</td>\n",
       "      <td>0</td>\n",
       "      <td>0</td>\n",
       "      <td>31</td>\n",
       "    </tr>\n",
       "  </tbody>\n",
       "</table>\n",
       "<p>5 rows × 2750 columns</p>\n",
       "</div>"
      ],
      "text/plain": [
       "                  snp     type  \\\n",
       "2116  Chr1_Group_1072  control   \n",
       "2117   Chr2_Group_372  control   \n",
       "2118  Chr17_Group_188  control   \n",
       "2119  Chr22_Group_200  control   \n",
       "2120    Chr6_Group_23  control   \n",
       "\n",
       "      MCF-7_ChIP-seq_CTCF_ENCSR000AHD_ENCFF001UML_ENCFF001UMN_intersect.bed  \\\n",
       "2116                                                  0                       \n",
       "2117                                                  1                       \n",
       "2118                                                  0                       \n",
       "2119                                                  0                       \n",
       "2120                                                  0                       \n",
       "\n",
       "      MCF-7_ChIP-seq_TAF1_ENCSR000AHF_ENCFF001UNU_ENCFF001UNT_intersect.bed  \\\n",
       "2116                                                  0                       \n",
       "2117                                                  0                       \n",
       "2118                                                  0                       \n",
       "2119                                                  0                       \n",
       "2120                                                  0                       \n",
       "\n",
       "      GM12878_ChIP-seq_CTCF_ENCFF002CDP.bed  \\\n",
       "2116                                      0   \n",
       "2117                                      0   \n",
       "2118                                      0   \n",
       "2119                                      0   \n",
       "2120                                      0   \n",
       "\n",
       "      K562_ChIP-seq_CTCF_ENCFF002CEL.bed  \\\n",
       "2116                                   0   \n",
       "2117                                   1   \n",
       "2118                                   0   \n",
       "2119                                   0   \n",
       "2120                                   0   \n",
       "\n",
       "      K562_ChIP-seq_POLR2A_ENCFF002CET.bed  \\\n",
       "2116                                     0   \n",
       "2117                                     0   \n",
       "2118                                     0   \n",
       "2119                                     0   \n",
       "2120                                     0   \n",
       "\n",
       "      endothelial_cell_of_umbilical_vein_ChIP-seq_CTCF_ENCFF002CEH.bed  \\\n",
       "2116                                                  0                  \n",
       "2117                                                  1                  \n",
       "2118                                                  0                  \n",
       "2119                                                  0                  \n",
       "2120                                                  0                  \n",
       "\n",
       "      endothelial_cell_of_umbilical_vein_ChIP-seq_POLR2A_ENCFF002CEJ.bed  \\\n",
       "2116                                                  0                    \n",
       "2117                                                  0                    \n",
       "2118                                                  0                    \n",
       "2119                                                  0                    \n",
       "2120                                                  0                    \n",
       "\n",
       "      keratinocyte_ChIP-seq_CTCF_ENCFF002CFA.bed    ...     \\\n",
       "2116                                           0    ...      \n",
       "2117                                           1    ...      \n",
       "2118                                           0    ...      \n",
       "2119                                           0    ...      \n",
       "2120                                           0    ...      \n",
       "\n",
       "      Hepatocyte_PPARA_GW7647_2hr.bed  Hepatocyte_PPARA_GW7647_24hr.bed  \\\n",
       "2116                                0                                 0   \n",
       "2117                                0                                 0   \n",
       "2118                                0                                 0   \n",
       "2119                                0                                 0   \n",
       "2120                                0                                 0   \n",
       "\n",
       "      liver_USF1_ctrl_peaks.narrowPeak  liver_USF1_ASH_peaks.narrowPeak  \\\n",
       "2116                                 0                                0   \n",
       "2117                                 0                                0   \n",
       "2118                                 0                                0   \n",
       "2119                                 0                                0   \n",
       "2120                                 0                                0   \n",
       "\n",
       "      islet_pooled_H3K4me1_final.bed  islet_CTCF_intersectall.bed  \\\n",
       "2116                               0                            0   \n",
       "2117                               0                            1   \n",
       "2118                               0                            0   \n",
       "2119                               0                            0   \n",
       "2120                               0                            0   \n",
       "\n",
       "      islet_H3K27ac.bed  islet_pooled_H3K27ac.bed  \\\n",
       "2116                  1                         1   \n",
       "2117                  0                         0   \n",
       "2118                  0                         1   \n",
       "2119                  1                         1   \n",
       "2120                  0                         0   \n",
       "\n",
       "      islet_pooled_H3K4me3_peaks.broadPeak  snpcount  \n",
       "2116                                     1        65  \n",
       "2117                                     0         5  \n",
       "2118                                     0         8  \n",
       "2119                                     1         5  \n",
       "2120                                     0        31  \n",
       "\n",
       "[5 rows x 2750 columns]"
      ]
     },
     "execution_count": 24,
     "metadata": {},
     "output_type": "execute_result"
    }
   ],
   "source": [
    "train_df = pd.read_table(train_filepath)\n",
    "test_df = pd.read_table(test_filepath)\n",
    "train_df.tail()"
   ]
  },
  {
   "cell_type": "code",
   "execution_count": 25,
   "metadata": {},
   "outputs": [],
   "source": [
    "# Read in data and compare class balances\n",
    "def show_counts(df, pos_col, neg_col):\n",
    "    positives = df['type'].value_counts()[pos_col]\n",
    "    controls = df['type'].value_counts()[neg_col]\n",
    "    total = len(df)\n",
    "    print (\"Total samples: {} \\nPositives: {} \\nControls: {}\".format(total, positives, controls))"
   ]
  },
  {
   "cell_type": "code",
   "execution_count": 26,
   "metadata": {},
   "outputs": [
    {
     "name": "stdout",
     "output_type": "stream",
     "text": [
      "Total samples: 2121 \n",
      "Positives: 303 \n",
      "Controls: 1818\n"
     ]
    }
   ],
   "source": [
    "# Read in training data and compare class balances\n",
    "show_counts(train_df, 'index', 'control')"
   ]
  },
  {
   "cell_type": "code",
   "execution_count": 27,
   "metadata": {},
   "outputs": [
    {
     "name": "stdout",
     "output_type": "stream",
     "text": [
      "Total samples: 1064 \n",
      "Positives: 152 \n",
      "Controls: 912\n"
     ]
    }
   ],
   "source": [
    "# Read in testing data and compare class balances\n",
    "show_counts(test_df, 'index', 'control')"
   ]
  },
  {
   "cell_type": "code",
   "execution_count": 28,
   "metadata": {},
   "outputs": [],
   "source": [
    "# Change labels to 0 or 1 for control or positive\n",
    "train_df['type'] = train_df['type'].apply(lambda x: 0 if x == 'control' else 1)\n",
    "test_df['type'] = test_df['type'].apply(lambda x: 0 if x == 'control' else 1)\n",
    "\n",
    "# Add sample weights based on prevalence of class\n",
    "train_df['weight'] = train_df['type'].apply(lambda x: 1.5 if x == 1 else 1)"
   ]
  },
  {
   "cell_type": "code",
   "execution_count": 29,
   "metadata": {},
   "outputs": [
    {
     "data": {
      "text/html": [
       "<div>\n",
       "<style scoped>\n",
       "    .dataframe tbody tr th:only-of-type {\n",
       "        vertical-align: middle;\n",
       "    }\n",
       "\n",
       "    .dataframe tbody tr th {\n",
       "        vertical-align: top;\n",
       "    }\n",
       "\n",
       "    .dataframe thead th {\n",
       "        text-align: right;\n",
       "    }\n",
       "</style>\n",
       "<table border=\"1\" class=\"dataframe\">\n",
       "  <thead>\n",
       "    <tr style=\"text-align: right;\">\n",
       "      <th></th>\n",
       "      <th>snp</th>\n",
       "      <th>type</th>\n",
       "      <th>MCF-7_ChIP-seq_CTCF_ENCSR000AHD_ENCFF001UML_ENCFF001UMN_intersect.bed</th>\n",
       "      <th>MCF-7_ChIP-seq_TAF1_ENCSR000AHF_ENCFF001UNU_ENCFF001UNT_intersect.bed</th>\n",
       "      <th>GM12878_ChIP-seq_CTCF_ENCFF002CDP.bed</th>\n",
       "      <th>K562_ChIP-seq_CTCF_ENCFF002CEL.bed</th>\n",
       "      <th>K562_ChIP-seq_POLR2A_ENCFF002CET.bed</th>\n",
       "      <th>endothelial_cell_of_umbilical_vein_ChIP-seq_CTCF_ENCFF002CEH.bed</th>\n",
       "      <th>endothelial_cell_of_umbilical_vein_ChIP-seq_POLR2A_ENCFF002CEJ.bed</th>\n",
       "      <th>keratinocyte_ChIP-seq_CTCF_ENCFF002CFA.bed</th>\n",
       "      <th>...</th>\n",
       "      <th>Hepatocyte_PPARA_GW7647_24hr.bed</th>\n",
       "      <th>liver_USF1_ctrl_peaks.narrowPeak</th>\n",
       "      <th>liver_USF1_ASH_peaks.narrowPeak</th>\n",
       "      <th>islet_pooled_H3K4me1_final.bed</th>\n",
       "      <th>islet_CTCF_intersectall.bed</th>\n",
       "      <th>islet_H3K27ac.bed</th>\n",
       "      <th>islet_pooled_H3K27ac.bed</th>\n",
       "      <th>islet_pooled_H3K4me3_peaks.broadPeak</th>\n",
       "      <th>snpcount</th>\n",
       "      <th>weight</th>\n",
       "    </tr>\n",
       "  </thead>\n",
       "  <tbody>\n",
       "    <tr>\n",
       "      <th>0</th>\n",
       "      <td>Chr12_Group_459</td>\n",
       "      <td>1</td>\n",
       "      <td>0</td>\n",
       "      <td>0</td>\n",
       "      <td>0</td>\n",
       "      <td>0</td>\n",
       "      <td>0</td>\n",
       "      <td>0</td>\n",
       "      <td>0</td>\n",
       "      <td>0</td>\n",
       "      <td>...</td>\n",
       "      <td>0</td>\n",
       "      <td>0</td>\n",
       "      <td>0</td>\n",
       "      <td>0</td>\n",
       "      <td>0</td>\n",
       "      <td>0</td>\n",
       "      <td>0</td>\n",
       "      <td>0</td>\n",
       "      <td>11</td>\n",
       "      <td>1.5</td>\n",
       "    </tr>\n",
       "    <tr>\n",
       "      <th>1</th>\n",
       "      <td>Chr6_Group_395</td>\n",
       "      <td>1</td>\n",
       "      <td>0</td>\n",
       "      <td>0</td>\n",
       "      <td>0</td>\n",
       "      <td>0</td>\n",
       "      <td>0</td>\n",
       "      <td>0</td>\n",
       "      <td>0</td>\n",
       "      <td>0</td>\n",
       "      <td>...</td>\n",
       "      <td>0</td>\n",
       "      <td>0</td>\n",
       "      <td>0</td>\n",
       "      <td>0</td>\n",
       "      <td>0</td>\n",
       "      <td>0</td>\n",
       "      <td>0</td>\n",
       "      <td>0</td>\n",
       "      <td>5</td>\n",
       "      <td>1.5</td>\n",
       "    </tr>\n",
       "    <tr>\n",
       "      <th>2</th>\n",
       "      <td>Chr5_Group_351</td>\n",
       "      <td>1</td>\n",
       "      <td>0</td>\n",
       "      <td>0</td>\n",
       "      <td>0</td>\n",
       "      <td>0</td>\n",
       "      <td>0</td>\n",
       "      <td>0</td>\n",
       "      <td>0</td>\n",
       "      <td>0</td>\n",
       "      <td>...</td>\n",
       "      <td>0</td>\n",
       "      <td>0</td>\n",
       "      <td>0</td>\n",
       "      <td>0</td>\n",
       "      <td>0</td>\n",
       "      <td>0</td>\n",
       "      <td>0</td>\n",
       "      <td>0</td>\n",
       "      <td>1</td>\n",
       "      <td>1.5</td>\n",
       "    </tr>\n",
       "    <tr>\n",
       "      <th>3</th>\n",
       "      <td>Chr16_Group_19</td>\n",
       "      <td>1</td>\n",
       "      <td>0</td>\n",
       "      <td>0</td>\n",
       "      <td>0</td>\n",
       "      <td>0</td>\n",
       "      <td>0</td>\n",
       "      <td>0</td>\n",
       "      <td>0</td>\n",
       "      <td>0</td>\n",
       "      <td>...</td>\n",
       "      <td>0</td>\n",
       "      <td>0</td>\n",
       "      <td>0</td>\n",
       "      <td>1</td>\n",
       "      <td>0</td>\n",
       "      <td>1</td>\n",
       "      <td>1</td>\n",
       "      <td>0</td>\n",
       "      <td>36</td>\n",
       "      <td>1.5</td>\n",
       "    </tr>\n",
       "    <tr>\n",
       "      <th>4</th>\n",
       "      <td>Chr5_Group_55</td>\n",
       "      <td>1</td>\n",
       "      <td>0</td>\n",
       "      <td>0</td>\n",
       "      <td>0</td>\n",
       "      <td>0</td>\n",
       "      <td>0</td>\n",
       "      <td>0</td>\n",
       "      <td>0</td>\n",
       "      <td>0</td>\n",
       "      <td>...</td>\n",
       "      <td>0</td>\n",
       "      <td>0</td>\n",
       "      <td>0</td>\n",
       "      <td>0</td>\n",
       "      <td>0</td>\n",
       "      <td>0</td>\n",
       "      <td>0</td>\n",
       "      <td>0</td>\n",
       "      <td>2</td>\n",
       "      <td>1.5</td>\n",
       "    </tr>\n",
       "  </tbody>\n",
       "</table>\n",
       "<p>5 rows × 2751 columns</p>\n",
       "</div>"
      ],
      "text/plain": [
       "               snp  type  \\\n",
       "0  Chr12_Group_459     1   \n",
       "1   Chr6_Group_395     1   \n",
       "2   Chr5_Group_351     1   \n",
       "3   Chr16_Group_19     1   \n",
       "4    Chr5_Group_55     1   \n",
       "\n",
       "   MCF-7_ChIP-seq_CTCF_ENCSR000AHD_ENCFF001UML_ENCFF001UMN_intersect.bed  \\\n",
       "0                                                  0                       \n",
       "1                                                  0                       \n",
       "2                                                  0                       \n",
       "3                                                  0                       \n",
       "4                                                  0                       \n",
       "\n",
       "   MCF-7_ChIP-seq_TAF1_ENCSR000AHF_ENCFF001UNU_ENCFF001UNT_intersect.bed  \\\n",
       "0                                                  0                       \n",
       "1                                                  0                       \n",
       "2                                                  0                       \n",
       "3                                                  0                       \n",
       "4                                                  0                       \n",
       "\n",
       "   GM12878_ChIP-seq_CTCF_ENCFF002CDP.bed  K562_ChIP-seq_CTCF_ENCFF002CEL.bed  \\\n",
       "0                                      0                                   0   \n",
       "1                                      0                                   0   \n",
       "2                                      0                                   0   \n",
       "3                                      0                                   0   \n",
       "4                                      0                                   0   \n",
       "\n",
       "   K562_ChIP-seq_POLR2A_ENCFF002CET.bed  \\\n",
       "0                                     0   \n",
       "1                                     0   \n",
       "2                                     0   \n",
       "3                                     0   \n",
       "4                                     0   \n",
       "\n",
       "   endothelial_cell_of_umbilical_vein_ChIP-seq_CTCF_ENCFF002CEH.bed  \\\n",
       "0                                                  0                  \n",
       "1                                                  0                  \n",
       "2                                                  0                  \n",
       "3                                                  0                  \n",
       "4                                                  0                  \n",
       "\n",
       "   endothelial_cell_of_umbilical_vein_ChIP-seq_POLR2A_ENCFF002CEJ.bed  \\\n",
       "0                                                  0                    \n",
       "1                                                  0                    \n",
       "2                                                  0                    \n",
       "3                                                  0                    \n",
       "4                                                  0                    \n",
       "\n",
       "   keratinocyte_ChIP-seq_CTCF_ENCFF002CFA.bed   ...    \\\n",
       "0                                           0   ...     \n",
       "1                                           0   ...     \n",
       "2                                           0   ...     \n",
       "3                                           0   ...     \n",
       "4                                           0   ...     \n",
       "\n",
       "   Hepatocyte_PPARA_GW7647_24hr.bed  liver_USF1_ctrl_peaks.narrowPeak  \\\n",
       "0                                 0                                 0   \n",
       "1                                 0                                 0   \n",
       "2                                 0                                 0   \n",
       "3                                 0                                 0   \n",
       "4                                 0                                 0   \n",
       "\n",
       "   liver_USF1_ASH_peaks.narrowPeak  islet_pooled_H3K4me1_final.bed  \\\n",
       "0                                0                               0   \n",
       "1                                0                               0   \n",
       "2                                0                               0   \n",
       "3                                0                               1   \n",
       "4                                0                               0   \n",
       "\n",
       "   islet_CTCF_intersectall.bed  islet_H3K27ac.bed  islet_pooled_H3K27ac.bed  \\\n",
       "0                            0                  0                         0   \n",
       "1                            0                  0                         0   \n",
       "2                            0                  0                         0   \n",
       "3                            0                  1                         1   \n",
       "4                            0                  0                         0   \n",
       "\n",
       "   islet_pooled_H3K4me3_peaks.broadPeak  snpcount  weight  \n",
       "0                                     0        11     1.5  \n",
       "1                                     0         5     1.5  \n",
       "2                                     0         1     1.5  \n",
       "3                                     0        36     1.5  \n",
       "4                                     0         2     1.5  \n",
       "\n",
       "[5 rows x 2751 columns]"
      ]
     },
     "execution_count": 29,
     "metadata": {},
     "output_type": "execute_result"
    }
   ],
   "source": [
    "train_df.head()"
   ]
  },
  {
   "cell_type": "code",
   "execution_count": 30,
   "metadata": {},
   "outputs": [],
   "source": [
    "# Drop the snp feature so that only numerical data remains\n",
    "train_df = train_df.drop(['snp'], axis=1)\n",
    "test_df = test_df.drop(['snp'], axis=1)"
   ]
  },
  {
   "cell_type": "code",
   "execution_count": 31,
   "metadata": {},
   "outputs": [
    {
     "name": "stdout",
     "output_type": "stream",
     "text": [
      "Total samples: 2121 \n",
      "Positives: 303 \n",
      "Controls: 1818\n"
     ]
    }
   ],
   "source": [
    "# Verify value counts are the same to check conversion was performed correctly\n",
    "show_counts(train_df, 1, 0)"
   ]
  },
  {
   "cell_type": "code",
   "execution_count": 32,
   "metadata": {},
   "outputs": [
    {
     "name": "stdout",
     "output_type": "stream",
     "text": [
      "Total samples: 1064 \n",
      "Positives: 152 \n",
      "Controls: 912\n"
     ]
    }
   ],
   "source": [
    "show_counts(test_df, 1, 0)"
   ]
  },
  {
   "cell_type": "code",
   "execution_count": 33,
   "metadata": {},
   "outputs": [],
   "source": [
    "# For storage once we have done the feature selection\n",
    "def write_to_S3(df, filename):\n",
    "    bytes_to_write = df.to_csv(None).encode()\n",
    "    fs = s3fs.S3FileSystem(key=access_key, secret=secret_key)\n",
    "    with fs.open(filename, 'wb') as f:\n",
    "        f.write(bytes_to_write)"
   ]
  },
  {
   "cell_type": "code",
   "execution_count": 34,
   "metadata": {},
   "outputs": [],
   "source": [
    "# Write out data to file so we don't have to repeat preprocessing \n",
    "# every time we train a model from a different file\n",
    "write_to_S3(train_df, out_train)\n",
    "write_to_S3(test_df, out_test)"
   ]
  },
  {
   "cell_type": "code",
   "execution_count": 35,
   "metadata": {},
   "outputs": [],
   "source": [
    "# Shuffle dataframe\n",
    "train_df = train_df.sample(frac=1)\n",
    "test_df = test_df.sample(frac=1)"
   ]
  },
  {
   "cell_type": "code",
   "execution_count": 36,
   "metadata": {},
   "outputs": [],
   "source": [
    "# Create training and test sets for model\n",
    "X_train = train_df.drop(['type', 'weight'], axis=1)\n",
    "y_train = train_df.loc[:, 'type']\n",
    "\n",
    "X_test = test_df.drop(['type'], axis=1)\n",
    "y_test = test_df.loc[:, 'type']"
   ]
  },
  {
   "cell_type": "code",
   "execution_count": 37,
   "metadata": {},
   "outputs": [],
   "source": [
    "# If we want to add sample weights\n",
    "sample_weight = train_df['weight']"
   ]
  },
  {
   "cell_type": "code",
   "execution_count": 38,
   "metadata": {},
   "outputs": [],
   "source": [
    "# Init class for model evaluation - detailed in Evaluation.py\n",
    "ev = Evaluator()"
   ]
  },
  {
   "cell_type": "code",
   "execution_count": null,
   "metadata": {},
   "outputs": [],
   "source": []
  },
  {
   "cell_type": "markdown",
   "metadata": {},
   "source": [
    "### Logistic Regression "
   ]
  },
  {
   "cell_type": "markdown",
   "metadata": {},
   "source": [
    "Sklearn's logistic regression model, with ten fold cross validation. Using the following parameters:\n",
    "* cv = 10\n",
    "* penalty = L1 (Same as lasso regression)\n",
    "* class_weight = balanced (Sets regularization term C to 1/(class frequency) for each sample. Useful for imbalanced datasets. "
   ]
  },
  {
   "cell_type": "code",
   "execution_count": 39,
   "metadata": {},
   "outputs": [
    {
     "data": {
      "text/plain": [
       "LogisticRegressionCV(Cs=10, class_weight='balanced', cv=10, dual=False,\n",
       "           fit_intercept=True, intercept_scaling=1.0, max_iter=5000,\n",
       "           multi_class='warn', n_jobs=None, penalty='l1',\n",
       "           random_state=None, refit=True, scoring='roc_auc',\n",
       "           solver='liblinear', tol=0.0001, verbose=0)"
      ]
     },
     "execution_count": 39,
     "metadata": {},
     "output_type": "execute_result"
    }
   ],
   "source": [
    "log_model = LogisticRegressionCV(solver='liblinear', \n",
    "                                 penalty='l1', \n",
    "                                 class_weight='balanced',\n",
    "                                 scoring='roc_auc', \n",
    "                                 cv=10,\n",
    "                                 max_iter=5000)\n",
    "log_model.fit(X_train, y_train, sample_weight=sample_weight)"
   ]
  },
  {
   "cell_type": "code",
   "execution_count": 40,
   "metadata": {},
   "outputs": [
    {
     "name": "stdout",
     "output_type": "stream",
     "text": [
      "Training Dataset Logistic Model Performance:\n",
      " Precision: 0.25627240143369173\n",
      " Recall: 0.9438943894389439\n",
      " Accuracy: 0.6006600660066007\n"
     ]
    }
   ],
   "source": [
    "print(\"Training Dataset Logistic\", end=\" \")\n",
    "ev.summarize_performance(log_model, X_train, y_train, threshold=0.5)"
   ]
  },
  {
   "cell_type": "code",
   "execution_count": 41,
   "metadata": {},
   "outputs": [
    {
     "name": "stdout",
     "output_type": "stream",
     "text": [
      "Test Dataset Logistic Model Performance:\n",
      " Precision: 0.18617021276595744\n",
      " Recall: 0.6907894736842105\n",
      " Accuracy: 0.5244360902255639\n"
     ]
    }
   ],
   "source": [
    "print(\"Test Dataset Logistic\", end=\" \")\n",
    "ev.summarize_performance(log_model, X_test, y_test, threshold=0.5)"
   ]
  },
  {
   "cell_type": "code",
   "execution_count": 42,
   "metadata": {},
   "outputs": [
    {
     "data": {
      "image/png": "[encoded data removed]",
      "text/plain": [
       "<Figure size 460.8x403.2 with 1 Axes>"
      ]
     },
     "metadata": {},
     "output_type": "display_data"
    }
   ],
   "source": [
    "ev.plot_roc_curve(log_model, X_test, y_test)"
   ]
  },
  {
   "cell_type": "code",
   "execution_count": 43,
   "metadata": {},
   "outputs": [
    {
     "data": {
      "image/png": "[encoded data removed]",
      "text/plain": [
       "<Figure size 800x560 with 1 Axes>"
      ]
     },
     "metadata": {},
     "output_type": "display_data"
    }
   ],
   "source": [
    "# Plot feature importance\n",
    "coefs = log_model.coef_\n",
    "feature_names = X_train.columns\n",
    "important_features = ev.feat_importance(coefs, feature_names, 20, False)"
   ]
  },
  {
   "cell_type": "code",
   "execution_count": null,
   "metadata": {},
   "outputs": [],
   "source": []
  },
  {
   "cell_type": "markdown",
   "metadata": {},
   "source": [
    "# Random Forest"
   ]
  },
  {
   "cell_type": "code",
   "execution_count": 44,
   "metadata": {},
   "outputs": [],
   "source": [
    "# n_jobs = -1 allows training to be done on all available cores\n",
    "rf_model = RandomForestClassifier(n_jobs=-1, class_weight='balanced')\n",
    "\n",
    "# Parameter grid for grid search\n",
    "rf_params = {'n_estimators': [100, 500, 1000, 2000],\n",
    "\t\t\t 'max_depth': [30, 100, 200]}\n",
    "\n",
    "scoring = ['recall', 'roc_auc']\n",
    "\n",
    "cv = StratifiedShuffleSplit(n_splits=10, test_size=0.3)"
   ]
  },
  {
   "cell_type": "code",
   "execution_count": 45,
   "metadata": {},
   "outputs": [
    {
     "name": "stdout",
     "output_type": "stream",
     "text": [
      "The best parameters are {'max_depth': 100, 'n_estimators': 100} with a score of 0.00\n",
      "Grid search's score on new test data was 0.0\n"
     ]
    }
   ],
   "source": [
    "# Grid search to iteratively search parameter space\n",
    "rf_grid = GridSearchCV(rf_model, param_grid=rf_params, cv=cv, scoring=scoring, refit='recall')\n",
    "rf_grid.fit(X_train, y_train, sample_weight=sample_weight)\n",
    "print(\"The best parameters are %s with a score of %0.2f\" % (rf_grid.best_params_, rf_grid.best_score_))\n",
    "\n",
    "rf_grid_score = rf_grid.score(X_test, y_test)\n",
    "print (\"Grid search's score on new test data was {}\".format(rf_grid_score))"
   ]
  },
  {
   "cell_type": "code",
   "execution_count": 46,
   "metadata": {},
   "outputs": [
    {
     "name": "stdout",
     "output_type": "stream",
     "text": [
      "Model Performance:\n",
      " Precision: 1.0\n",
      " Recall: 1.0\n",
      " Accuracy: 1.0\n"
     ]
    }
   ],
   "source": [
    "ev.summarize_performance(rf_grid, X_train, y_train, proba=False)"
   ]
  },
  {
   "cell_type": "code",
   "execution_count": 47,
   "metadata": {},
   "outputs": [
    {
     "name": "stdout",
     "output_type": "stream",
     "text": [
      "Model Performance:\n",
      " Precision: 0.0\n",
      " Recall: 0.0\n",
      " Accuracy: 0.8571428571428571\n"
     ]
    }
   ],
   "source": [
    "ev.summarize_performance(rf_grid.best_estimator_, X_test, y_test, proba=False)"
   ]
  },
  {
   "cell_type": "code",
   "execution_count": 48,
   "metadata": {},
   "outputs": [
    {
     "name": "stdout",
     "output_type": "stream",
     "text": [
      "Feature ranking:\n",
      "1. feature MCF-7_ChIP-seq_CTCF_ENCSR000AHD_ENCFF001UML_ENCFF001UMN_intersect.bed (0.004608)\n",
      "2. feature MCF-7_ChIP-seq_TAF1_ENCSR000AHF_ENCFF001UNU_ENCFF001UNT_intersect.bed (0.003527)\n",
      "3. feature GM12878_ChIP-seq_CTCF_ENCFF002CDP.bed (0.003110)\n",
      "4. feature K562_ChIP-seq_CTCF_ENCFF002CEL.bed (0.003068)\n",
      "5. feature K562_ChIP-seq_POLR2A_ENCFF002CET.bed (0.002865)\n",
      "6. feature endothelial_cell_of_umbilical_vein_ChIP-seq_CTCF_ENCFF002CEH.bed (0.002765)\n",
      "7. feature endothelial_cell_of_umbilical_vein_ChIP-seq_POLR2A_ENCFF002CEJ.bed (0.002481)\n",
      "8. feature keratinocyte_ChIP-seq_CTCF_ENCFF002CFA.bed (0.002280)\n",
      "9. feature keratinocyte_ChIP-seq_POLR2A_ENCFF002CFC.bed (0.002245)\n",
      "10. feature H1-hESC_ChIP-seq_H3K27me3_ENCFF001SUY.bed (0.002223)\n",
      "11. feature mammary_epithelial_cell_ChIP-seq_CTCF_ENCFF002CEB.bed (0.002163)\n",
      "12. feature HepG2_ChIP-seq_CTCF_ENCFF002CDZ.bed (0.002115)\n",
      "13. feature H1-hESC_ChIP-seq_CTCF_ENCFF002CDS.bed (0.002067)\n",
      "14. feature H1-hESC_ChIP-seq_H3K4me3_ENCFF001SVC.bed (0.001936)\n",
      "15. feature H1-hESC_ChIP-seq_H4K20me1_ENCFF001SVF.bed (0.001862)\n",
      "16. feature H1-hESC_ChIP-seq_H3K4me1_ENCFF001SVA.bed (0.001856)\n",
      "17. feature H1-hESC_ChIP-seq_H3K36me3_ENCFF001SUZ.bed (0.001791)\n",
      "18. feature H1-hESC_ChIP-seq_H3K4me2_ENCFF001SVB.bed (0.001757)\n",
      "19. feature H1-hESC_ChIP-seq_H3K9ac_ENCFF001SVE.bed (0.001728)\n",
      "20. feature skeletal_muscle_myoblast_ChIP-seq_CTCF_ENCFF002CED.bed (0.001686)\n"
     ]
    }
   ],
   "source": [
    "top_n_features = 20\n",
    "\n",
    "forest = rf_grid.best_estimator_\n",
    "importances = rf_grid.best_estimator_.feature_importances_\n",
    "std = np.std([tree.feature_importances_ for tree in forest.estimators_], axis=0)\n",
    "indices = np.argsort(importances)[::-1]\n",
    "\n",
    "# Print the feature ranking\n",
    "print(\"Feature ranking:\")\n",
    "\n",
    "for f in range(top_n_features):\n",
    "    print(\"%d. feature %s (%f)\" % (f + 1, X_train.columns[f], importances[indices[f]]))"
   ]
  },
  {
   "cell_type": "code",
   "execution_count": null,
   "metadata": {},
   "outputs": [],
   "source": []
  },
  {
   "cell_type": "markdown",
   "metadata": {
    "collapsed": true
   },
   "source": [
    "### Support Vector Machine "
   ]
  },
  {
   "cell_type": "markdown",
   "metadata": {},
   "source": [
    "When used with a linear kernel still allows for evaluation of feature coefficients. Class weight parameter sets regularization parameter C for class i to n_samples / (n_classes * np.bincount(y)) "
   ]
  },
  {
   "cell_type": "code",
   "execution_count": 49,
   "metadata": {},
   "outputs": [
    {
     "data": {
      "text/plain": [
       "SVC(C=1.0, cache_size=200, class_weight='balanced', coef0=0.0,\n",
       "  decision_function_shape='ovr', degree=3, gamma='auto_deprecated',\n",
       "  kernel='linear', max_iter=5000, probability=True, random_state=None,\n",
       "  shrinking=True, tol=0.001, verbose=False)"
      ]
     },
     "execution_count": 49,
     "metadata": {},
     "output_type": "execute_result"
    }
   ],
   "source": [
    "svm_model = SVC(kernel='linear', class_weight='balanced', probability=True, max_iter=5000)\n",
    "svm_model.fit(X_train, y_train, sample_weight=sample_weight)"
   ]
  },
  {
   "cell_type": "code",
   "execution_count": 50,
   "metadata": {},
   "outputs": [
    {
     "name": "stdout",
     "output_type": "stream",
     "text": [
      "Training Dataset SVM Model Performance:\n",
      " Precision: 1.0\n",
      " Recall: 1.0\n",
      " Accuracy: 1.0\n"
     ]
    }
   ],
   "source": [
    "print(\"Training Dataset SVM\", end=\" \")\n",
    "ev.summarize_performance(svm_model, X_train, y_train, proba=False)"
   ]
  },
  {
   "cell_type": "code",
   "execution_count": 51,
   "metadata": {},
   "outputs": [
    {
     "name": "stdout",
     "output_type": "stream",
     "text": [
      "Training Dataset SVM Model Performance:\n",
      " Precision: 0.20253164556962025\n",
      " Recall: 0.21052631578947367\n",
      " Accuracy: 0.768796992481203\n"
     ]
    }
   ],
   "source": [
    "print(\"Training Dataset SVM\", end=\" \")\n",
    "ev.summarize_performance(svm_model, X_test, y_test, proba=False)"
   ]
  },
  {
   "cell_type": "code",
   "execution_count": 52,
   "metadata": {},
   "outputs": [
    {
     "data": {
      "text/html": [
       "<div>\n",
       "<style scoped>\n",
       "    .dataframe tbody tr th:only-of-type {\n",
       "        vertical-align: middle;\n",
       "    }\n",
       "\n",
       "    .dataframe tbody tr th {\n",
       "        vertical-align: top;\n",
       "    }\n",
       "\n",
       "    .dataframe thead th {\n",
       "        text-align: right;\n",
       "    }\n",
       "</style>\n",
       "<table border=\"1\" class=\"dataframe\">\n",
       "  <thead>\n",
       "    <tr style=\"text-align: right;\">\n",
       "      <th></th>\n",
       "      <th>MCF-7_ChIP-seq_CTCF_ENCSR000AHD_ENCFF001UML_ENCFF001UMN_intersect.bed</th>\n",
       "      <th>MCF-7_ChIP-seq_TAF1_ENCSR000AHF_ENCFF001UNU_ENCFF001UNT_intersect.bed</th>\n",
       "      <th>GM12878_ChIP-seq_CTCF_ENCFF002CDP.bed</th>\n",
       "      <th>K562_ChIP-seq_CTCF_ENCFF002CEL.bed</th>\n",
       "      <th>K562_ChIP-seq_POLR2A_ENCFF002CET.bed</th>\n",
       "      <th>endothelial_cell_of_umbilical_vein_ChIP-seq_CTCF_ENCFF002CEH.bed</th>\n",
       "      <th>endothelial_cell_of_umbilical_vein_ChIP-seq_POLR2A_ENCFF002CEJ.bed</th>\n",
       "      <th>keratinocyte_ChIP-seq_CTCF_ENCFF002CFA.bed</th>\n",
       "      <th>keratinocyte_ChIP-seq_POLR2A_ENCFF002CFC.bed</th>\n",
       "      <th>H1-hESC_ChIP-seq_H3K27me3_ENCFF001SUY.bed</th>\n",
       "      <th>...</th>\n",
       "      <th>Hepatocyte_PPARA_GW7647_2hr.bed</th>\n",
       "      <th>Hepatocyte_PPARA_GW7647_24hr.bed</th>\n",
       "      <th>liver_USF1_ctrl_peaks.narrowPeak</th>\n",
       "      <th>liver_USF1_ASH_peaks.narrowPeak</th>\n",
       "      <th>islet_pooled_H3K4me1_final.bed</th>\n",
       "      <th>islet_CTCF_intersectall.bed</th>\n",
       "      <th>islet_H3K27ac.bed</th>\n",
       "      <th>islet_pooled_H3K27ac.bed</th>\n",
       "      <th>islet_pooled_H3K4me3_peaks.broadPeak</th>\n",
       "      <th>snpcount</th>\n",
       "    </tr>\n",
       "  </thead>\n",
       "  <tbody>\n",
       "    <tr>\n",
       "      <th>546</th>\n",
       "      <td>0</td>\n",
       "      <td>0</td>\n",
       "      <td>0</td>\n",
       "      <td>0</td>\n",
       "      <td>0</td>\n",
       "      <td>0</td>\n",
       "      <td>0</td>\n",
       "      <td>0</td>\n",
       "      <td>0</td>\n",
       "      <td>0</td>\n",
       "      <td>...</td>\n",
       "      <td>0</td>\n",
       "      <td>0</td>\n",
       "      <td>0</td>\n",
       "      <td>0</td>\n",
       "      <td>0</td>\n",
       "      <td>0</td>\n",
       "      <td>0</td>\n",
       "      <td>0</td>\n",
       "      <td>0</td>\n",
       "      <td>18</td>\n",
       "    </tr>\n",
       "    <tr>\n",
       "      <th>130</th>\n",
       "      <td>0</td>\n",
       "      <td>0</td>\n",
       "      <td>0</td>\n",
       "      <td>0</td>\n",
       "      <td>0</td>\n",
       "      <td>0</td>\n",
       "      <td>0</td>\n",
       "      <td>0</td>\n",
       "      <td>0</td>\n",
       "      <td>0</td>\n",
       "      <td>...</td>\n",
       "      <td>0</td>\n",
       "      <td>0</td>\n",
       "      <td>0</td>\n",
       "      <td>0</td>\n",
       "      <td>0</td>\n",
       "      <td>0</td>\n",
       "      <td>0</td>\n",
       "      <td>0</td>\n",
       "      <td>0</td>\n",
       "      <td>21</td>\n",
       "    </tr>\n",
       "    <tr>\n",
       "      <th>729</th>\n",
       "      <td>0</td>\n",
       "      <td>0</td>\n",
       "      <td>0</td>\n",
       "      <td>0</td>\n",
       "      <td>0</td>\n",
       "      <td>0</td>\n",
       "      <td>0</td>\n",
       "      <td>0</td>\n",
       "      <td>0</td>\n",
       "      <td>0</td>\n",
       "      <td>...</td>\n",
       "      <td>0</td>\n",
       "      <td>0</td>\n",
       "      <td>0</td>\n",
       "      <td>0</td>\n",
       "      <td>0</td>\n",
       "      <td>0</td>\n",
       "      <td>0</td>\n",
       "      <td>0</td>\n",
       "      <td>0</td>\n",
       "      <td>2</td>\n",
       "    </tr>\n",
       "    <tr>\n",
       "      <th>1647</th>\n",
       "      <td>0</td>\n",
       "      <td>0</td>\n",
       "      <td>0</td>\n",
       "      <td>0</td>\n",
       "      <td>1</td>\n",
       "      <td>0</td>\n",
       "      <td>0</td>\n",
       "      <td>0</td>\n",
       "      <td>0</td>\n",
       "      <td>0</td>\n",
       "      <td>...</td>\n",
       "      <td>0</td>\n",
       "      <td>0</td>\n",
       "      <td>0</td>\n",
       "      <td>0</td>\n",
       "      <td>1</td>\n",
       "      <td>0</td>\n",
       "      <td>1</td>\n",
       "      <td>1</td>\n",
       "      <td>0</td>\n",
       "      <td>36</td>\n",
       "    </tr>\n",
       "    <tr>\n",
       "      <th>206</th>\n",
       "      <td>1</td>\n",
       "      <td>0</td>\n",
       "      <td>0</td>\n",
       "      <td>1</td>\n",
       "      <td>0</td>\n",
       "      <td>0</td>\n",
       "      <td>0</td>\n",
       "      <td>0</td>\n",
       "      <td>0</td>\n",
       "      <td>0</td>\n",
       "      <td>...</td>\n",
       "      <td>0</td>\n",
       "      <td>0</td>\n",
       "      <td>0</td>\n",
       "      <td>0</td>\n",
       "      <td>0</td>\n",
       "      <td>0</td>\n",
       "      <td>0</td>\n",
       "      <td>0</td>\n",
       "      <td>0</td>\n",
       "      <td>8</td>\n",
       "    </tr>\n",
       "  </tbody>\n",
       "</table>\n",
       "<p>5 rows × 2748 columns</p>\n",
       "</div>"
      ],
      "text/plain": [
       "      MCF-7_ChIP-seq_CTCF_ENCSR000AHD_ENCFF001UML_ENCFF001UMN_intersect.bed  \\\n",
       "546                                                   0                       \n",
       "130                                                   0                       \n",
       "729                                                   0                       \n",
       "1647                                                  0                       \n",
       "206                                                   1                       \n",
       "\n",
       "      MCF-7_ChIP-seq_TAF1_ENCSR000AHF_ENCFF001UNU_ENCFF001UNT_intersect.bed  \\\n",
       "546                                                   0                       \n",
       "130                                                   0                       \n",
       "729                                                   0                       \n",
       "1647                                                  0                       \n",
       "206                                                   0                       \n",
       "\n",
       "      GM12878_ChIP-seq_CTCF_ENCFF002CDP.bed  \\\n",
       "546                                       0   \n",
       "130                                       0   \n",
       "729                                       0   \n",
       "1647                                      0   \n",
       "206                                       0   \n",
       "\n",
       "      K562_ChIP-seq_CTCF_ENCFF002CEL.bed  \\\n",
       "546                                    0   \n",
       "130                                    0   \n",
       "729                                    0   \n",
       "1647                                   0   \n",
       "206                                    1   \n",
       "\n",
       "      K562_ChIP-seq_POLR2A_ENCFF002CET.bed  \\\n",
       "546                                      0   \n",
       "130                                      0   \n",
       "729                                      0   \n",
       "1647                                     1   \n",
       "206                                      0   \n",
       "\n",
       "      endothelial_cell_of_umbilical_vein_ChIP-seq_CTCF_ENCFF002CEH.bed  \\\n",
       "546                                                   0                  \n",
       "130                                                   0                  \n",
       "729                                                   0                  \n",
       "1647                                                  0                  \n",
       "206                                                   0                  \n",
       "\n",
       "      endothelial_cell_of_umbilical_vein_ChIP-seq_POLR2A_ENCFF002CEJ.bed  \\\n",
       "546                                                   0                    \n",
       "130                                                   0                    \n",
       "729                                                   0                    \n",
       "1647                                                  0                    \n",
       "206                                                   0                    \n",
       "\n",
       "      keratinocyte_ChIP-seq_CTCF_ENCFF002CFA.bed  \\\n",
       "546                                            0   \n",
       "130                                            0   \n",
       "729                                            0   \n",
       "1647                                           0   \n",
       "206                                            0   \n",
       "\n",
       "      keratinocyte_ChIP-seq_POLR2A_ENCFF002CFC.bed  \\\n",
       "546                                              0   \n",
       "130                                              0   \n",
       "729                                              0   \n",
       "1647                                             0   \n",
       "206                                              0   \n",
       "\n",
       "      H1-hESC_ChIP-seq_H3K27me3_ENCFF001SUY.bed    ...     \\\n",
       "546                                           0    ...      \n",
       "130                                           0    ...      \n",
       "729                                           0    ...      \n",
       "1647                                          0    ...      \n",
       "206                                           0    ...      \n",
       "\n",
       "      Hepatocyte_PPARA_GW7647_2hr.bed  Hepatocyte_PPARA_GW7647_24hr.bed  \\\n",
       "546                                 0                                 0   \n",
       "130                                 0                                 0   \n",
       "729                                 0                                 0   \n",
       "1647                                0                                 0   \n",
       "206                                 0                                 0   \n",
       "\n",
       "      liver_USF1_ctrl_peaks.narrowPeak  liver_USF1_ASH_peaks.narrowPeak  \\\n",
       "546                                  0                                0   \n",
       "130                                  0                                0   \n",
       "729                                  0                                0   \n",
       "1647                                 0                                0   \n",
       "206                                  0                                0   \n",
       "\n",
       "      islet_pooled_H3K4me1_final.bed  islet_CTCF_intersectall.bed  \\\n",
       "546                                0                            0   \n",
       "130                                0                            0   \n",
       "729                                0                            0   \n",
       "1647                               1                            0   \n",
       "206                                0                            0   \n",
       "\n",
       "      islet_H3K27ac.bed  islet_pooled_H3K27ac.bed  \\\n",
       "546                   0                         0   \n",
       "130                   0                         0   \n",
       "729                   0                         0   \n",
       "1647                  1                         1   \n",
       "206                   0                         0   \n",
       "\n",
       "      islet_pooled_H3K4me3_peaks.broadPeak  snpcount  \n",
       "546                                      0        18  \n",
       "130                                      0        21  \n",
       "729                                      0         2  \n",
       "1647                                     0        36  \n",
       "206                                      0         8  \n",
       "\n",
       "[5 rows x 2748 columns]"
      ]
     },
     "execution_count": 52,
     "metadata": {},
     "output_type": "execute_result"
    }
   ],
   "source": [
    "# Display samples that have been chosen as support vectors\n",
    "svec_indices = svm_model.support_\n",
    "svec_df = X_train.iloc[[124, 60, 112, 184, 53], :]\n",
    "svec_df.tail()"
   ]
  },
  {
   "cell_type": "code",
   "execution_count": 53,
   "metadata": {},
   "outputs": [
    {
     "data": {
      "image/png": "[encoded data removed]",
      "text/plain": [
       "<Figure size 460.8x403.2 with 1 Axes>"
      ]
     },
     "metadata": {},
     "output_type": "display_data"
    }
   ],
   "source": [
    "ev.plot_roc_curve(svm_model, X_test, y_test)"
   ]
  },
  {
   "cell_type": "code",
   "execution_count": 1,
   "metadata": {},
   "outputs": [],
   "source": [
    "# Plot feature importance\n",
    "coefs = svm_model.coef_\n",
    "feature_names = X_train.columns\n",
    "important features = ev.feat_importance(coefs, feature_names, 20, one_dim=False)"
   ]
  },
  {
   "cell_type": "code",
   "execution_count": null,
   "metadata": {},
   "outputs": [],
   "source": []
  }
 ],
 "metadata": {
  "kernelspec": {
   "display_name": "Python 3",
   "language": "python",
   "name": "python3"
  },
  "language_info": {
   "codemirror_mode": {
    "name": "ipython",
    "version": 3
   },
   "file_extension": ".py",
   "mimetype": "text/x-python",
   "name": "python",
   "nbconvert_exporter": "python",
   "pygments_lexer": "ipython3",
   "version": "3.6.6"
  }
 },
 "nbformat": 4,
 "nbformat_minor": 2
}
