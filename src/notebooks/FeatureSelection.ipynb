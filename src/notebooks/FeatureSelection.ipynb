{
 "cells": [
  {
   "cell_type": "markdown",
   "metadata": {
    "colab_type": "text",
    "id": "YNa_QzocNEZr"
   },
   "source": [
    "## Feature Selection Methods"
   ]
  },
  {
   "cell_type": "markdown",
   "metadata": {
    "colab_type": "text",
    "id": "fU-aVLtYNEZs"
   },
   "source": [
    "This notebook walks through a few different methods for feature selection, explaining the methodology for each one and saving the feature selected datasets either to Amazon S3 or to disk. "
   ]
  },
  {
   "cell_type": "code",
   "execution_count": 1,
   "metadata": {
    "colab": {},
    "colab_type": "code",
    "id": "BBnyIMFjNEZt"
   },
   "outputs": [],
   "source": [
    "import pandas as pd\n",
    "import numpy as np\n",
    "import os\n",
    "import sys\n",
    "import boto3\n",
    "import s3fs\n",
    "from sklearn.preprocessing import MultiLabelBinarizer\n",
    "from sklearn.feature_selection import VarianceThreshold\n",
    "from sklearn.feature_selection import GenericUnivariateSelect\n",
    "from sklearn.feature_selection import chi2, mutual_info_classif\n",
    "from sklearn.linear_model import LogisticRegressionCV\n",
    "from sklearn.linear_model import LogisticRegression\n",
    "from sklearn.svm import SVC\n",
    "from sklearn.svm import LinearSVC\n",
    "from sklearn.model_selection import StratifiedKFold\n",
    "from sklearn.feature_selection import RFECV\n",
    "from sklearn.cluster import FeatureAgglomeration\n",
    "from sklearn.metrics import roc_curve, auc\n",
    "from sklearn.metrics import precision_score\n",
    "from sklearn.metrics import recall_score\n",
    "from itertools import compress\n",
    "import matplotlib.pyplot as plt\n",
    "import random\n",
    "plt.style.use('ggplot')\n",
    "sys.path.insert(1, os.path.join(sys.path[0], '..'))\n",
    "\n",
    "from auth import access_key, secret_key\n",
    "from Evaluator import Evaluator"
   ]
  },
  {
   "cell_type": "markdown",
   "metadata": {},
   "source": [
    "### Setup\n",
    "We start by configuring the input paths to our data and reading in the data into a pandas dataframe. Alter the filepath variables for input files and outpath to adjust where the featureselected files are saved. "
   ]
  },
  {
   "cell_type": "code",
   "execution_count": 2,
   "metadata": {
    "colab": {},
    "colab_type": "code",
    "id": "v3cnBN9jNEZx"
   },
   "outputs": [],
   "source": [
    "# Alter with location of input files as needed\n",
    "train_filepath = \"s3://voightlab-data/t2d/t2d_train.csv\"\n",
    "test_filepath = \"s3://voightlab-data/t2d/t2d_test.csv\"\n",
    "\n",
    "# Used to name the output files\n",
    "outpath = \"voightlab-data/t2d/FeatureSelected/\""
   ]
  },
  {
   "cell_type": "code",
   "execution_count": null,
   "metadata": {
    "colab": {},
    "colab_type": "code",
    "id": "WWzGBn2oOdlr"
   },
   "outputs": [],
   "source": [
    "# Only necessary for AWS usage\n",
    "os.environ[\"AWS_ACCESS_KEY_ID\"] = access_key\n",
    "os.environ[\"AWS_SECRET_ACCESS_KEY\"] = secret_key"
   ]
  },
  {
   "cell_type": "code",
   "execution_count": 4,
   "metadata": {
    "colab": {
     "base_uri": "https://localhost:8080/",
     "height": 270
    },
    "colab_type": "code",
    "id": "5h4PAi0MNEZ0",
    "outputId": "9f478914-cece-4bc8-c3ab-f3e7e1abb6d6"
   },
   "outputs": [
    {
     "data": {
      "text/html": [
       "<div>\n",
       "<style scoped>\n",
       "    .dataframe tbody tr th:only-of-type {\n",
       "        vertical-align: middle;\n",
       "    }\n",
       "\n",
       "    .dataframe tbody tr th {\n",
       "        vertical-align: top;\n",
       "    }\n",
       "\n",
       "    .dataframe thead th {\n",
       "        text-align: right;\n",
       "    }\n",
       "</style>\n",
       "<table border=\"1\" class=\"dataframe\">\n",
       "  <thead>\n",
       "    <tr style=\"text-align: right;\">\n",
       "      <th></th>\n",
       "      <th>type</th>\n",
       "      <th>MCF-7_ChIP-seq_CTCF_ENCSR000AHD_ENCFF001UML_ENCFF001UMN_intersect.bed</th>\n",
       "      <th>MCF-7_ChIP-seq_TAF1_ENCSR000AHF_ENCFF001UNU_ENCFF001UNT_intersect.bed</th>\n",
       "      <th>GM12878_ChIP-seq_CTCF_ENCFF002CDP.bed</th>\n",
       "      <th>K562_ChIP-seq_CTCF_ENCFF002CEL.bed</th>\n",
       "      <th>K562_ChIP-seq_POLR2A_ENCFF002CET.bed</th>\n",
       "      <th>endothelial_cell_of_umbilical_vein_ChIP-seq_CTCF_ENCFF002CEH.bed</th>\n",
       "      <th>endothelial_cell_of_umbilical_vein_ChIP-seq_POLR2A_ENCFF002CEJ.bed</th>\n",
       "      <th>keratinocyte_ChIP-seq_CTCF_ENCFF002CFA.bed</th>\n",
       "      <th>keratinocyte_ChIP-seq_POLR2A_ENCFF002CFC.bed</th>\n",
       "      <th>...</th>\n",
       "      <th>Hepatocyte_PPARA_GW7647_2hr.bed</th>\n",
       "      <th>Hepatocyte_PPARA_GW7647_24hr.bed</th>\n",
       "      <th>liver_USF1_ctrl_peaks.narrowPeak</th>\n",
       "      <th>liver_USF1_ASH_peaks.narrowPeak</th>\n",
       "      <th>islet_pooled_H3K4me1_final.bed</th>\n",
       "      <th>islet_CTCF_intersectall.bed</th>\n",
       "      <th>islet_H3K27ac.bed</th>\n",
       "      <th>islet_pooled_H3K27ac.bed</th>\n",
       "      <th>islet_pooled_H3K4me3_peaks.broadPeak</th>\n",
       "      <th>snpcount</th>\n",
       "    </tr>\n",
       "  </thead>\n",
       "  <tbody>\n",
       "    <tr>\n",
       "      <th>0</th>\n",
       "      <td>1</td>\n",
       "      <td>0</td>\n",
       "      <td>0</td>\n",
       "      <td>0</td>\n",
       "      <td>0</td>\n",
       "      <td>0</td>\n",
       "      <td>0</td>\n",
       "      <td>0</td>\n",
       "      <td>0</td>\n",
       "      <td>0</td>\n",
       "      <td>...</td>\n",
       "      <td>0</td>\n",
       "      <td>0</td>\n",
       "      <td>0</td>\n",
       "      <td>0</td>\n",
       "      <td>0</td>\n",
       "      <td>0</td>\n",
       "      <td>0</td>\n",
       "      <td>0</td>\n",
       "      <td>0</td>\n",
       "      <td>11</td>\n",
       "    </tr>\n",
       "    <tr>\n",
       "      <th>1</th>\n",
       "      <td>1</td>\n",
       "      <td>0</td>\n",
       "      <td>0</td>\n",
       "      <td>0</td>\n",
       "      <td>0</td>\n",
       "      <td>0</td>\n",
       "      <td>0</td>\n",
       "      <td>0</td>\n",
       "      <td>0</td>\n",
       "      <td>0</td>\n",
       "      <td>...</td>\n",
       "      <td>0</td>\n",
       "      <td>0</td>\n",
       "      <td>0</td>\n",
       "      <td>0</td>\n",
       "      <td>0</td>\n",
       "      <td>0</td>\n",
       "      <td>0</td>\n",
       "      <td>0</td>\n",
       "      <td>0</td>\n",
       "      <td>5</td>\n",
       "    </tr>\n",
       "    <tr>\n",
       "      <th>2</th>\n",
       "      <td>1</td>\n",
       "      <td>0</td>\n",
       "      <td>0</td>\n",
       "      <td>0</td>\n",
       "      <td>0</td>\n",
       "      <td>0</td>\n",
       "      <td>0</td>\n",
       "      <td>0</td>\n",
       "      <td>0</td>\n",
       "      <td>0</td>\n",
       "      <td>...</td>\n",
       "      <td>0</td>\n",
       "      <td>0</td>\n",
       "      <td>0</td>\n",
       "      <td>0</td>\n",
       "      <td>0</td>\n",
       "      <td>0</td>\n",
       "      <td>0</td>\n",
       "      <td>0</td>\n",
       "      <td>0</td>\n",
       "      <td>1</td>\n",
       "    </tr>\n",
       "    <tr>\n",
       "      <th>3</th>\n",
       "      <td>1</td>\n",
       "      <td>0</td>\n",
       "      <td>0</td>\n",
       "      <td>0</td>\n",
       "      <td>0</td>\n",
       "      <td>0</td>\n",
       "      <td>0</td>\n",
       "      <td>0</td>\n",
       "      <td>0</td>\n",
       "      <td>0</td>\n",
       "      <td>...</td>\n",
       "      <td>0</td>\n",
       "      <td>0</td>\n",
       "      <td>0</td>\n",
       "      <td>0</td>\n",
       "      <td>1</td>\n",
       "      <td>0</td>\n",
       "      <td>1</td>\n",
       "      <td>1</td>\n",
       "      <td>0</td>\n",
       "      <td>36</td>\n",
       "    </tr>\n",
       "    <tr>\n",
       "      <th>4</th>\n",
       "      <td>1</td>\n",
       "      <td>0</td>\n",
       "      <td>0</td>\n",
       "      <td>0</td>\n",
       "      <td>0</td>\n",
       "      <td>0</td>\n",
       "      <td>0</td>\n",
       "      <td>0</td>\n",
       "      <td>0</td>\n",
       "      <td>0</td>\n",
       "      <td>...</td>\n",
       "      <td>0</td>\n",
       "      <td>0</td>\n",
       "      <td>0</td>\n",
       "      <td>0</td>\n",
       "      <td>0</td>\n",
       "      <td>0</td>\n",
       "      <td>0</td>\n",
       "      <td>0</td>\n",
       "      <td>0</td>\n",
       "      <td>2</td>\n",
       "    </tr>\n",
       "  </tbody>\n",
       "</table>\n",
       "<p>5 rows × 2749 columns</p>\n",
       "</div>"
      ],
      "text/plain": [
       "   type  \\\n",
       "0     1   \n",
       "1     1   \n",
       "2     1   \n",
       "3     1   \n",
       "4     1   \n",
       "\n",
       "   MCF-7_ChIP-seq_CTCF_ENCSR000AHD_ENCFF001UML_ENCFF001UMN_intersect.bed  \\\n",
       "0                                                  0                       \n",
       "1                                                  0                       \n",
       "2                                                  0                       \n",
       "3                                                  0                       \n",
       "4                                                  0                       \n",
       "\n",
       "   MCF-7_ChIP-seq_TAF1_ENCSR000AHF_ENCFF001UNU_ENCFF001UNT_intersect.bed  \\\n",
       "0                                                  0                       \n",
       "1                                                  0                       \n",
       "2                                                  0                       \n",
       "3                                                  0                       \n",
       "4                                                  0                       \n",
       "\n",
       "   GM12878_ChIP-seq_CTCF_ENCFF002CDP.bed  K562_ChIP-seq_CTCF_ENCFF002CEL.bed  \\\n",
       "0                                      0                                   0   \n",
       "1                                      0                                   0   \n",
       "2                                      0                                   0   \n",
       "3                                      0                                   0   \n",
       "4                                      0                                   0   \n",
       "\n",
       "   K562_ChIP-seq_POLR2A_ENCFF002CET.bed  \\\n",
       "0                                     0   \n",
       "1                                     0   \n",
       "2                                     0   \n",
       "3                                     0   \n",
       "4                                     0   \n",
       "\n",
       "   endothelial_cell_of_umbilical_vein_ChIP-seq_CTCF_ENCFF002CEH.bed  \\\n",
       "0                                                  0                  \n",
       "1                                                  0                  \n",
       "2                                                  0                  \n",
       "3                                                  0                  \n",
       "4                                                  0                  \n",
       "\n",
       "   endothelial_cell_of_umbilical_vein_ChIP-seq_POLR2A_ENCFF002CEJ.bed  \\\n",
       "0                                                  0                    \n",
       "1                                                  0                    \n",
       "2                                                  0                    \n",
       "3                                                  0                    \n",
       "4                                                  0                    \n",
       "\n",
       "   keratinocyte_ChIP-seq_CTCF_ENCFF002CFA.bed  \\\n",
       "0                                           0   \n",
       "1                                           0   \n",
       "2                                           0   \n",
       "3                                           0   \n",
       "4                                           0   \n",
       "\n",
       "   keratinocyte_ChIP-seq_POLR2A_ENCFF002CFC.bed    ...     \\\n",
       "0                                             0    ...      \n",
       "1                                             0    ...      \n",
       "2                                             0    ...      \n",
       "3                                             0    ...      \n",
       "4                                             0    ...      \n",
       "\n",
       "   Hepatocyte_PPARA_GW7647_2hr.bed  Hepatocyte_PPARA_GW7647_24hr.bed  \\\n",
       "0                                0                                 0   \n",
       "1                                0                                 0   \n",
       "2                                0                                 0   \n",
       "3                                0                                 0   \n",
       "4                                0                                 0   \n",
       "\n",
       "   liver_USF1_ctrl_peaks.narrowPeak  liver_USF1_ASH_peaks.narrowPeak  \\\n",
       "0                                 0                                0   \n",
       "1                                 0                                0   \n",
       "2                                 0                                0   \n",
       "3                                 0                                0   \n",
       "4                                 0                                0   \n",
       "\n",
       "   islet_pooled_H3K4me1_final.bed  islet_CTCF_intersectall.bed  \\\n",
       "0                               0                            0   \n",
       "1                               0                            0   \n",
       "2                               0                            0   \n",
       "3                               1                            0   \n",
       "4                               0                            0   \n",
       "\n",
       "   islet_H3K27ac.bed  islet_pooled_H3K27ac.bed  \\\n",
       "0                  0                         0   \n",
       "1                  0                         0   \n",
       "2                  0                         0   \n",
       "3                  1                         1   \n",
       "4                  0                         0   \n",
       "\n",
       "   islet_pooled_H3K4me3_peaks.broadPeak  snpcount  \n",
       "0                                     0        11  \n",
       "1                                     0         5  \n",
       "2                                     0         1  \n",
       "3                                     0        36  \n",
       "4                                     0         2  \n",
       "\n",
       "[5 rows x 2749 columns]"
      ]
     },
     "execution_count": 4,
     "metadata": {},
     "output_type": "execute_result"
    }
   ],
   "source": [
    "train_df = pd.read_csv(train_filepath, index_col=0)\n",
    "test_df = pd.read_csv(test_filepath, index_col=0)\n",
    "\n",
    "train_df.dropna(how='any')\n",
    "test_df.dropna(how='any')\n",
    "train_df.head()"
   ]
  },
  {
   "cell_type": "markdown",
   "metadata": {},
   "source": [
    "Replace the array 'labels' with the target values you are trying to predict for. "
   ]
  },
  {
   "cell_type": "code",
   "execution_count": 5,
   "metadata": {
    "colab": {},
    "colab_type": "code",
    "id": "Blw4n22vNEZ6"
   },
   "outputs": [],
   "source": [
    "# Create training and test splits, dropping labels and sample weights from training set\n",
    "\n",
    "'''\n",
    "For multilabel use below:\n",
    "labels = ['is_BMI', 'is_CAD', 'is_T2D', 'is_lipids']\n",
    "''' \n",
    "\n",
    "labels= ['type']\n",
    "\n",
    "X_train = train_df.drop(labels, axis=1)\n",
    "y_train = train_df.loc[:, labels]\n",
    "\n",
    "X_test = test_df.drop(labels, axis=1)\n",
    "y_test = test_df.loc[:, labels]"
   ]
  },
  {
   "cell_type": "code",
   "execution_count": 6,
   "metadata": {
    "colab": {},
    "colab_type": "code",
    "id": "Vr_ix8nbNEZ8"
   },
   "outputs": [],
   "source": [
    "# Create combined dataset case we want to run feature selection tests on the entire combined dataset\n",
    "X = pd.concat([X_train, X_test])\n",
    "y = pd.concat([y_train, y_test])"
   ]
  },
  {
   "cell_type": "code",
   "execution_count": 7,
   "metadata": {
    "colab": {
     "base_uri": "https://localhost:8080/",
     "height": 270
    },
    "colab_type": "code",
    "id": "FLbaZ3eeNEZ_",
    "outputId": "c6f08d8e-4e01-40fb-f238-874360588006"
   },
   "outputs": [
    {
     "data": {
      "text/html": [
       "<div>\n",
       "<style scoped>\n",
       "    .dataframe tbody tr th:only-of-type {\n",
       "        vertical-align: middle;\n",
       "    }\n",
       "\n",
       "    .dataframe tbody tr th {\n",
       "        vertical-align: top;\n",
       "    }\n",
       "\n",
       "    .dataframe thead th {\n",
       "        text-align: right;\n",
       "    }\n",
       "</style>\n",
       "<table border=\"1\" class=\"dataframe\">\n",
       "  <thead>\n",
       "    <tr style=\"text-align: right;\">\n",
       "      <th></th>\n",
       "      <th>MCF-7_ChIP-seq_CTCF_ENCSR000AHD_ENCFF001UML_ENCFF001UMN_intersect.bed</th>\n",
       "      <th>MCF-7_ChIP-seq_TAF1_ENCSR000AHF_ENCFF001UNU_ENCFF001UNT_intersect.bed</th>\n",
       "      <th>GM12878_ChIP-seq_CTCF_ENCFF002CDP.bed</th>\n",
       "      <th>K562_ChIP-seq_CTCF_ENCFF002CEL.bed</th>\n",
       "      <th>K562_ChIP-seq_POLR2A_ENCFF002CET.bed</th>\n",
       "      <th>endothelial_cell_of_umbilical_vein_ChIP-seq_CTCF_ENCFF002CEH.bed</th>\n",
       "      <th>endothelial_cell_of_umbilical_vein_ChIP-seq_POLR2A_ENCFF002CEJ.bed</th>\n",
       "      <th>keratinocyte_ChIP-seq_CTCF_ENCFF002CFA.bed</th>\n",
       "      <th>keratinocyte_ChIP-seq_POLR2A_ENCFF002CFC.bed</th>\n",
       "      <th>H1-hESC_ChIP-seq_H3K27me3_ENCFF001SUY.bed</th>\n",
       "      <th>...</th>\n",
       "      <th>Hepatocyte_PPARA_GW7647_2hr.bed</th>\n",
       "      <th>Hepatocyte_PPARA_GW7647_24hr.bed</th>\n",
       "      <th>liver_USF1_ctrl_peaks.narrowPeak</th>\n",
       "      <th>liver_USF1_ASH_peaks.narrowPeak</th>\n",
       "      <th>islet_pooled_H3K4me1_final.bed</th>\n",
       "      <th>islet_CTCF_intersectall.bed</th>\n",
       "      <th>islet_H3K27ac.bed</th>\n",
       "      <th>islet_pooled_H3K27ac.bed</th>\n",
       "      <th>islet_pooled_H3K4me3_peaks.broadPeak</th>\n",
       "      <th>snpcount</th>\n",
       "    </tr>\n",
       "  </thead>\n",
       "  <tbody>\n",
       "    <tr>\n",
       "      <th>0</th>\n",
       "      <td>0</td>\n",
       "      <td>0</td>\n",
       "      <td>0</td>\n",
       "      <td>0</td>\n",
       "      <td>0</td>\n",
       "      <td>0</td>\n",
       "      <td>0</td>\n",
       "      <td>0</td>\n",
       "      <td>0</td>\n",
       "      <td>0</td>\n",
       "      <td>...</td>\n",
       "      <td>0</td>\n",
       "      <td>0</td>\n",
       "      <td>0</td>\n",
       "      <td>0</td>\n",
       "      <td>0</td>\n",
       "      <td>0</td>\n",
       "      <td>0</td>\n",
       "      <td>0</td>\n",
       "      <td>1</td>\n",
       "      <td>53</td>\n",
       "    </tr>\n",
       "    <tr>\n",
       "      <th>1</th>\n",
       "      <td>0</td>\n",
       "      <td>0</td>\n",
       "      <td>0</td>\n",
       "      <td>0</td>\n",
       "      <td>0</td>\n",
       "      <td>0</td>\n",
       "      <td>0</td>\n",
       "      <td>0</td>\n",
       "      <td>0</td>\n",
       "      <td>1</td>\n",
       "      <td>...</td>\n",
       "      <td>0</td>\n",
       "      <td>0</td>\n",
       "      <td>0</td>\n",
       "      <td>0</td>\n",
       "      <td>0</td>\n",
       "      <td>0</td>\n",
       "      <td>1</td>\n",
       "      <td>1</td>\n",
       "      <td>1</td>\n",
       "      <td>18</td>\n",
       "    </tr>\n",
       "    <tr>\n",
       "      <th>2</th>\n",
       "      <td>0</td>\n",
       "      <td>0</td>\n",
       "      <td>0</td>\n",
       "      <td>0</td>\n",
       "      <td>0</td>\n",
       "      <td>0</td>\n",
       "      <td>0</td>\n",
       "      <td>0</td>\n",
       "      <td>0</td>\n",
       "      <td>0</td>\n",
       "      <td>...</td>\n",
       "      <td>0</td>\n",
       "      <td>0</td>\n",
       "      <td>0</td>\n",
       "      <td>0</td>\n",
       "      <td>0</td>\n",
       "      <td>0</td>\n",
       "      <td>0</td>\n",
       "      <td>0</td>\n",
       "      <td>0</td>\n",
       "      <td>4</td>\n",
       "    </tr>\n",
       "    <tr>\n",
       "      <th>3</th>\n",
       "      <td>0</td>\n",
       "      <td>0</td>\n",
       "      <td>0</td>\n",
       "      <td>0</td>\n",
       "      <td>0</td>\n",
       "      <td>0</td>\n",
       "      <td>0</td>\n",
       "      <td>0</td>\n",
       "      <td>0</td>\n",
       "      <td>1</td>\n",
       "      <td>...</td>\n",
       "      <td>0</td>\n",
       "      <td>0</td>\n",
       "      <td>0</td>\n",
       "      <td>0</td>\n",
       "      <td>0</td>\n",
       "      <td>0</td>\n",
       "      <td>0</td>\n",
       "      <td>0</td>\n",
       "      <td>0</td>\n",
       "      <td>37</td>\n",
       "    </tr>\n",
       "    <tr>\n",
       "      <th>4</th>\n",
       "      <td>0</td>\n",
       "      <td>0</td>\n",
       "      <td>0</td>\n",
       "      <td>0</td>\n",
       "      <td>0</td>\n",
       "      <td>0</td>\n",
       "      <td>0</td>\n",
       "      <td>0</td>\n",
       "      <td>0</td>\n",
       "      <td>0</td>\n",
       "      <td>...</td>\n",
       "      <td>0</td>\n",
       "      <td>0</td>\n",
       "      <td>0</td>\n",
       "      <td>0</td>\n",
       "      <td>0</td>\n",
       "      <td>0</td>\n",
       "      <td>0</td>\n",
       "      <td>0</td>\n",
       "      <td>0</td>\n",
       "      <td>2</td>\n",
       "    </tr>\n",
       "  </tbody>\n",
       "</table>\n",
       "<p>5 rows × 2748 columns</p>\n",
       "</div>"
      ],
      "text/plain": [
       "   MCF-7_ChIP-seq_CTCF_ENCSR000AHD_ENCFF001UML_ENCFF001UMN_intersect.bed  \\\n",
       "0                                                  0                       \n",
       "1                                                  0                       \n",
       "2                                                  0                       \n",
       "3                                                  0                       \n",
       "4                                                  0                       \n",
       "\n",
       "   MCF-7_ChIP-seq_TAF1_ENCSR000AHF_ENCFF001UNU_ENCFF001UNT_intersect.bed  \\\n",
       "0                                                  0                       \n",
       "1                                                  0                       \n",
       "2                                                  0                       \n",
       "3                                                  0                       \n",
       "4                                                  0                       \n",
       "\n",
       "   GM12878_ChIP-seq_CTCF_ENCFF002CDP.bed  K562_ChIP-seq_CTCF_ENCFF002CEL.bed  \\\n",
       "0                                      0                                   0   \n",
       "1                                      0                                   0   \n",
       "2                                      0                                   0   \n",
       "3                                      0                                   0   \n",
       "4                                      0                                   0   \n",
       "\n",
       "   K562_ChIP-seq_POLR2A_ENCFF002CET.bed  \\\n",
       "0                                     0   \n",
       "1                                     0   \n",
       "2                                     0   \n",
       "3                                     0   \n",
       "4                                     0   \n",
       "\n",
       "   endothelial_cell_of_umbilical_vein_ChIP-seq_CTCF_ENCFF002CEH.bed  \\\n",
       "0                                                  0                  \n",
       "1                                                  0                  \n",
       "2                                                  0                  \n",
       "3                                                  0                  \n",
       "4                                                  0                  \n",
       "\n",
       "   endothelial_cell_of_umbilical_vein_ChIP-seq_POLR2A_ENCFF002CEJ.bed  \\\n",
       "0                                                  0                    \n",
       "1                                                  0                    \n",
       "2                                                  0                    \n",
       "3                                                  0                    \n",
       "4                                                  0                    \n",
       "\n",
       "   keratinocyte_ChIP-seq_CTCF_ENCFF002CFA.bed  \\\n",
       "0                                           0   \n",
       "1                                           0   \n",
       "2                                           0   \n",
       "3                                           0   \n",
       "4                                           0   \n",
       "\n",
       "   keratinocyte_ChIP-seq_POLR2A_ENCFF002CFC.bed  \\\n",
       "0                                             0   \n",
       "1                                             0   \n",
       "2                                             0   \n",
       "3                                             0   \n",
       "4                                             0   \n",
       "\n",
       "   H1-hESC_ChIP-seq_H3K27me3_ENCFF001SUY.bed    ...     \\\n",
       "0                                          0    ...      \n",
       "1                                          1    ...      \n",
       "2                                          0    ...      \n",
       "3                                          1    ...      \n",
       "4                                          0    ...      \n",
       "\n",
       "   Hepatocyte_PPARA_GW7647_2hr.bed  Hepatocyte_PPARA_GW7647_24hr.bed  \\\n",
       "0                                0                                 0   \n",
       "1                                0                                 0   \n",
       "2                                0                                 0   \n",
       "3                                0                                 0   \n",
       "4                                0                                 0   \n",
       "\n",
       "   liver_USF1_ctrl_peaks.narrowPeak  liver_USF1_ASH_peaks.narrowPeak  \\\n",
       "0                                 0                                0   \n",
       "1                                 0                                0   \n",
       "2                                 0                                0   \n",
       "3                                 0                                0   \n",
       "4                                 0                                0   \n",
       "\n",
       "   islet_pooled_H3K4me1_final.bed  islet_CTCF_intersectall.bed  \\\n",
       "0                               0                            0   \n",
       "1                               0                            0   \n",
       "2                               0                            0   \n",
       "3                               0                            0   \n",
       "4                               0                            0   \n",
       "\n",
       "   islet_H3K27ac.bed  islet_pooled_H3K27ac.bed  \\\n",
       "0                  0                         0   \n",
       "1                  1                         1   \n",
       "2                  0                         0   \n",
       "3                  0                         0   \n",
       "4                  0                         0   \n",
       "\n",
       "   islet_pooled_H3K4me3_peaks.broadPeak  snpcount  \n",
       "0                                     1        53  \n",
       "1                                     1        18  \n",
       "2                                     0         4  \n",
       "3                                     0        37  \n",
       "4                                     0         2  \n",
       "\n",
       "[5 rows x 2748 columns]"
      ]
     },
     "execution_count": 7,
     "metadata": {},
     "output_type": "execute_result"
    }
   ],
   "source": [
    "X_test.head()"
   ]
  },
  {
   "cell_type": "code",
   "execution_count": 8,
   "metadata": {
    "colab": {},
    "colab_type": "code",
    "id": "tPS3ftGlNEaC"
   },
   "outputs": [],
   "source": [
    "# Init object for visualization and evaluation\n",
    "# See Evaluator.py for documentation of methods in this class\n",
    "ev = Evaluator()"
   ]
  },
  {
   "cell_type": "markdown",
   "metadata": {},
   "source": [
    "To write to local storage instead of S3, replace all instances of `write_to_s3` below with `write_local`"
   ]
  },
  {
   "cell_type": "code",
   "execution_count": 9,
   "metadata": {
    "colab": {},
    "colab_type": "code",
    "id": "SWGBcnXpNEaF"
   },
   "outputs": [],
   "source": [
    "# For storage once we have done the feature selection\n",
    "def write_to_S3(df, filename):\n",
    "    bytes_to_write = df.to_csv(None).encode()\n",
    "    fs = s3fs.S3FileSystem(key=access_key, secret=secret_key)\n",
    "    print (outpath + filename + \" written\") \n",
    "    with fs.open(outpath + filename, 'wb') as f:\n",
    "        f.write(bytes_to_write)\n",
    "\n",
    "# If not using S3\n",
    "def write_local(df, filename):\n",
    "    pd.to_csv(outpath + filename)"
   ]
  },
  {
   "cell_type": "code",
   "execution_count": null,
   "metadata": {
    "colab": {},
    "colab_type": "code",
    "id": "0NobqWgUNEaJ"
   },
   "outputs": [],
   "source": []
  },
  {
   "cell_type": "markdown",
   "metadata": {
    "colab_type": "text",
    "id": "Hp72oNiYNEaM"
   },
   "source": [
    "### Variance Threshold"
   ]
  },
  {
   "cell_type": "markdown",
   "metadata": {
    "colab_type": "text",
    "id": "maLEj1CRNEaM"
   },
   "source": [
    "VarianceThreshold is a simple baseline approach to feature selection. It removes all features whose variance doesn’t meet our specified threshold. By default, it removes all zero-variance features, i.e. features that have the same value in all samples. This method only looks at the features, not the labels. This means that it can be used in unsupervised learning, however it is not accounting for any particular distinctions between the controls and positives. \n",
    "\n",
    "In a dataset with boolean features we can remove all features that are either one or zero in more than a certain % of the samples. We can further prune the feature set by taking only the top n features in terms of displaying the most variance.\n",
    "\n",
    "Since boolean variables are Bernoulli random variables, their variance is given by p(1-p). So as an example, if we want to remove all features that are either one or zero (on or off) in more than 80% of the samples then we woould set the threshold parameter of the selector to = .80 * (1 - 0.80).\n",
    "\n",
    "A note on this approach in this instance is that it might not be particularly effective for such an imbalanced dataset, as features displaying the most variation could display that variation all within the larger control class. "
   ]
  },
  {
   "cell_type": "code",
   "execution_count": 10,
   "metadata": {
    "colab": {},
    "colab_type": "code",
    "id": "fyVUj2ZzNEaN"
   },
   "outputs": [],
   "source": [
    "try:\n",
    "    selector = VarianceThreshold(threshold=.80 * (1 - .80))\n",
    "    selector.fit_transform(X_train, y_train)\n",
    "except ValueError:\n",
    "    print (\"No feature in X meets the variance threshold 0.09000\")"
   ]
  },
  {
   "cell_type": "code",
   "execution_count": 11,
   "metadata": {
    "colab": {},
    "colab_type": "code",
    "id": "WntYssOvNEaR"
   },
   "outputs": [
    {
     "name": "stdout",
     "output_type": "stream",
     "text": [
      "Features remaining in the featureset: 2748\n"
     ]
    }
   ],
   "source": [
    "print (\"Features remaining in the featureset: {}\".format(len(selector.variances_)))"
   ]
  },
  {
   "cell_type": "markdown",
   "metadata": {
    "colab_type": "text",
    "id": "9EUfQLKbNEaV"
   },
   "source": [
    "Here we set n to some number, representing the number of features that we want to keep. We obtain the indices of elements with the highest variance and create a new dataframe for training containing only those features."
   ]
  },
  {
   "cell_type": "code",
   "execution_count": 12,
   "metadata": {
    "colab": {},
    "colab_type": "code",
    "id": "zvQZmm2eNEaV"
   },
   "outputs": [],
   "source": [
    "# Select the top n features, where features are ranked based on how much variance they display\n",
    "n = 800\n",
    "top_idx = np.argsort(selector.variances_)[-n:]\n",
    "vt_features = [selector.variances_[i] for i in top_idx]\n",
    "vt_traindf = X_train.iloc[:, top_idx]\n",
    "vt_testdf = X_test.iloc[:, top_idx]"
   ]
  },
  {
   "cell_type": "code",
   "execution_count": 13,
   "metadata": {
    "colab": {},
    "colab_type": "code",
    "id": "AevxODohNEaZ"
   },
   "outputs": [
    {
     "data": {
      "text/html": [
       "<div>\n",
       "<style scoped>\n",
       "    .dataframe tbody tr th:only-of-type {\n",
       "        vertical-align: middle;\n",
       "    }\n",
       "\n",
       "    .dataframe tbody tr th {\n",
       "        vertical-align: top;\n",
       "    }\n",
       "\n",
       "    .dataframe thead th {\n",
       "        text-align: right;\n",
       "    }\n",
       "</style>\n",
       "<table border=\"1\" class=\"dataframe\">\n",
       "  <thead>\n",
       "    <tr style=\"text-align: right;\">\n",
       "      <th></th>\n",
       "      <th>E116-H2A.Z.gappedPeak</th>\n",
       "      <th>E069-H3K36me3.gappedPeak</th>\n",
       "      <th>E103-H3K36me3.gappedPeak</th>\n",
       "      <th>E128-H3K27ac.gappedPeak</th>\n",
       "      <th>E098-DNase.hotspot.fdr0.01.broad.bed</th>\n",
       "      <th>keratinocyte_transcription_profiling_by_array_assay_ENCFF001SOA.bed</th>\n",
       "      <th>E119-H3K27ac.gappedPeak</th>\n",
       "      <th>E097-DNase.hotspot.fdr0.01.broad.bed</th>\n",
       "      <th>E023-H3K36me3.gappedPeak</th>\n",
       "      <th>E024-H3K4me1.gappedPeak</th>\n",
       "      <th>...</th>\n",
       "      <th>E003-H3K4me1.gappedPeak</th>\n",
       "      <th>E030-H3K27me3.gappedPeak</th>\n",
       "      <th>E044-H3K27me3.gappedPeak</th>\n",
       "      <th>E127-H3K4me1.gappedPeak</th>\n",
       "      <th>E021-H3K4me1.gappedPeak</th>\n",
       "      <th>E002-H3K36me3.gappedPeak</th>\n",
       "      <th>E114-H3K4me1.gappedPeak</th>\n",
       "      <th>E095-H3K4me1.gappedPeak</th>\n",
       "      <th>E084-H3K9me3.gappedPeak</th>\n",
       "      <th>snpcount</th>\n",
       "    </tr>\n",
       "  </thead>\n",
       "  <tbody>\n",
       "    <tr>\n",
       "      <th>0</th>\n",
       "      <td>1</td>\n",
       "      <td>1</td>\n",
       "      <td>1</td>\n",
       "      <td>0</td>\n",
       "      <td>0</td>\n",
       "      <td>0</td>\n",
       "      <td>0</td>\n",
       "      <td>0</td>\n",
       "      <td>1</td>\n",
       "      <td>1</td>\n",
       "      <td>...</td>\n",
       "      <td>0</td>\n",
       "      <td>0</td>\n",
       "      <td>1</td>\n",
       "      <td>1</td>\n",
       "      <td>0</td>\n",
       "      <td>1</td>\n",
       "      <td>0</td>\n",
       "      <td>0</td>\n",
       "      <td>0</td>\n",
       "      <td>11</td>\n",
       "    </tr>\n",
       "    <tr>\n",
       "      <th>1</th>\n",
       "      <td>0</td>\n",
       "      <td>0</td>\n",
       "      <td>0</td>\n",
       "      <td>0</td>\n",
       "      <td>0</td>\n",
       "      <td>0</td>\n",
       "      <td>0</td>\n",
       "      <td>0</td>\n",
       "      <td>0</td>\n",
       "      <td>0</td>\n",
       "      <td>...</td>\n",
       "      <td>0</td>\n",
       "      <td>0</td>\n",
       "      <td>0</td>\n",
       "      <td>0</td>\n",
       "      <td>0</td>\n",
       "      <td>1</td>\n",
       "      <td>0</td>\n",
       "      <td>0</td>\n",
       "      <td>0</td>\n",
       "      <td>5</td>\n",
       "    </tr>\n",
       "    <tr>\n",
       "      <th>2</th>\n",
       "      <td>0</td>\n",
       "      <td>0</td>\n",
       "      <td>0</td>\n",
       "      <td>0</td>\n",
       "      <td>0</td>\n",
       "      <td>1</td>\n",
       "      <td>0</td>\n",
       "      <td>0</td>\n",
       "      <td>1</td>\n",
       "      <td>0</td>\n",
       "      <td>...</td>\n",
       "      <td>0</td>\n",
       "      <td>0</td>\n",
       "      <td>0</td>\n",
       "      <td>0</td>\n",
       "      <td>0</td>\n",
       "      <td>1</td>\n",
       "      <td>0</td>\n",
       "      <td>0</td>\n",
       "      <td>0</td>\n",
       "      <td>1</td>\n",
       "    </tr>\n",
       "    <tr>\n",
       "      <th>3</th>\n",
       "      <td>1</td>\n",
       "      <td>1</td>\n",
       "      <td>1</td>\n",
       "      <td>0</td>\n",
       "      <td>1</td>\n",
       "      <td>1</td>\n",
       "      <td>0</td>\n",
       "      <td>0</td>\n",
       "      <td>1</td>\n",
       "      <td>1</td>\n",
       "      <td>...</td>\n",
       "      <td>0</td>\n",
       "      <td>0</td>\n",
       "      <td>0</td>\n",
       "      <td>1</td>\n",
       "      <td>1</td>\n",
       "      <td>1</td>\n",
       "      <td>1</td>\n",
       "      <td>1</td>\n",
       "      <td>1</td>\n",
       "      <td>36</td>\n",
       "    </tr>\n",
       "    <tr>\n",
       "      <th>4</th>\n",
       "      <td>0</td>\n",
       "      <td>1</td>\n",
       "      <td>1</td>\n",
       "      <td>0</td>\n",
       "      <td>0</td>\n",
       "      <td>0</td>\n",
       "      <td>0</td>\n",
       "      <td>0</td>\n",
       "      <td>1</td>\n",
       "      <td>1</td>\n",
       "      <td>...</td>\n",
       "      <td>1</td>\n",
       "      <td>1</td>\n",
       "      <td>0</td>\n",
       "      <td>0</td>\n",
       "      <td>0</td>\n",
       "      <td>0</td>\n",
       "      <td>0</td>\n",
       "      <td>1</td>\n",
       "      <td>0</td>\n",
       "      <td>2</td>\n",
       "    </tr>\n",
       "  </tbody>\n",
       "</table>\n",
       "<p>5 rows × 800 columns</p>\n",
       "</div>"
      ],
      "text/plain": [
       "   E116-H2A.Z.gappedPeak  E069-H3K36me3.gappedPeak  E103-H3K36me3.gappedPeak  \\\n",
       "0                      1                         1                         1   \n",
       "1                      0                         0                         0   \n",
       "2                      0                         0                         0   \n",
       "3                      1                         1                         1   \n",
       "4                      0                         1                         1   \n",
       "\n",
       "   E128-H3K27ac.gappedPeak  E098-DNase.hotspot.fdr0.01.broad.bed  \\\n",
       "0                        0                                     0   \n",
       "1                        0                                     0   \n",
       "2                        0                                     0   \n",
       "3                        0                                     1   \n",
       "4                        0                                     0   \n",
       "\n",
       "   keratinocyte_transcription_profiling_by_array_assay_ENCFF001SOA.bed  \\\n",
       "0                                                  0                     \n",
       "1                                                  0                     \n",
       "2                                                  1                     \n",
       "3                                                  1                     \n",
       "4                                                  0                     \n",
       "\n",
       "   E119-H3K27ac.gappedPeak  E097-DNase.hotspot.fdr0.01.broad.bed  \\\n",
       "0                        0                                     0   \n",
       "1                        0                                     0   \n",
       "2                        0                                     0   \n",
       "3                        0                                     0   \n",
       "4                        0                                     0   \n",
       "\n",
       "   E023-H3K36me3.gappedPeak  E024-H3K4me1.gappedPeak    ...     \\\n",
       "0                         1                        1    ...      \n",
       "1                         0                        0    ...      \n",
       "2                         1                        0    ...      \n",
       "3                         1                        1    ...      \n",
       "4                         1                        1    ...      \n",
       "\n",
       "   E003-H3K4me1.gappedPeak  E030-H3K27me3.gappedPeak  \\\n",
       "0                        0                         0   \n",
       "1                        0                         0   \n",
       "2                        0                         0   \n",
       "3                        0                         0   \n",
       "4                        1                         1   \n",
       "\n",
       "   E044-H3K27me3.gappedPeak  E127-H3K4me1.gappedPeak  E021-H3K4me1.gappedPeak  \\\n",
       "0                         1                        1                        0   \n",
       "1                         0                        0                        0   \n",
       "2                         0                        0                        0   \n",
       "3                         0                        1                        1   \n",
       "4                         0                        0                        0   \n",
       "\n",
       "   E002-H3K36me3.gappedPeak  E114-H3K4me1.gappedPeak  E095-H3K4me1.gappedPeak  \\\n",
       "0                         1                        0                        0   \n",
       "1                         1                        0                        0   \n",
       "2                         1                        0                        0   \n",
       "3                         1                        1                        1   \n",
       "4                         0                        0                        1   \n",
       "\n",
       "   E084-H3K9me3.gappedPeak  snpcount  \n",
       "0                        0        11  \n",
       "1                        0         5  \n",
       "2                        0         1  \n",
       "3                        1        36  \n",
       "4                        0         2  \n",
       "\n",
       "[5 rows x 800 columns]"
      ]
     },
     "execution_count": 13,
     "metadata": {},
     "output_type": "execute_result"
    }
   ],
   "source": [
    "vt_traindf.head()"
   ]
  },
  {
   "cell_type": "code",
   "execution_count": 14,
   "metadata": {
    "colab": {},
    "colab_type": "code",
    "id": "aUM6QwLWNEae"
   },
   "outputs": [
    {
     "name": "stdout",
     "output_type": "stream",
     "text": [
      "voightlab-data/t2d/FeatureSelected/var_threshold/X_train.csv written\n",
      "voightlab-data/t2d/FeatureSelected/var_threshold/y_train.csv written\n",
      "voightlab-data/t2d/FeatureSelected/var_threshold/X_test.csv written\n",
      "voightlab-data/t2d/FeatureSelected/var_threshold/y_test.csv written\n"
     ]
    }
   ],
   "source": [
    "# Write the created dataset to a file so we can test model performance later\n",
    "write_to_S3(vt_traindf, \"var_threshold/X_train.csv\")\n",
    "write_to_S3(y_train, \"var_threshold/y_train.csv\")\n",
    "write_to_S3(vt_testdf, \"var_threshold/X_test.csv\")\n",
    "write_to_S3(y_test, \"var_threshold/y_test.csv\")"
   ]
  },
  {
   "cell_type": "code",
   "execution_count": null,
   "metadata": {
    "colab": {},
    "colab_type": "code",
    "id": "m1HxJgoqNEai"
   },
   "outputs": [],
   "source": []
  },
  {
   "cell_type": "markdown",
   "metadata": {
    "colab_type": "text",
    "id": "rWbteUsyNEan"
   },
   "source": [
    "### Univariate Feature Selection"
   ]
  },
  {
   "cell_type": "markdown",
   "metadata": {
    "colab_type": "text",
    "id": "apIiqEMaNEao"
   },
   "source": [
    "The sklearn GenericUnivariateSelect allows to perform univariate feature selection with a configurable strategy. This allows us to select the best univariate selection strategy with a hyper-parameter search estimator, similar to grid search. Here I've compared the association of the features to a target variable using a chi square test and sklearn's mutual info classificaion test. "
   ]
  },
  {
   "cell_type": "markdown",
   "metadata": {
    "colab_type": "text",
    "id": "YJIhbDoCNEaq"
   },
   "source": [
    "First we set the scoring parameter of the class to the chi2 test, selecting the n best performing features, i.e, the features with the n highest values for the test chi-squared statistic. Here, we are measuring whether each categorical feature is independent of the target class. We assume a null hypothesis that the frequencies of each variable is similarly distributed to the features of the classes. If we cannot reject the null hypothesis for a variable, we dispose of that feature. \n",
    "\n",
    "It should be noted that the sklearn implementation of the chi squared test only considers features where x=1. I.e, it looks at features where x=1 and sees if the distribution of values for y matches that of the overall population."
   ]
  },
  {
   "cell_type": "code",
   "execution_count": 15,
   "metadata": {
    "colab": {},
    "colab_type": "code",
    "id": "8ublhHpZNEas"
   },
   "outputs": [],
   "source": [
    "# Return n best features based on the test\n",
    "n = 125\n",
    "chi_gus = GenericUnivariateSelect(chi2, mode='k_best', param=n)\n",
    "chi_idx = []\n",
    "chi_features = []\n",
    "chi_pvalues = []\n",
    "\n",
    "# loop allows us to account for multilabel problems\n",
    "# We fit individually for each label\n",
    "for label in labels:\n",
    "    chi_gus.fit(X_train, y_train[label])\n",
    "\n",
    "    # Save features using the boolean mask \n",
    "    chi_idx += list(chi_gus.get_support())\n",
    "    chi_pvalues += list(compress(chi_gus.pvalues_, chi_idx))\n",
    "    chi_features += list(compress(X_train, chi_idx))"
   ]
  },
  {
   "cell_type": "code",
   "execution_count": 16,
   "metadata": {
    "colab": {
     "base_uri": "https://localhost:8080/",
     "height": 526
    },
    "colab_type": "code",
    "id": "Q1Hqb-tfNEa0",
    "outputId": "adeee73d-d058-428c-8783-afe6122650e1"
   },
   "outputs": [
    {
     "data": {
      "image/png": "[encoded data removed]",
      "text/plain": [
       "<Figure size 800x560 with 1 Axes>"
      ]
     },
     "metadata": {},
     "output_type": "display_data"
    }
   ],
   "source": [
    "# Visualize p values for top n feature from test\n",
    "important_features = ev.feat_importance(set(chi_pvalues), set(chi_features), n=20)"
   ]
  },
  {
   "cell_type": "code",
   "execution_count": null,
   "metadata": {
    "colab": {},
    "colab_type": "code",
    "id": "y4RfOFwXNEa4"
   },
   "outputs": [],
   "source": []
  },
  {
   "cell_type": "markdown",
   "metadata": {
    "colab_type": "text",
    "id": "Yxk6LmegNEa7"
   },
   "source": [
    "Now we try again using the mutual info classification test. Mutual information for each feature x and y is a measure of their mutual dependence. More generally, it determines how similar the joint distribution p(x, y) is to the products of factored marginal distribution p(x) * p(y). Mutual information is the expected value of the pointwise mutual information.   "
   ]
  },
  {
   "cell_type": "code",
   "execution_count": 17,
   "metadata": {
    "colab": {},
    "colab_type": "code",
    "id": "6f_oMIRbNEa8"
   },
   "outputs": [],
   "source": [
    "mic_gus = GenericUnivariateSelect(mutual_info_classif, mode='k_best', param=n)\n",
    "mic_idx = []\n",
    "mic_features = []\n",
    "mic_scores = []\n",
    "\n",
    "for label in labels:\n",
    "    mic_gus.fit(X_train, y_train[label])\n",
    "\n",
    "    # Save features using the boolean mask \n",
    "    mic_idx += list(mic_gus.get_support())\n",
    "    mic_features += list(compress(X_train.columns, mic_idx)) \n",
    "    mic_scores += list(compress(mic_gus.scores_, mic_idx))"
   ]
  },
  {
   "cell_type": "code",
   "execution_count": 18,
   "metadata": {
    "colab": {
     "base_uri": "https://localhost:8080/",
     "height": 526
    },
    "colab_type": "code",
    "id": "QtUYeN2PNEbC",
    "outputId": "a6874c81-9496-4c46-e891-fe179d7b8f96"
   },
   "outputs": [
    {
     "data": {
      "image/png": "[encoded data removed]",
      "text/plain": [
       "<Figure size 800x560 with 1 Axes>"
      ]
     },
     "metadata": {},
     "output_type": "display_data"
    }
   ],
   "source": [
    "# Visualize scores for top n feature from test\n",
    "important_features = ev.feat_importance(set(mic_scores), set(mic_features), n=20)"
   ]
  },
  {
   "cell_type": "code",
   "execution_count": 19,
   "metadata": {
    "colab": {
     "base_uri": "https://localhost:8080/",
     "height": 85
    },
    "colab_type": "code",
    "id": "LII6569rNEbI",
    "outputId": "7ce70eed-065d-4dea-f0c9-0522883cd07e"
   },
   "outputs": [
    {
     "name": "stdout",
     "output_type": "stream",
     "text": [
      "voightlab-data/t2d/FeatureSelected/chi2/X_train.csv written\n",
      "voightlab-data/t2d/FeatureSelected/chi2/y_train.csv written\n",
      "voightlab-data/t2d/FeatureSelected/chi2/X_test.csv written\n",
      "voightlab-data/t2d/FeatureSelected/chi2/y_test.csv written\n"
     ]
    }
   ],
   "source": [
    "# Save training and testing datframes only consisting of the features we have selected\n",
    "chi_Xtraindf = X_train.loc[:, list(set(chi_features))]\n",
    "chi_Xtestdf = X_test.loc[:, list(set(chi_features))]\n",
    "\n",
    "# Write the created dataset to a file so we can test model performance later\n",
    "write_to_S3(chi_Xtraindf, \"chi2/X_train.csv\")\n",
    "write_to_S3(y_train, \"chi2/y_train.csv\")\n",
    "write_to_S3(chi_Xtestdf, \"chi2/X_test.csv\")\n",
    "write_to_S3(y_test, \"chi2/y_test.csv\")"
   ]
  },
  {
   "cell_type": "code",
   "execution_count": 20,
   "metadata": {},
   "outputs": [
    {
     "name": "stdout",
     "output_type": "stream",
     "text": [
      "voightlab-data/t2d/FeatureSelected/chi2/df_train.csv written\n",
      "voightlab-data/t2d/FeatureSelected/chi2/df_test.csv written\n"
     ]
    }
   ],
   "source": [
    "# Write joint datasets so that we have those on hand too\n",
    "write_to_S3(pd.concat([chi_Xtraindf, y_train], axis=1), \"chi2/df_train.csv\")\n",
    "write_to_S3(pd.concat([chi_Xtestdf, y_test], axis=1), \"chi2/df_test.csv\")"
   ]
  },
  {
   "cell_type": "code",
   "execution_count": 21,
   "metadata": {
    "colab": {
     "base_uri": "https://localhost:8080/",
     "height": 85
    },
    "colab_type": "code",
    "id": "2oW_u_G6NEbL",
    "outputId": "88abaedd-5734-4ac2-cba9-f62f6103347d"
   },
   "outputs": [
    {
     "name": "stdout",
     "output_type": "stream",
     "text": [
      "voightlab-data/t2d/FeatureSelected/mic/X_train.csv written\n",
      "voightlab-data/t2d/FeatureSelected/mic/y_train.csv written\n",
      "voightlab-data/t2d/FeatureSelected/mic/X_test.csv written\n",
      "voightlab-data/t2d/FeatureSelected/mic/y_test.csv written\n"
     ]
    }
   ],
   "source": [
    "# Save training and testing datframes only consisting of the features we have selected\n",
    "mic_Xtraindf = X_train.loc[:, list(set(mic_features))]\n",
    "mic_Xtestdf = X_test.loc[:, list(set(mic_features))]\n",
    "\n",
    "# Write the created dataset to a file so we can test model performance later\n",
    "write_to_S3(mic_Xtraindf, \"mic/X_train.csv\")\n",
    "write_to_S3(y_train, \"mic/y_train.csv\")\n",
    "write_to_S3(mic_Xtestdf, \"mic/X_test.csv\")\n",
    "write_to_S3(y_test, \"mic/y_test.csv\")"
   ]
  },
  {
   "cell_type": "code",
   "execution_count": 22,
   "metadata": {},
   "outputs": [
    {
     "name": "stdout",
     "output_type": "stream",
     "text": [
      "voightlab-data/t2d/FeatureSelected/mic/df_train.csv written\n",
      "voightlab-data/t2d/FeatureSelected/mic/df_test.csv written\n"
     ]
    }
   ],
   "source": [
    "# Write joint datasets so that we have those on hand too\n",
    "write_to_S3(pd.concat([mic_Xtraindf, y_train], axis=1), \"mic/df_train.csv\")\n",
    "write_to_S3(pd.concat([mic_Xtestdf, y_test], axis=1), \"mic/df_test.csv\")"
   ]
  },
  {
   "cell_type": "code",
   "execution_count": null,
   "metadata": {
    "colab": {},
    "colab_type": "code",
    "id": "3gyyfbPcNEbN"
   },
   "outputs": [],
   "source": []
  },
  {
   "cell_type": "markdown",
   "metadata": {},
   "source": [
    "### Feature Agglomeration"
   ]
  },
  {
   "cell_type": "markdown",
   "metadata": {},
   "source": [
    "Uses agglomerative bottom up clustering to merge features together. Each feature starts off in its own cluster and we merge features together to create larger and larger clusters. Here we're going to use a randomized approach to feature selection where we begin by choosing the number of features 'n' and clustering features together with others that appear to be similar. Then we look at each of the n clusters and select one random feature from each cluster. "
   ]
  },
  {
   "cell_type": "code",
   "execution_count": 23,
   "metadata": {},
   "outputs": [],
   "source": [
    "n = 50 \n",
    "fa_selector = FeatureAgglomeration(n_clusters=n, affinity='manhattan', linkage='complete')"
   ]
  },
  {
   "cell_type": "code",
   "execution_count": 24,
   "metadata": {},
   "outputs": [],
   "source": [
    "fa_selector.fit(X_train)\n",
    "labels = fa_selector.labels_"
   ]
  },
  {
   "cell_type": "code",
   "execution_count": 25,
   "metadata": {},
   "outputs": [],
   "source": [
    "# Create a dictionary with labels as keys and the values being a list of all features assigned to that label\n",
    "assignments = {}\n",
    "\n",
    "for label, feature in zip(labels, X_train.columns):\n",
    "    if label in assignments:\n",
    "        assignments[label].append(feature)\n",
    "    else:\n",
    "        assignments[label] = [feature]"
   ]
  },
  {
   "cell_type": "code",
   "execution_count": 26,
   "metadata": {},
   "outputs": [],
   "source": [
    "fa_features = []\n",
    "\n",
    "for label, featurelist in assignments.items():\n",
    "    chosen_feature = random.choice(featurelist)\n",
    "    fa_features.append(chosen_feature)\n",
    "\n",
    "fa_Xtraindf = X_train[fa_features]\n",
    "fa_Xtestdf = X_test[fa_features]"
   ]
  },
  {
   "cell_type": "code",
   "execution_count": 27,
   "metadata": {},
   "outputs": [
    {
     "name": "stdout",
     "output_type": "stream",
     "text": [
      "voightlab-data/t2d/FeatureSelected/fa/X_train.csv written\n",
      "voightlab-data/t2d/FeatureSelected/fa/y_train.csv written\n",
      "voightlab-data/t2d/FeatureSelected/fa/X_test.csv written\n",
      "voightlab-data/t2d/FeatureSelected/fa/y_test.csv written\n"
     ]
    }
   ],
   "source": [
    "# Write the created dataset to a file so we can test model performance later\n",
    "write_to_S3(fa_Xtraindf, \"fa/X_train.csv\")\n",
    "write_to_S3(y_train, \"fa/y_train.csv\")\n",
    "write_to_S3(fa_Xtestdf, \"fa/X_test.csv\")\n",
    "write_to_S3(y_test, \"fa/y_test.csv\")"
   ]
  },
  {
   "cell_type": "code",
   "execution_count": null,
   "metadata": {},
   "outputs": [],
   "source": []
  },
  {
   "cell_type": "markdown",
   "metadata": {
    "colab_type": "text",
    "id": "1qBdqYZONEbP"
   },
   "source": [
    "### Recursive Feature Elimination"
   ]
  },
  {
   "cell_type": "markdown",
   "metadata": {
    "colab_type": "text",
    "id": "nC20WMTJNEbQ"
   },
   "source": [
    "\n",
    "Given an external estimator that assigns weights to features (e.g., the coefficients of a linear model), recursive feature elimination (RFE) is to select features by recursively considering smaller and smaller sets of features. First, the estimator is trained on the initial set of features and the importance of each feature is obtained either through a coef_ attribute or through a feature_importances_ attribute. Then, the least important features are pruned from current set of features.That procedure is recursively repeated on the pruned set until the desired number of features to select is eventually reached.\n",
    "\n",
    "We can use a different technique to drop the number of features below a reasonable size - say the chi squared test - and recursively eliminate from there. "
   ]
  },
  {
   "cell_type": "code",
   "execution_count": 28,
   "metadata": {
    "colab": {},
    "colab_type": "code",
    "id": "7kiNoi-2NEbR"
   },
   "outputs": [],
   "source": [
    "if len(X_train.columns) > len(X_train):\n",
    "    n = 2000\n",
    "    chi_gus = GenericUnivariateSelect(chi2, mode='k_best', param=n)\n",
    "    chi_gus.fit(X_train, y_train)\n",
    "\n",
    "    # Save features using the boolean mask \n",
    "    chi_idx = chi_gus.get_support()\n",
    "    chi_features = list(compress(X_train.columns, chi_idx)) "
   ]
  },
  {
   "cell_type": "code",
   "execution_count": 29,
   "metadata": {
    "colab": {},
    "colab_type": "code",
    "id": "ukaXtcjVNEbV"
   },
   "outputs": [],
   "source": [
    "if len(X_train.columns) > len(X_train):\n",
    "    X_train = X_train[chi_features]\n",
    "    X_test = X_test[chi_features]"
   ]
  },
  {
   "cell_type": "code",
   "execution_count": 39,
   "metadata": {
    "colab": {
     "base_uri": "https://localhost:8080/",
     "height": 85
    },
    "colab_type": "code",
    "id": "fl-909NaNEba",
    "outputId": "207d8b4f-ccbd-4508-f997-fde01ce0de1b"
   },
   "outputs": [
    {
     "name": "stderr",
     "output_type": "stream",
     "text": [
      "/home/ec2-user/anaconda3/envs/chainer_p36/lib/python3.6/site-packages/sklearn/utils/validation.py:578: DataConversionWarning: A column-vector y was passed when a 1d array was expected. Please change the shape of y to (n_samples, ), for example using ravel().\n",
      "  y = column_or_1d(y, warn=True)\n"
     ]
    },
    {
     "name": "stdout",
     "output_type": "stream",
     "text": [
      "Optimal number of features is 100\n"
     ]
    }
   ],
   "source": [
    "rfecv_features = []\n",
    "feature_names = []\n",
    "step = 100\n",
    "multilabel = False\n",
    "\n",
    "if multilabel:\n",
    "    for label in labels:\n",
    "        # Create the RFE object and compute a cross-validated score.\n",
    "        svc = SVC(kernel=\"linear\", class_weight='balanced')\n",
    "        rfecv = RFECV(estimator=svc, step=step, cv=StratifiedKFold(2), scoring='recall_micro', n_jobs=1)\n",
    "        rfecv.fit(X_train, y_train[label])\n",
    "\n",
    "        print(\"Optimal number of features for label {} : {}\".format(label, rfecv.n_features_))\n",
    "        rfecv_features.append(rfecv.support_)\n",
    "        optimal_df = X_train.loc[:, rfecv.support_]\n",
    "        feature_names += list(optimal_df.columns)\n",
    "\n",
    "else:\n",
    "    # Create the RFE object and compute a cross-validated score.\n",
    "    svc = SVC(kernel=\"linear\", class_weight='balanced')\n",
    "    rfecv = RFECV(estimator=svc, step=step, cv=StratifiedKFold(2), scoring='recall', n_jobs=1)\n",
    "    rfecv.fit(X_train, y_train)\n",
    "\n",
    "    print(\"Optimal number of features is {}\".format(rfecv.n_features_))\n",
    "    rfecv_features.append(rfecv.support_)\n",
    "    optimal_df = X_train.loc[:, rfecv.support_]\n",
    "    feature_names += list(optimal_df.columns)  "
   ]
  },
  {
   "cell_type": "code",
   "execution_count": 40,
   "metadata": {
    "colab": {},
    "colab_type": "code",
    "id": "GWcovtuHNEbe"
   },
   "outputs": [
    {
     "data": {
      "image/png": "[encoded data removed]",
      "text/plain": [
       "<Figure size 432x288 with 1 Axes>"
      ]
     },
     "metadata": {},
     "output_type": "display_data"
    }
   ],
   "source": [
    "# Plot number of features VS. cross-validation scores\n",
    "if not multilabel:\n",
    "    plt.figure()\n",
    "    plt.xlabel(\"Number of features selected\")\n",
    "    plt.ylabel(\"Cross validation score (nb of correct classifications)\")\n",
    "    plt.plot(range(0, n+step, step), rfecv.grid_scores_)\n",
    "    plt.show()"
   ]
  },
  {
   "cell_type": "markdown",
   "metadata": {
    "colab_type": "text",
    "id": "MWSK3pOuNEbj"
   },
   "source": [
    "The dataframe with the selected features:"
   ]
  },
  {
   "cell_type": "code",
   "execution_count": 41,
   "metadata": {
    "colab": {
     "base_uri": "https://localhost:8080/",
     "height": 270
    },
    "colab_type": "code",
    "id": "0pcI4oQ8NEbj",
    "outputId": "fd88b24c-9543-4189-9b75-036c95c714aa"
   },
   "outputs": [
    {
     "data": {
      "text/html": [
       "<div>\n",
       "<style scoped>\n",
       "    .dataframe tbody tr th:only-of-type {\n",
       "        vertical-align: middle;\n",
       "    }\n",
       "\n",
       "    .dataframe tbody tr th {\n",
       "        vertical-align: top;\n",
       "    }\n",
       "\n",
       "    .dataframe thead th {\n",
       "        text-align: right;\n",
       "    }\n",
       "</style>\n",
       "<table border=\"1\" class=\"dataframe\">\n",
       "  <thead>\n",
       "    <tr style=\"text-align: right;\">\n",
       "      <th></th>\n",
       "      <th>MUS.SKLT.F-TssA</th>\n",
       "      <th>GSM1218851_Rhabdomyosarcoma_MyoD.bed</th>\n",
       "      <th>GSM1240833_GP5dsiRAD21_JUND_peaks_hg19.bed</th>\n",
       "      <th>osteoblast_ChIP-seq_EP300_ENCFF001TCZ.bed</th>\n",
       "      <th>H1-hESC_ChIP-seq_ATF2_ENCFF002CIR.bed</th>\n",
       "      <th>PANC.ISLT-TssBiv</th>\n",
       "      <th>E048-H3K36me3.gappedPeak</th>\n",
       "      <th>GSM1208807_batch2_chrom1_LoVo_VEZF1_PassedQC_peaks_hg19.bed</th>\n",
       "      <th>Hsmm-Tx</th>\n",
       "      <th>HeLa-S3_ChIP-seq_POLR3A_ENCFF002CTD.bed</th>\n",
       "      <th>...</th>\n",
       "      <th>GSM1208665_batch1_chrom1_LoVo_NR2F2_PassedQC_peaks_hg19.bed</th>\n",
       "      <th>LXRA-FLAG_2h_GW3965_intersect.bed</th>\n",
       "      <th>bronchial_epithelial_cell_ChIP-seq_H3K4me3_ENCSR000DXJ_gappedpeak.bed</th>\n",
       "      <th>E050-H3K4me3.gappedPeak</th>\n",
       "      <th>GM12878_ChIP-seq_EGR1_ENCFF002CGW.bed</th>\n",
       "      <th>E089-H3K4me3.gappedPeak</th>\n",
       "      <th>SK-N-MC_ChIP-seq_H3K4me3_ENCSR000DXL_gappedpeak.bed</th>\n",
       "      <th>E059-H3K36me3.gappedPeak</th>\n",
       "      <th>islet_pooled_H3K27ac.bed</th>\n",
       "      <th>PANC.ISLT-Tx</th>\n",
       "    </tr>\n",
       "  </thead>\n",
       "  <tbody>\n",
       "    <tr>\n",
       "      <th>0</th>\n",
       "      <td>0</td>\n",
       "      <td>0</td>\n",
       "      <td>0</td>\n",
       "      <td>0</td>\n",
       "      <td>0</td>\n",
       "      <td>0</td>\n",
       "      <td>1</td>\n",
       "      <td>0</td>\n",
       "      <td>1</td>\n",
       "      <td>0</td>\n",
       "      <td>...</td>\n",
       "      <td>0</td>\n",
       "      <td>0</td>\n",
       "      <td>0</td>\n",
       "      <td>0</td>\n",
       "      <td>0</td>\n",
       "      <td>0</td>\n",
       "      <td>0</td>\n",
       "      <td>1</td>\n",
       "      <td>0</td>\n",
       "      <td>0</td>\n",
       "    </tr>\n",
       "    <tr>\n",
       "      <th>1</th>\n",
       "      <td>0</td>\n",
       "      <td>0</td>\n",
       "      <td>0</td>\n",
       "      <td>0</td>\n",
       "      <td>0</td>\n",
       "      <td>0</td>\n",
       "      <td>0</td>\n",
       "      <td>0</td>\n",
       "      <td>0</td>\n",
       "      <td>0</td>\n",
       "      <td>...</td>\n",
       "      <td>0</td>\n",
       "      <td>0</td>\n",
       "      <td>0</td>\n",
       "      <td>0</td>\n",
       "      <td>0</td>\n",
       "      <td>0</td>\n",
       "      <td>0</td>\n",
       "      <td>0</td>\n",
       "      <td>0</td>\n",
       "      <td>0</td>\n",
       "    </tr>\n",
       "    <tr>\n",
       "      <th>2</th>\n",
       "      <td>0</td>\n",
       "      <td>0</td>\n",
       "      <td>0</td>\n",
       "      <td>1</td>\n",
       "      <td>0</td>\n",
       "      <td>0</td>\n",
       "      <td>0</td>\n",
       "      <td>0</td>\n",
       "      <td>1</td>\n",
       "      <td>0</td>\n",
       "      <td>...</td>\n",
       "      <td>0</td>\n",
       "      <td>0</td>\n",
       "      <td>0</td>\n",
       "      <td>0</td>\n",
       "      <td>0</td>\n",
       "      <td>0</td>\n",
       "      <td>0</td>\n",
       "      <td>0</td>\n",
       "      <td>0</td>\n",
       "      <td>0</td>\n",
       "    </tr>\n",
       "    <tr>\n",
       "      <th>3</th>\n",
       "      <td>0</td>\n",
       "      <td>1</td>\n",
       "      <td>0</td>\n",
       "      <td>0</td>\n",
       "      <td>0</td>\n",
       "      <td>0</td>\n",
       "      <td>1</td>\n",
       "      <td>0</td>\n",
       "      <td>1</td>\n",
       "      <td>0</td>\n",
       "      <td>...</td>\n",
       "      <td>0</td>\n",
       "      <td>0</td>\n",
       "      <td>0</td>\n",
       "      <td>1</td>\n",
       "      <td>0</td>\n",
       "      <td>0</td>\n",
       "      <td>0</td>\n",
       "      <td>1</td>\n",
       "      <td>1</td>\n",
       "      <td>0</td>\n",
       "    </tr>\n",
       "    <tr>\n",
       "      <th>4</th>\n",
       "      <td>0</td>\n",
       "      <td>0</td>\n",
       "      <td>0</td>\n",
       "      <td>1</td>\n",
       "      <td>0</td>\n",
       "      <td>0</td>\n",
       "      <td>1</td>\n",
       "      <td>0</td>\n",
       "      <td>1</td>\n",
       "      <td>0</td>\n",
       "      <td>...</td>\n",
       "      <td>0</td>\n",
       "      <td>0</td>\n",
       "      <td>0</td>\n",
       "      <td>0</td>\n",
       "      <td>0</td>\n",
       "      <td>0</td>\n",
       "      <td>0</td>\n",
       "      <td>0</td>\n",
       "      <td>0</td>\n",
       "      <td>0</td>\n",
       "    </tr>\n",
       "  </tbody>\n",
       "</table>\n",
       "<p>5 rows × 100 columns</p>\n",
       "</div>"
      ],
      "text/plain": [
       "   MUS.SKLT.F-TssA  GSM1218851_Rhabdomyosarcoma_MyoD.bed  \\\n",
       "0                0                                     0   \n",
       "1                0                                     0   \n",
       "2                0                                     0   \n",
       "3                0                                     1   \n",
       "4                0                                     0   \n",
       "\n",
       "   GSM1240833_GP5dsiRAD21_JUND_peaks_hg19.bed  \\\n",
       "0                                           0   \n",
       "1                                           0   \n",
       "2                                           0   \n",
       "3                                           0   \n",
       "4                                           0   \n",
       "\n",
       "   osteoblast_ChIP-seq_EP300_ENCFF001TCZ.bed  \\\n",
       "0                                          0   \n",
       "1                                          0   \n",
       "2                                          1   \n",
       "3                                          0   \n",
       "4                                          1   \n",
       "\n",
       "   H1-hESC_ChIP-seq_ATF2_ENCFF002CIR.bed  PANC.ISLT-TssBiv  \\\n",
       "0                                      0                 0   \n",
       "1                                      0                 0   \n",
       "2                                      0                 0   \n",
       "3                                      0                 0   \n",
       "4                                      0                 0   \n",
       "\n",
       "   E048-H3K36me3.gappedPeak  \\\n",
       "0                         1   \n",
       "1                         0   \n",
       "2                         0   \n",
       "3                         1   \n",
       "4                         1   \n",
       "\n",
       "   GSM1208807_batch2_chrom1_LoVo_VEZF1_PassedQC_peaks_hg19.bed  Hsmm-Tx  \\\n",
       "0                                                  0                  1   \n",
       "1                                                  0                  0   \n",
       "2                                                  0                  1   \n",
       "3                                                  0                  1   \n",
       "4                                                  0                  1   \n",
       "\n",
       "   HeLa-S3_ChIP-seq_POLR3A_ENCFF002CTD.bed      ...       \\\n",
       "0                                        0      ...        \n",
       "1                                        0      ...        \n",
       "2                                        0      ...        \n",
       "3                                        0      ...        \n",
       "4                                        0      ...        \n",
       "\n",
       "   GSM1208665_batch1_chrom1_LoVo_NR2F2_PassedQC_peaks_hg19.bed  \\\n",
       "0                                                  0             \n",
       "1                                                  0             \n",
       "2                                                  0             \n",
       "3                                                  0             \n",
       "4                                                  0             \n",
       "\n",
       "   LXRA-FLAG_2h_GW3965_intersect.bed  \\\n",
       "0                                  0   \n",
       "1                                  0   \n",
       "2                                  0   \n",
       "3                                  0   \n",
       "4                                  0   \n",
       "\n",
       "   bronchial_epithelial_cell_ChIP-seq_H3K4me3_ENCSR000DXJ_gappedpeak.bed  \\\n",
       "0                                                  0                       \n",
       "1                                                  0                       \n",
       "2                                                  0                       \n",
       "3                                                  0                       \n",
       "4                                                  0                       \n",
       "\n",
       "   E050-H3K4me3.gappedPeak  GM12878_ChIP-seq_EGR1_ENCFF002CGW.bed  \\\n",
       "0                        0                                      0   \n",
       "1                        0                                      0   \n",
       "2                        0                                      0   \n",
       "3                        1                                      0   \n",
       "4                        0                                      0   \n",
       "\n",
       "   E089-H3K4me3.gappedPeak  \\\n",
       "0                        0   \n",
       "1                        0   \n",
       "2                        0   \n",
       "3                        0   \n",
       "4                        0   \n",
       "\n",
       "   SK-N-MC_ChIP-seq_H3K4me3_ENCSR000DXL_gappedpeak.bed  \\\n",
       "0                                                  0     \n",
       "1                                                  0     \n",
       "2                                                  0     \n",
       "3                                                  0     \n",
       "4                                                  0     \n",
       "\n",
       "   E059-H3K36me3.gappedPeak  islet_pooled_H3K27ac.bed  PANC.ISLT-Tx  \n",
       "0                         1                         0             0  \n",
       "1                         0                         0             0  \n",
       "2                         0                         0             0  \n",
       "3                         1                         1             0  \n",
       "4                         0                         0             0  \n",
       "\n",
       "[5 rows x 100 columns]"
      ]
     },
     "execution_count": 41,
     "metadata": {},
     "output_type": "execute_result"
    }
   ],
   "source": [
    "feature_names = list(set(feature_names))\n",
    "X_train.loc[:, feature_names].head()"
   ]
  },
  {
   "cell_type": "code",
   "execution_count": 42,
   "metadata": {
    "colab": {},
    "colab_type": "code",
    "id": "p9juaYVVNEbn"
   },
   "outputs": [
    {
     "name": "stdout",
     "output_type": "stream",
     "text": [
      "voightlab-data/t2d/FeatureSelected/rfecv/X_train.csv written\n",
      "voightlab-data/t2d/FeatureSelected/rfecv/y_train.csv written\n",
      "voightlab-data/t2d/FeatureSelected/rfecv/X_test.csv written\n",
      "voightlab-data/t2d/FeatureSelected/rfecv/y_test.csv written\n",
      "voightlab-data/t2d/FeatureSelected/rfecv/df_train.csv written\n",
      "voightlab-data/t2d/FeatureSelected/rfecv/df_test.csv written\n"
     ]
    }
   ],
   "source": [
    "# Save training and testing datframes only consisting of the features we have selected\n",
    "rfecv_Xtraindf = X_train[ feature_names]\n",
    "rfecv_Xtestdf = X_test[feature_names]\n",
    "\n",
    "# Write the created dataset to a file so we can test model performance later\n",
    "write_to_S3(rfecv_Xtraindf, \"rfecv/X_train.csv\")\n",
    "write_to_S3(y_train, \"rfecv/y_train.csv\")\n",
    "write_to_S3(rfecv_Xtestdf, \"rfecv/X_test.csv\")\n",
    "write_to_S3(y_test, \"rfecv/y_test.csv\")\n",
    "\n",
    "# Write joint datasets so that we have those on hand too\n",
    "write_to_S3(pd.concat([rfecv_Xtraindf, y_train], axis=1), \"rfecv/df_train.csv\")\n",
    "write_to_S3(pd.concat([rfecv_Xtestdf, y_test], axis=1), \"rfecv/df_test.csv\")"
   ]
  },
  {
   "cell_type": "code",
   "execution_count": null,
   "metadata": {
    "colab": {},
    "colab_type": "code",
    "id": "ML8CPU_tNEbp"
   },
   "outputs": [],
   "source": []
  },
  {
   "cell_type": "code",
   "execution_count": null,
   "metadata": {},
   "outputs": [],
   "source": []
  }
 ],
 "metadata": {
  "accelerator": "GPU",
  "colab": {
   "collapsed_sections": [],
   "name": "FeatureSelection.ipynb",
   "provenance": [],
   "toc_visible": true,
   "version": "0.3.2"
  },
  "kernelspec": {
   "display_name": "conda_chainer_p36",
   "language": "python",
   "name": "conda_chainer_p36"
  },
  "language_info": {
   "codemirror_mode": {
    "name": "ipython",
    "version": 3
   },
   "file_extension": ".py",
   "mimetype": "text/x-python",
   "name": "python",
   "nbconvert_exporter": "python",
   "pygments_lexer": "ipython3",
   "version": "3.6.5"
  }
 },
 "nbformat": 4,
 "nbformat_minor": 2
}
