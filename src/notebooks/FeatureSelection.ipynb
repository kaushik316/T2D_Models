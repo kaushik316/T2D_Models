{
 "cells": [
  {
   "cell_type": "markdown",
   "metadata": {
    "colab_type": "text",
    "id": "YNa_QzocNEZr"
   },
   "source": [
    "## Feature Selection Methods"
   ]
  },
  {
   "cell_type": "markdown",
   "metadata": {
    "colab_type": "text",
    "id": "fU-aVLtYNEZs"
   },
   "source": [
    "Given the high dimensionality of all provided datasets (> 2000 features), we explore different feature selection techniques to eliminate features that are not informative with regard to classification. No feature transformation occurs here, we simply get rid of features without altering existing ones"
   ]
  },
  {
   "cell_type": "code",
   "execution_count": 9,
   "metadata": {
    "colab": {},
    "colab_type": "code",
    "id": "BBnyIMFjNEZt"
   },
   "outputs": [],
   "source": [
    "import pandas as pd\n",
    "import numpy as np\n",
    "import os\n",
    "import sys\n",
    "import boto3\n",
    "import s3fs\n",
    "from sklearn.preprocessing import MultiLabelBinarizer\n",
    "from sklearn.feature_selection import VarianceThreshold\n",
    "from sklearn.feature_selection import GenericUnivariateSelect\n",
    "from sklearn.feature_selection import chi2, mutual_info_classif\n",
    "from sklearn.linear_model import LogisticRegressionCV\n",
    "from sklearn.linear_model import LogisticRegression\n",
    "from sklearn.svm import SVC\n",
    "from sklearn.svm import LinearSVC\n",
    "from sklearn.model_selection import StratifiedKFold\n",
    "from sklearn.feature_selection import RFECV\n",
    "from sklearn.metrics import roc_curve, auc\n",
    "from sklearn.metrics import precision_score\n",
    "from sklearn.metrics import recall_score\n",
    "from itertools import compress\n",
    "import matplotlib.pyplot as plt\n",
    "plt.style.use('ggplot')\n",
    "sys.path.insert(1, os.path.join(sys.path[0], '..'))\n",
    "\n",
    "from auth import access_key, secret_key\n",
    "from Evaluator import Evaluator"
   ]
  },
  {
   "cell_type": "code",
   "execution_count": 10,
   "metadata": {
    "colab": {},
    "colab_type": "code",
    "id": "v3cnBN9jNEZx"
   },
   "outputs": [],
   "source": [
    "# Alter with location of input files as needed\n",
    "train_filepath = \"S3://voightlab-data/multilabel/weighted_train.csv\"\n",
    "test_filepath = \"S3://voightlab-data/multilabel/weighted_test.csv\"\n",
    "\n",
    "# Used to name the output files\n",
    "outpath = \"voightlab-data/multilabel/FeatureSelected/\""
   ]
  },
  {
   "cell_type": "code",
   "execution_count": 11,
   "metadata": {
    "colab": {},
    "colab_type": "code",
    "id": "WWzGBn2oOdlr"
   },
   "outputs": [],
   "source": [
    "# Only necessary for AWS usage\n",
    "os.environ[\"AWS_ACCESS_KEY_ID\"] = access_key\n",
    "os.environ[\"AWS_SECRET_ACCESS_KEY\"] = secret_key"
   ]
  },
  {
   "cell_type": "code",
   "execution_count": 12,
   "metadata": {
    "colab": {
     "base_uri": "https://localhost:8080/",
     "height": 270
    },
    "colab_type": "code",
    "id": "5h4PAi0MNEZ0",
    "outputId": "9f478914-cece-4bc8-c3ab-f3e7e1abb6d6"
   },
   "outputs": [
    {
     "data": {
      "text/html": [
       "<div>\n",
       "<style scoped>\n",
       "    .dataframe tbody tr th:only-of-type {\n",
       "        vertical-align: middle;\n",
       "    }\n",
       "\n",
       "    .dataframe tbody tr th {\n",
       "        vertical-align: top;\n",
       "    }\n",
       "\n",
       "    .dataframe thead th {\n",
       "        text-align: right;\n",
       "    }\n",
       "</style>\n",
       "<table border=\"1\" class=\"dataframe\">\n",
       "  <thead>\n",
       "    <tr style=\"text-align: right;\">\n",
       "      <th></th>\n",
       "      <th>MCF-7_ChIP-seq_CTCF_ENCSR000AHD_ENCFF001UML_ENCFF001UMN_intersect.bed</th>\n",
       "      <th>MCF-7_ChIP-seq_TAF1_ENCSR000AHF_ENCFF001UNU_ENCFF001UNT_intersect.bed</th>\n",
       "      <th>GM12878_ChIP-seq_CTCF_ENCFF002CDP.bed</th>\n",
       "      <th>K562_ChIP-seq_CTCF_ENCFF002CEL.bed</th>\n",
       "      <th>K562_ChIP-seq_POLR2A_ENCFF002CET.bed</th>\n",
       "      <th>endothelial_cell_of_umbilical_vein_ChIP-seq_CTCF_ENCFF002CEH.bed</th>\n",
       "      <th>endothelial_cell_of_umbilical_vein_ChIP-seq_POLR2A_ENCFF002CEJ.bed</th>\n",
       "      <th>keratinocyte_ChIP-seq_CTCF_ENCFF002CFA.bed</th>\n",
       "      <th>keratinocyte_ChIP-seq_POLR2A_ENCFF002CFC.bed</th>\n",
       "      <th>H1-hESC_ChIP-seq_H3K27me3_ENCFF001SUY.bed</th>\n",
       "      <th>...</th>\n",
       "      <th>Thyroid</th>\n",
       "      <th>Uterus</th>\n",
       "      <th>Vagina</th>\n",
       "      <th>Whole_Blood</th>\n",
       "      <th>phastcon</th>\n",
       "      <th>snpcount</th>\n",
       "      <th>is_BMI</th>\n",
       "      <th>is_CAD</th>\n",
       "      <th>is_T2D</th>\n",
       "      <th>is_lipids</th>\n",
       "    </tr>\n",
       "  </thead>\n",
       "  <tbody>\n",
       "    <tr>\n",
       "      <th>3761</th>\n",
       "      <td>0.005785</td>\n",
       "      <td>0.0</td>\n",
       "      <td>0.006229</td>\n",
       "      <td>0.008389</td>\n",
       "      <td>0.0</td>\n",
       "      <td>0.004962</td>\n",
       "      <td>0.0</td>\n",
       "      <td>0.006037</td>\n",
       "      <td>0.0</td>\n",
       "      <td>0.084184</td>\n",
       "      <td>...</td>\n",
       "      <td>0.00000</td>\n",
       "      <td>0.0</td>\n",
       "      <td>0.00000</td>\n",
       "      <td>0.0</td>\n",
       "      <td>0.030775</td>\n",
       "      <td>0.000042</td>\n",
       "      <td>1</td>\n",
       "      <td>0</td>\n",
       "      <td>0</td>\n",
       "      <td>0</td>\n",
       "    </tr>\n",
       "    <tr>\n",
       "      <th>2367</th>\n",
       "      <td>0.000000</td>\n",
       "      <td>0.0</td>\n",
       "      <td>0.000000</td>\n",
       "      <td>0.000000</td>\n",
       "      <td>0.0</td>\n",
       "      <td>0.000000</td>\n",
       "      <td>0.0</td>\n",
       "      <td>0.006037</td>\n",
       "      <td>0.0</td>\n",
       "      <td>0.000000</td>\n",
       "      <td>...</td>\n",
       "      <td>0.04764</td>\n",
       "      <td>0.0</td>\n",
       "      <td>0.04764</td>\n",
       "      <td>0.0</td>\n",
       "      <td>0.047640</td>\n",
       "      <td>0.000154</td>\n",
       "      <td>0</td>\n",
       "      <td>0</td>\n",
       "      <td>0</td>\n",
       "      <td>0</td>\n",
       "    </tr>\n",
       "    <tr>\n",
       "      <th>4085</th>\n",
       "      <td>0.000000</td>\n",
       "      <td>0.0</td>\n",
       "      <td>0.000000</td>\n",
       "      <td>0.000000</td>\n",
       "      <td>0.0</td>\n",
       "      <td>0.000000</td>\n",
       "      <td>0.0</td>\n",
       "      <td>0.000000</td>\n",
       "      <td>0.0</td>\n",
       "      <td>0.084184</td>\n",
       "      <td>...</td>\n",
       "      <td>0.00000</td>\n",
       "      <td>0.0</td>\n",
       "      <td>0.00000</td>\n",
       "      <td>0.0</td>\n",
       "      <td>0.047449</td>\n",
       "      <td>0.000126</td>\n",
       "      <td>0</td>\n",
       "      <td>0</td>\n",
       "      <td>1</td>\n",
       "      <td>0</td>\n",
       "    </tr>\n",
       "    <tr>\n",
       "      <th>10218</th>\n",
       "      <td>0.000000</td>\n",
       "      <td>0.0</td>\n",
       "      <td>0.000000</td>\n",
       "      <td>0.000000</td>\n",
       "      <td>0.0</td>\n",
       "      <td>0.000000</td>\n",
       "      <td>0.0</td>\n",
       "      <td>0.000000</td>\n",
       "      <td>0.0</td>\n",
       "      <td>0.000000</td>\n",
       "      <td>...</td>\n",
       "      <td>0.00000</td>\n",
       "      <td>0.0</td>\n",
       "      <td>0.00000</td>\n",
       "      <td>0.0</td>\n",
       "      <td>0.001096</td>\n",
       "      <td>0.000042</td>\n",
       "      <td>0</td>\n",
       "      <td>0</td>\n",
       "      <td>0</td>\n",
       "      <td>0</td>\n",
       "    </tr>\n",
       "    <tr>\n",
       "      <th>7143</th>\n",
       "      <td>0.000000</td>\n",
       "      <td>0.0</td>\n",
       "      <td>0.006229</td>\n",
       "      <td>0.008389</td>\n",
       "      <td>0.0</td>\n",
       "      <td>0.004962</td>\n",
       "      <td>0.0</td>\n",
       "      <td>0.006037</td>\n",
       "      <td>0.0</td>\n",
       "      <td>0.000000</td>\n",
       "      <td>...</td>\n",
       "      <td>0.00000</td>\n",
       "      <td>0.0</td>\n",
       "      <td>0.00000</td>\n",
       "      <td>0.0</td>\n",
       "      <td>0.047640</td>\n",
       "      <td>0.000866</td>\n",
       "      <td>0</td>\n",
       "      <td>0</td>\n",
       "      <td>0</td>\n",
       "      <td>0</td>\n",
       "    </tr>\n",
       "  </tbody>\n",
       "</table>\n",
       "<p>5 rows × 2805 columns</p>\n",
       "</div>"
      ],
      "text/plain": [
       "       MCF-7_ChIP-seq_CTCF_ENCSR000AHD_ENCFF001UML_ENCFF001UMN_intersect.bed  \\\n",
       "3761                                            0.005785                       \n",
       "2367                                            0.000000                       \n",
       "4085                                            0.000000                       \n",
       "10218                                           0.000000                       \n",
       "7143                                            0.000000                       \n",
       "\n",
       "       MCF-7_ChIP-seq_TAF1_ENCSR000AHF_ENCFF001UNU_ENCFF001UNT_intersect.bed  \\\n",
       "3761                                                 0.0                       \n",
       "2367                                                 0.0                       \n",
       "4085                                                 0.0                       \n",
       "10218                                                0.0                       \n",
       "7143                                                 0.0                       \n",
       "\n",
       "       GM12878_ChIP-seq_CTCF_ENCFF002CDP.bed  \\\n",
       "3761                                0.006229   \n",
       "2367                                0.000000   \n",
       "4085                                0.000000   \n",
       "10218                               0.000000   \n",
       "7143                                0.006229   \n",
       "\n",
       "       K562_ChIP-seq_CTCF_ENCFF002CEL.bed  \\\n",
       "3761                             0.008389   \n",
       "2367                             0.000000   \n",
       "4085                             0.000000   \n",
       "10218                            0.000000   \n",
       "7143                             0.008389   \n",
       "\n",
       "       K562_ChIP-seq_POLR2A_ENCFF002CET.bed  \\\n",
       "3761                                    0.0   \n",
       "2367                                    0.0   \n",
       "4085                                    0.0   \n",
       "10218                                   0.0   \n",
       "7143                                    0.0   \n",
       "\n",
       "       endothelial_cell_of_umbilical_vein_ChIP-seq_CTCF_ENCFF002CEH.bed  \\\n",
       "3761                                            0.004962                  \n",
       "2367                                            0.000000                  \n",
       "4085                                            0.000000                  \n",
       "10218                                           0.000000                  \n",
       "7143                                            0.004962                  \n",
       "\n",
       "       endothelial_cell_of_umbilical_vein_ChIP-seq_POLR2A_ENCFF002CEJ.bed  \\\n",
       "3761                                                 0.0                    \n",
       "2367                                                 0.0                    \n",
       "4085                                                 0.0                    \n",
       "10218                                                0.0                    \n",
       "7143                                                 0.0                    \n",
       "\n",
       "       keratinocyte_ChIP-seq_CTCF_ENCFF002CFA.bed  \\\n",
       "3761                                     0.006037   \n",
       "2367                                     0.006037   \n",
       "4085                                     0.000000   \n",
       "10218                                    0.000000   \n",
       "7143                                     0.006037   \n",
       "\n",
       "       keratinocyte_ChIP-seq_POLR2A_ENCFF002CFC.bed  \\\n",
       "3761                                            0.0   \n",
       "2367                                            0.0   \n",
       "4085                                            0.0   \n",
       "10218                                           0.0   \n",
       "7143                                            0.0   \n",
       "\n",
       "       H1-hESC_ChIP-seq_H3K27me3_ENCFF001SUY.bed    ...      Thyroid  Uterus  \\\n",
       "3761                                    0.084184    ...      0.00000     0.0   \n",
       "2367                                    0.000000    ...      0.04764     0.0   \n",
       "4085                                    0.084184    ...      0.00000     0.0   \n",
       "10218                                   0.000000    ...      0.00000     0.0   \n",
       "7143                                    0.000000    ...      0.00000     0.0   \n",
       "\n",
       "        Vagina  Whole_Blood  phastcon  snpcount  is_BMI  is_CAD  is_T2D  \\\n",
       "3761   0.00000          0.0  0.030775  0.000042       1       0       0   \n",
       "2367   0.04764          0.0  0.047640  0.000154       0       0       0   \n",
       "4085   0.00000          0.0  0.047449  0.000126       0       0       1   \n",
       "10218  0.00000          0.0  0.001096  0.000042       0       0       0   \n",
       "7143   0.00000          0.0  0.047640  0.000866       0       0       0   \n",
       "\n",
       "       is_lipids  \n",
       "3761           0  \n",
       "2367           0  \n",
       "4085           0  \n",
       "10218          0  \n",
       "7143           0  \n",
       "\n",
       "[5 rows x 2805 columns]"
      ]
     },
     "execution_count": 12,
     "metadata": {},
     "output_type": "execute_result"
    }
   ],
   "source": [
    "train_df = pd.read_csv(train_filepath, index_col=0)\n",
    "test_df = pd.read_csv(test_filepath, index_col=0)\n",
    "train_df.head()"
   ]
  },
  {
   "cell_type": "code",
   "execution_count": 13,
   "metadata": {
    "colab": {},
    "colab_type": "code",
    "id": "Blw4n22vNEZ6"
   },
   "outputs": [],
   "source": [
    "# Create training and test splits, dropping labels and sample weights from training set\n",
    "labels = ['is_BMI', 'is_CAD', 'is_T2D', 'is_lipids']\n",
    "\n",
    "X_train = train_df.drop(labels, axis=1)\n",
    "y_train = train_df.loc[:, labels]\n",
    "\n",
    "X_test = test_df.drop(labels, axis=1)\n",
    "y_test = test_df.loc[:, labels]"
   ]
  },
  {
   "cell_type": "code",
   "execution_count": 14,
   "metadata": {
    "colab": {},
    "colab_type": "code",
    "id": "Vr_ix8nbNEZ8"
   },
   "outputs": [],
   "source": [
    "# Create combined dataset case we want to run feature selection tests on the entire combined dataset\n",
    "X = pd.concat([X_train, X_test])\n",
    "y = pd.concat([y_train, y_test])"
   ]
  },
  {
   "cell_type": "code",
   "execution_count": 15,
   "metadata": {
    "colab": {
     "base_uri": "https://localhost:8080/",
     "height": 270
    },
    "colab_type": "code",
    "id": "FLbaZ3eeNEZ_",
    "outputId": "c6f08d8e-4e01-40fb-f238-874360588006"
   },
   "outputs": [
    {
     "data": {
      "text/html": [
       "<div>\n",
       "<style scoped>\n",
       "    .dataframe tbody tr th:only-of-type {\n",
       "        vertical-align: middle;\n",
       "    }\n",
       "\n",
       "    .dataframe tbody tr th {\n",
       "        vertical-align: top;\n",
       "    }\n",
       "\n",
       "    .dataframe thead th {\n",
       "        text-align: right;\n",
       "    }\n",
       "</style>\n",
       "<table border=\"1\" class=\"dataframe\">\n",
       "  <thead>\n",
       "    <tr style=\"text-align: right;\">\n",
       "      <th></th>\n",
       "      <th>MCF-7_ChIP-seq_CTCF_ENCSR000AHD_ENCFF001UML_ENCFF001UMN_intersect.bed</th>\n",
       "      <th>MCF-7_ChIP-seq_TAF1_ENCSR000AHF_ENCFF001UNU_ENCFF001UNT_intersect.bed</th>\n",
       "      <th>GM12878_ChIP-seq_CTCF_ENCFF002CDP.bed</th>\n",
       "      <th>K562_ChIP-seq_CTCF_ENCFF002CEL.bed</th>\n",
       "      <th>K562_ChIP-seq_POLR2A_ENCFF002CET.bed</th>\n",
       "      <th>endothelial_cell_of_umbilical_vein_ChIP-seq_CTCF_ENCFF002CEH.bed</th>\n",
       "      <th>endothelial_cell_of_umbilical_vein_ChIP-seq_POLR2A_ENCFF002CEJ.bed</th>\n",
       "      <th>keratinocyte_ChIP-seq_CTCF_ENCFF002CFA.bed</th>\n",
       "      <th>keratinocyte_ChIP-seq_POLR2A_ENCFF002CFC.bed</th>\n",
       "      <th>H1-hESC_ChIP-seq_H3K27me3_ENCFF001SUY.bed</th>\n",
       "      <th>...</th>\n",
       "      <th>Small_Intestine_Terminal_Ileum</th>\n",
       "      <th>Spleen</th>\n",
       "      <th>Stomach</th>\n",
       "      <th>Testis</th>\n",
       "      <th>Thyroid</th>\n",
       "      <th>Uterus</th>\n",
       "      <th>Vagina</th>\n",
       "      <th>Whole_Blood</th>\n",
       "      <th>phastcon</th>\n",
       "      <th>snpcount</th>\n",
       "    </tr>\n",
       "  </thead>\n",
       "  <tbody>\n",
       "    <tr>\n",
       "      <th>7773</th>\n",
       "      <td>0.000000</td>\n",
       "      <td>0.0</td>\n",
       "      <td>0.000000</td>\n",
       "      <td>0.000000</td>\n",
       "      <td>0.0</td>\n",
       "      <td>0.000000</td>\n",
       "      <td>0.0</td>\n",
       "      <td>0.000000</td>\n",
       "      <td>0.0</td>\n",
       "      <td>0.000000</td>\n",
       "      <td>...</td>\n",
       "      <td>0.0</td>\n",
       "      <td>0.0</td>\n",
       "      <td>0.0</td>\n",
       "      <td>0.0</td>\n",
       "      <td>0.0</td>\n",
       "      <td>0.04764</td>\n",
       "      <td>0.00000</td>\n",
       "      <td>0.00000</td>\n",
       "      <td>0.014768</td>\n",
       "      <td>0.000028</td>\n",
       "    </tr>\n",
       "    <tr>\n",
       "      <th>5206</th>\n",
       "      <td>0.000000</td>\n",
       "      <td>0.0</td>\n",
       "      <td>0.000000</td>\n",
       "      <td>0.000000</td>\n",
       "      <td>0.0</td>\n",
       "      <td>0.000000</td>\n",
       "      <td>0.0</td>\n",
       "      <td>0.000000</td>\n",
       "      <td>0.0</td>\n",
       "      <td>0.000000</td>\n",
       "      <td>...</td>\n",
       "      <td>0.0</td>\n",
       "      <td>0.0</td>\n",
       "      <td>0.0</td>\n",
       "      <td>0.0</td>\n",
       "      <td>0.0</td>\n",
       "      <td>0.04764</td>\n",
       "      <td>0.04764</td>\n",
       "      <td>0.00000</td>\n",
       "      <td>0.020199</td>\n",
       "      <td>0.000126</td>\n",
       "    </tr>\n",
       "    <tr>\n",
       "      <th>8664</th>\n",
       "      <td>0.000000</td>\n",
       "      <td>0.0</td>\n",
       "      <td>0.000000</td>\n",
       "      <td>0.000000</td>\n",
       "      <td>0.0</td>\n",
       "      <td>0.000000</td>\n",
       "      <td>0.0</td>\n",
       "      <td>0.000000</td>\n",
       "      <td>0.0</td>\n",
       "      <td>0.000000</td>\n",
       "      <td>...</td>\n",
       "      <td>0.0</td>\n",
       "      <td>0.0</td>\n",
       "      <td>0.0</td>\n",
       "      <td>0.0</td>\n",
       "      <td>0.0</td>\n",
       "      <td>0.00000</td>\n",
       "      <td>0.00000</td>\n",
       "      <td>0.00000</td>\n",
       "      <td>0.000191</td>\n",
       "      <td>0.000056</td>\n",
       "    </tr>\n",
       "    <tr>\n",
       "      <th>9151</th>\n",
       "      <td>0.000000</td>\n",
       "      <td>0.0</td>\n",
       "      <td>0.000000</td>\n",
       "      <td>0.000000</td>\n",
       "      <td>0.0</td>\n",
       "      <td>0.000000</td>\n",
       "      <td>0.0</td>\n",
       "      <td>0.000000</td>\n",
       "      <td>0.0</td>\n",
       "      <td>0.000000</td>\n",
       "      <td>...</td>\n",
       "      <td>0.0</td>\n",
       "      <td>0.0</td>\n",
       "      <td>0.0</td>\n",
       "      <td>0.0</td>\n",
       "      <td>0.0</td>\n",
       "      <td>0.00000</td>\n",
       "      <td>0.00000</td>\n",
       "      <td>0.00000</td>\n",
       "      <td>0.040684</td>\n",
       "      <td>0.000140</td>\n",
       "    </tr>\n",
       "    <tr>\n",
       "      <th>2104</th>\n",
       "      <td>0.005785</td>\n",
       "      <td>0.0</td>\n",
       "      <td>0.006229</td>\n",
       "      <td>0.008389</td>\n",
       "      <td>0.0</td>\n",
       "      <td>0.004962</td>\n",
       "      <td>0.0</td>\n",
       "      <td>0.006037</td>\n",
       "      <td>0.0</td>\n",
       "      <td>0.084184</td>\n",
       "      <td>...</td>\n",
       "      <td>0.0</td>\n",
       "      <td>0.0</td>\n",
       "      <td>0.0</td>\n",
       "      <td>0.0</td>\n",
       "      <td>0.0</td>\n",
       "      <td>0.00000</td>\n",
       "      <td>0.00000</td>\n",
       "      <td>0.04764</td>\n",
       "      <td>0.047354</td>\n",
       "      <td>0.000321</td>\n",
       "    </tr>\n",
       "  </tbody>\n",
       "</table>\n",
       "<p>5 rows × 2801 columns</p>\n",
       "</div>"
      ],
      "text/plain": [
       "      MCF-7_ChIP-seq_CTCF_ENCSR000AHD_ENCFF001UML_ENCFF001UMN_intersect.bed  \\\n",
       "7773                                           0.000000                       \n",
       "5206                                           0.000000                       \n",
       "8664                                           0.000000                       \n",
       "9151                                           0.000000                       \n",
       "2104                                           0.005785                       \n",
       "\n",
       "      MCF-7_ChIP-seq_TAF1_ENCSR000AHF_ENCFF001UNU_ENCFF001UNT_intersect.bed  \\\n",
       "7773                                                0.0                       \n",
       "5206                                                0.0                       \n",
       "8664                                                0.0                       \n",
       "9151                                                0.0                       \n",
       "2104                                                0.0                       \n",
       "\n",
       "      GM12878_ChIP-seq_CTCF_ENCFF002CDP.bed  \\\n",
       "7773                               0.000000   \n",
       "5206                               0.000000   \n",
       "8664                               0.000000   \n",
       "9151                               0.000000   \n",
       "2104                               0.006229   \n",
       "\n",
       "      K562_ChIP-seq_CTCF_ENCFF002CEL.bed  \\\n",
       "7773                            0.000000   \n",
       "5206                            0.000000   \n",
       "8664                            0.000000   \n",
       "9151                            0.000000   \n",
       "2104                            0.008389   \n",
       "\n",
       "      K562_ChIP-seq_POLR2A_ENCFF002CET.bed  \\\n",
       "7773                                   0.0   \n",
       "5206                                   0.0   \n",
       "8664                                   0.0   \n",
       "9151                                   0.0   \n",
       "2104                                   0.0   \n",
       "\n",
       "      endothelial_cell_of_umbilical_vein_ChIP-seq_CTCF_ENCFF002CEH.bed  \\\n",
       "7773                                           0.000000                  \n",
       "5206                                           0.000000                  \n",
       "8664                                           0.000000                  \n",
       "9151                                           0.000000                  \n",
       "2104                                           0.004962                  \n",
       "\n",
       "      endothelial_cell_of_umbilical_vein_ChIP-seq_POLR2A_ENCFF002CEJ.bed  \\\n",
       "7773                                                0.0                    \n",
       "5206                                                0.0                    \n",
       "8664                                                0.0                    \n",
       "9151                                                0.0                    \n",
       "2104                                                0.0                    \n",
       "\n",
       "      keratinocyte_ChIP-seq_CTCF_ENCFF002CFA.bed  \\\n",
       "7773                                    0.000000   \n",
       "5206                                    0.000000   \n",
       "8664                                    0.000000   \n",
       "9151                                    0.000000   \n",
       "2104                                    0.006037   \n",
       "\n",
       "      keratinocyte_ChIP-seq_POLR2A_ENCFF002CFC.bed  \\\n",
       "7773                                           0.0   \n",
       "5206                                           0.0   \n",
       "8664                                           0.0   \n",
       "9151                                           0.0   \n",
       "2104                                           0.0   \n",
       "\n",
       "      H1-hESC_ChIP-seq_H3K27me3_ENCFF001SUY.bed    ...     \\\n",
       "7773                                   0.000000    ...      \n",
       "5206                                   0.000000    ...      \n",
       "8664                                   0.000000    ...      \n",
       "9151                                   0.000000    ...      \n",
       "2104                                   0.084184    ...      \n",
       "\n",
       "      Small_Intestine_Terminal_Ileum  Spleen  Stomach  Testis  Thyroid  \\\n",
       "7773                             0.0     0.0      0.0     0.0      0.0   \n",
       "5206                             0.0     0.0      0.0     0.0      0.0   \n",
       "8664                             0.0     0.0      0.0     0.0      0.0   \n",
       "9151                             0.0     0.0      0.0     0.0      0.0   \n",
       "2104                             0.0     0.0      0.0     0.0      0.0   \n",
       "\n",
       "       Uterus   Vagina  Whole_Blood  phastcon  snpcount  \n",
       "7773  0.04764  0.00000      0.00000  0.014768  0.000028  \n",
       "5206  0.04764  0.04764      0.00000  0.020199  0.000126  \n",
       "8664  0.00000  0.00000      0.00000  0.000191  0.000056  \n",
       "9151  0.00000  0.00000      0.00000  0.040684  0.000140  \n",
       "2104  0.00000  0.00000      0.04764  0.047354  0.000321  \n",
       "\n",
       "[5 rows x 2801 columns]"
      ]
     },
     "execution_count": 15,
     "metadata": {},
     "output_type": "execute_result"
    }
   ],
   "source": [
    "X_test.head()"
   ]
  },
  {
   "cell_type": "code",
   "execution_count": 16,
   "metadata": {
    "colab": {},
    "colab_type": "code",
    "id": "tPS3ftGlNEaC"
   },
   "outputs": [],
   "source": [
    "# Init object for visualization and evaluation\n",
    "ev = Evaluator()"
   ]
  },
  {
   "cell_type": "code",
   "execution_count": 17,
   "metadata": {
    "colab": {},
    "colab_type": "code",
    "id": "SWGBcnXpNEaF"
   },
   "outputs": [],
   "source": [
    "# For storage once we have done the feature selection\n",
    "def write_to_S3(df, filename):\n",
    "    bytes_to_write = df.to_csv(None).encode()\n",
    "    fs = s3fs.S3FileSystem(key=access_key, secret=secret_key)\n",
    "    print (outpath + filename + \" written\") \n",
    "    with fs.open(outpath + filename, 'wb') as f:\n",
    "        f.write(bytes_to_write)\n",
    "\n",
    "# If not using S3\n",
    "def write_local(df, filename):\n",
    "    pd.to_csv(outpath + filename)"
   ]
  },
  {
   "cell_type": "code",
   "execution_count": null,
   "metadata": {
    "colab": {},
    "colab_type": "code",
    "id": "0NobqWgUNEaJ"
   },
   "outputs": [],
   "source": []
  },
  {
   "cell_type": "markdown",
   "metadata": {
    "colab_type": "text",
    "id": "Hp72oNiYNEaM"
   },
   "source": [
    "### Variance Threshold"
   ]
  },
  {
   "cell_type": "markdown",
   "metadata": {
    "colab_type": "text",
    "id": "maLEj1CRNEaM"
   },
   "source": [
    "VarianceThreshold is a simple baseline approach to feature selection. It removes all features whose variance doesn’t meet our specified threshold. By default, it removes all zero-variance features, i.e. features that have the same value in all samples. This method only looks at the features, not the labels. This means that it can be used in unsupervised learning, however it is not accounting for any particular distinctions between the controls and positives. \n",
    "\n",
    "In a dataset with boolean features we can remove all features that are either one or zero in more than a certain % of the samples. We can further prune the feature set by taking only the top n features in terms of displaying the most variance.\n",
    "\n",
    "Since boolean variables are Bernoulli random variables, their variance is given by p(1-p). So as an example, if we want to remove all features that are either one or zero (on or off) in more than 80% of the samples then we woould set the threshold parameter of the selector to = .80 * (1 - 0.80).\n",
    "\n",
    "A note on this approach in this instance is that it might not be particularly effective for such an imbalanced dataset, as features displaying the most variation could display that variation all within the larger control class. "
   ]
  },
  {
   "cell_type": "code",
   "execution_count": 19,
   "metadata": {
    "colab": {},
    "colab_type": "code",
    "id": "fyVUj2ZzNEaN"
   },
   "outputs": [
    {
     "name": "stdout",
     "output_type": "stream",
     "text": [
      "No feature in X meets the variance threshold 0.09000\n"
     ]
    }
   ],
   "source": [
    "try:\n",
    "    selector = VarianceThreshold(threshold=.90 * (1 - .90))\n",
    "    selector.fit_transform(X_train, y_train)\n",
    "except ValueError:\n",
    "    print (\"No feature in X meets the variance threshold 0.09000\")"
   ]
  },
  {
   "cell_type": "code",
   "execution_count": 20,
   "metadata": {
    "colab": {},
    "colab_type": "code",
    "id": "WntYssOvNEaR"
   },
   "outputs": [
    {
     "name": "stdout",
     "output_type": "stream",
     "text": [
      "Features remaining in the featureset: 2801\n"
     ]
    }
   ],
   "source": [
    "print (\"Features remaining in the featureset: {}\".format(len(selector.variances_)))"
   ]
  },
  {
   "cell_type": "markdown",
   "metadata": {
    "colab_type": "text",
    "id": "9EUfQLKbNEaV"
   },
   "source": [
    "Here we set n to some number, representing the number of features that we want to keep. We obtain the indices of elements with the highest variance and create a new dataframe for training containing only those features."
   ]
  },
  {
   "cell_type": "code",
   "execution_count": 21,
   "metadata": {
    "colab": {},
    "colab_type": "code",
    "id": "zvQZmm2eNEaV"
   },
   "outputs": [],
   "source": [
    "# Select the top n features, where features are ranked based on how much variance they display\n",
    "n = 800\n",
    "top_idx = np.argsort(selector.variances_)[-n:]\n",
    "vt_features = [selector.variances_[i] for i in top_idx]\n",
    "vt_traindf = X_train.iloc[:, top_idx]\n",
    "vt_testdf = X_test.iloc[:, top_idx]"
   ]
  },
  {
   "cell_type": "code",
   "execution_count": 22,
   "metadata": {
    "colab": {},
    "colab_type": "code",
    "id": "AevxODohNEaZ"
   },
   "outputs": [
    {
     "data": {
      "text/html": [
       "<div>\n",
       "<style scoped>\n",
       "    .dataframe tbody tr th:only-of-type {\n",
       "        vertical-align: middle;\n",
       "    }\n",
       "\n",
       "    .dataframe tbody tr th {\n",
       "        vertical-align: top;\n",
       "    }\n",
       "\n",
       "    .dataframe thead th {\n",
       "        text-align: right;\n",
       "    }\n",
       "</style>\n",
       "<table border=\"1\" class=\"dataframe\">\n",
       "  <thead>\n",
       "    <tr style=\"text-align: right;\">\n",
       "      <th></th>\n",
       "      <th>E019-H3K9ac.gappedPeak</th>\n",
       "      <th>E108-H3K4me3.gappedPeak</th>\n",
       "      <th>U2OS_ChIP-seq_H3K36me3_ENCFF001VDK.bed</th>\n",
       "      <th>GM12878_transcription_profiling_by_array_assay_ENCFF001SNK.bed</th>\n",
       "      <th>E106-H3K9me3.gappedPeak</th>\n",
       "      <th>E097-H3K27me3.gappedPeak</th>\n",
       "      <th>E041-H3K4me3.gappedPeak</th>\n",
       "      <th>E118-H3K27me3.gappedPeak</th>\n",
       "      <th>E040-H3K27me3.gappedPeak</th>\n",
       "      <th>E063-H3K4me3.gappedPeak</th>\n",
       "      <th>...</th>\n",
       "      <th>H1-hESC_ChIP-seq_H4K20me1_ENCFF001SVF.bed</th>\n",
       "      <th>K562_ChIP-seq_CHD7_ENCFF001SYZ.bed</th>\n",
       "      <th>H1-hESC_ChIP-seq_HDAC6_ENCFF001SVH.bed</th>\n",
       "      <th>H1-hESC_ChIP-seq_SUZ12_ENCFF001SVQ.bed</th>\n",
       "      <th>K562_ChIP-seq_KAT2B_ENCFF001SZW.bed</th>\n",
       "      <th>H1-hESC_ChIP-seq_KDM5B_ENCFF001SVM.bed</th>\n",
       "      <th>K562_ChIP-seq_WHSC1_ENCFF001SZU.bed</th>\n",
       "      <th>K562_ChIP-seq_CREBBP_ENCFF001SYU.bed</th>\n",
       "      <th>H1-hESC_ChIP-seq_SIRT6_ENCFF001SVP.bed</th>\n",
       "      <th>B_cell_ChIP-seq_EZH2_ENCFF001STL.bed</th>\n",
       "    </tr>\n",
       "  </thead>\n",
       "  <tbody>\n",
       "    <tr>\n",
       "      <th>3761</th>\n",
       "      <td>0.000000</td>\n",
       "      <td>0.068717</td>\n",
       "      <td>0.000000</td>\n",
       "      <td>0.000000</td>\n",
       "      <td>0.000000</td>\n",
       "      <td>0.000000</td>\n",
       "      <td>0.000000</td>\n",
       "      <td>0.000000</td>\n",
       "      <td>0.00000</td>\n",
       "      <td>0.000000</td>\n",
       "      <td>...</td>\n",
       "      <td>0.298983</td>\n",
       "      <td>0.000000</td>\n",
       "      <td>0.000000</td>\n",
       "      <td>0.35171</td>\n",
       "      <td>0.352737</td>\n",
       "      <td>0.000000</td>\n",
       "      <td>0.364974</td>\n",
       "      <td>0.392522</td>\n",
       "      <td>0.410543</td>\n",
       "      <td>0.42594</td>\n",
       "    </tr>\n",
       "    <tr>\n",
       "      <th>2367</th>\n",
       "      <td>0.000000</td>\n",
       "      <td>0.068717</td>\n",
       "      <td>0.076019</td>\n",
       "      <td>0.067652</td>\n",
       "      <td>0.000000</td>\n",
       "      <td>0.000000</td>\n",
       "      <td>0.000000</td>\n",
       "      <td>0.000000</td>\n",
       "      <td>0.00000</td>\n",
       "      <td>0.068862</td>\n",
       "      <td>...</td>\n",
       "      <td>0.298983</td>\n",
       "      <td>0.298397</td>\n",
       "      <td>0.000000</td>\n",
       "      <td>0.35171</td>\n",
       "      <td>0.000000</td>\n",
       "      <td>0.000000</td>\n",
       "      <td>0.364974</td>\n",
       "      <td>0.000000</td>\n",
       "      <td>0.410543</td>\n",
       "      <td>0.00000</td>\n",
       "    </tr>\n",
       "    <tr>\n",
       "      <th>4085</th>\n",
       "      <td>0.068458</td>\n",
       "      <td>0.068717</td>\n",
       "      <td>0.076019</td>\n",
       "      <td>0.067652</td>\n",
       "      <td>0.000000</td>\n",
       "      <td>0.000000</td>\n",
       "      <td>0.071347</td>\n",
       "      <td>0.071142</td>\n",
       "      <td>0.07333</td>\n",
       "      <td>0.068862</td>\n",
       "      <td>...</td>\n",
       "      <td>0.298983</td>\n",
       "      <td>0.000000</td>\n",
       "      <td>0.327669</td>\n",
       "      <td>0.35171</td>\n",
       "      <td>0.352737</td>\n",
       "      <td>0.358877</td>\n",
       "      <td>0.364974</td>\n",
       "      <td>0.392522</td>\n",
       "      <td>0.410543</td>\n",
       "      <td>0.42594</td>\n",
       "    </tr>\n",
       "    <tr>\n",
       "      <th>10218</th>\n",
       "      <td>0.068458</td>\n",
       "      <td>0.068717</td>\n",
       "      <td>0.000000</td>\n",
       "      <td>0.000000</td>\n",
       "      <td>0.000000</td>\n",
       "      <td>0.000000</td>\n",
       "      <td>0.071347</td>\n",
       "      <td>0.071142</td>\n",
       "      <td>0.07333</td>\n",
       "      <td>0.068862</td>\n",
       "      <td>...</td>\n",
       "      <td>0.298983</td>\n",
       "      <td>0.298397</td>\n",
       "      <td>0.327669</td>\n",
       "      <td>0.35171</td>\n",
       "      <td>0.352737</td>\n",
       "      <td>0.358877</td>\n",
       "      <td>0.364974</td>\n",
       "      <td>0.392522</td>\n",
       "      <td>0.410543</td>\n",
       "      <td>0.42594</td>\n",
       "    </tr>\n",
       "    <tr>\n",
       "      <th>7143</th>\n",
       "      <td>0.000000</td>\n",
       "      <td>0.068717</td>\n",
       "      <td>0.000000</td>\n",
       "      <td>0.067652</td>\n",
       "      <td>0.072048</td>\n",
       "      <td>0.071846</td>\n",
       "      <td>0.000000</td>\n",
       "      <td>0.000000</td>\n",
       "      <td>0.00000</td>\n",
       "      <td>0.068862</td>\n",
       "      <td>...</td>\n",
       "      <td>0.000000</td>\n",
       "      <td>0.298397</td>\n",
       "      <td>0.000000</td>\n",
       "      <td>0.35171</td>\n",
       "      <td>0.352737</td>\n",
       "      <td>0.358877</td>\n",
       "      <td>0.000000</td>\n",
       "      <td>0.392522</td>\n",
       "      <td>0.410543</td>\n",
       "      <td>0.00000</td>\n",
       "    </tr>\n",
       "  </tbody>\n",
       "</table>\n",
       "<p>5 rows × 800 columns</p>\n",
       "</div>"
      ],
      "text/plain": [
       "       E019-H3K9ac.gappedPeak  E108-H3K4me3.gappedPeak  \\\n",
       "3761                 0.000000                 0.068717   \n",
       "2367                 0.000000                 0.068717   \n",
       "4085                 0.068458                 0.068717   \n",
       "10218                0.068458                 0.068717   \n",
       "7143                 0.000000                 0.068717   \n",
       "\n",
       "       U2OS_ChIP-seq_H3K36me3_ENCFF001VDK.bed  \\\n",
       "3761                                 0.000000   \n",
       "2367                                 0.076019   \n",
       "4085                                 0.076019   \n",
       "10218                                0.000000   \n",
       "7143                                 0.000000   \n",
       "\n",
       "       GM12878_transcription_profiling_by_array_assay_ENCFF001SNK.bed  \\\n",
       "3761                                            0.000000                \n",
       "2367                                            0.067652                \n",
       "4085                                            0.067652                \n",
       "10218                                           0.000000                \n",
       "7143                                            0.067652                \n",
       "\n",
       "       E106-H3K9me3.gappedPeak  E097-H3K27me3.gappedPeak  \\\n",
       "3761                  0.000000                  0.000000   \n",
       "2367                  0.000000                  0.000000   \n",
       "4085                  0.000000                  0.000000   \n",
       "10218                 0.000000                  0.000000   \n",
       "7143                  0.072048                  0.071846   \n",
       "\n",
       "       E041-H3K4me3.gappedPeak  E118-H3K27me3.gappedPeak  \\\n",
       "3761                  0.000000                  0.000000   \n",
       "2367                  0.000000                  0.000000   \n",
       "4085                  0.071347                  0.071142   \n",
       "10218                 0.071347                  0.071142   \n",
       "7143                  0.000000                  0.000000   \n",
       "\n",
       "       E040-H3K27me3.gappedPeak  E063-H3K4me3.gappedPeak  \\\n",
       "3761                    0.00000                 0.000000   \n",
       "2367                    0.00000                 0.068862   \n",
       "4085                    0.07333                 0.068862   \n",
       "10218                   0.07333                 0.068862   \n",
       "7143                    0.00000                 0.068862   \n",
       "\n",
       "                       ...                   \\\n",
       "3761                   ...                    \n",
       "2367                   ...                    \n",
       "4085                   ...                    \n",
       "10218                  ...                    \n",
       "7143                   ...                    \n",
       "\n",
       "       H1-hESC_ChIP-seq_H4K20me1_ENCFF001SVF.bed  \\\n",
       "3761                                    0.298983   \n",
       "2367                                    0.298983   \n",
       "4085                                    0.298983   \n",
       "10218                                   0.298983   \n",
       "7143                                    0.000000   \n",
       "\n",
       "       K562_ChIP-seq_CHD7_ENCFF001SYZ.bed  \\\n",
       "3761                             0.000000   \n",
       "2367                             0.298397   \n",
       "4085                             0.000000   \n",
       "10218                            0.298397   \n",
       "7143                             0.298397   \n",
       "\n",
       "       H1-hESC_ChIP-seq_HDAC6_ENCFF001SVH.bed  \\\n",
       "3761                                 0.000000   \n",
       "2367                                 0.000000   \n",
       "4085                                 0.327669   \n",
       "10218                                0.327669   \n",
       "7143                                 0.000000   \n",
       "\n",
       "       H1-hESC_ChIP-seq_SUZ12_ENCFF001SVQ.bed  \\\n",
       "3761                                  0.35171   \n",
       "2367                                  0.35171   \n",
       "4085                                  0.35171   \n",
       "10218                                 0.35171   \n",
       "7143                                  0.35171   \n",
       "\n",
       "       K562_ChIP-seq_KAT2B_ENCFF001SZW.bed  \\\n",
       "3761                              0.352737   \n",
       "2367                              0.000000   \n",
       "4085                              0.352737   \n",
       "10218                             0.352737   \n",
       "7143                              0.352737   \n",
       "\n",
       "       H1-hESC_ChIP-seq_KDM5B_ENCFF001SVM.bed  \\\n",
       "3761                                 0.000000   \n",
       "2367                                 0.000000   \n",
       "4085                                 0.358877   \n",
       "10218                                0.358877   \n",
       "7143                                 0.358877   \n",
       "\n",
       "       K562_ChIP-seq_WHSC1_ENCFF001SZU.bed  \\\n",
       "3761                              0.364974   \n",
       "2367                              0.364974   \n",
       "4085                              0.364974   \n",
       "10218                             0.364974   \n",
       "7143                              0.000000   \n",
       "\n",
       "       K562_ChIP-seq_CREBBP_ENCFF001SYU.bed  \\\n",
       "3761                               0.392522   \n",
       "2367                               0.000000   \n",
       "4085                               0.392522   \n",
       "10218                              0.392522   \n",
       "7143                               0.392522   \n",
       "\n",
       "       H1-hESC_ChIP-seq_SIRT6_ENCFF001SVP.bed  \\\n",
       "3761                                 0.410543   \n",
       "2367                                 0.410543   \n",
       "4085                                 0.410543   \n",
       "10218                                0.410543   \n",
       "7143                                 0.410543   \n",
       "\n",
       "       B_cell_ChIP-seq_EZH2_ENCFF001STL.bed  \n",
       "3761                                0.42594  \n",
       "2367                                0.00000  \n",
       "4085                                0.42594  \n",
       "10218                               0.42594  \n",
       "7143                                0.00000  \n",
       "\n",
       "[5 rows x 800 columns]"
      ]
     },
     "execution_count": 22,
     "metadata": {},
     "output_type": "execute_result"
    }
   ],
   "source": [
    "vt_traindf.head()"
   ]
  },
  {
   "cell_type": "code",
   "execution_count": 23,
   "metadata": {
    "colab": {},
    "colab_type": "code",
    "id": "aUM6QwLWNEae"
   },
   "outputs": [
    {
     "name": "stdout",
     "output_type": "stream",
     "text": [
      "voightlab-data/multilabel/FeatureSelected/var_threshold/X_train.csv written\n",
      "voightlab-data/multilabel/FeatureSelected/var_threshold/y_train.csv written\n",
      "voightlab-data/multilabel/FeatureSelected/var_threshold/X_test.csv written\n",
      "voightlab-data/multilabel/FeatureSelected/var_threshold/y_test.csv written\n"
     ]
    }
   ],
   "source": [
    "# Write the created dataset to a file so we can test model performance later\n",
    "write_to_S3(vt_traindf, \"var_threshold/X_train.csv\")\n",
    "write_to_S3(y_train, \"var_threshold/y_train.csv\")\n",
    "write_to_S3(vt_testdf, \"var_threshold/X_test.csv\")\n",
    "write_to_S3(y_test, \"var_threshold/y_test.csv\")"
   ]
  },
  {
   "cell_type": "code",
   "execution_count": null,
   "metadata": {
    "colab": {},
    "colab_type": "code",
    "id": "m1HxJgoqNEai"
   },
   "outputs": [],
   "source": []
  },
  {
   "cell_type": "markdown",
   "metadata": {
    "colab_type": "text",
    "id": "rWbteUsyNEan"
   },
   "source": [
    "### Univariate Feature Selection"
   ]
  },
  {
   "cell_type": "markdown",
   "metadata": {
    "colab_type": "text",
    "id": "apIiqEMaNEao"
   },
   "source": [
    "The sklearn GenericUnivariateSelect allows to perform univariate feature selection with a configurable strategy. This allows us to select the best univariate selection strategy with a hyper-parameter search estimator, similar to grid search. Here I've compared the association of the features to a target variable using a chi square test and sklearn's mutual info classificaion test. "
   ]
  },
  {
   "cell_type": "markdown",
   "metadata": {
    "colab_type": "text",
    "id": "YJIhbDoCNEaq"
   },
   "source": [
    "First we set the scoring parameter of the class to the chi2 test, selecting the n best performing features, i.e, the features with the n highest values for the test chi-squared statistic. Here, we are measuring whether each categorical feature is independent of the target class. We assume a null hypothesis that the frequencies of each variable is similarly distributed to the features of the classes. If we cannot reject the null hypothesis for a variable, we dispose of that feature. \n",
    "\n",
    "It should be noted that the sklearn implementation of the chi squared test only considers features where x=1. I.e, it looks at features where x=1 and sees if the distribution of values for y matches that of the overall population."
   ]
  },
  {
   "cell_type": "code",
   "execution_count": 24,
   "metadata": {
    "colab": {},
    "colab_type": "code",
    "id": "8ublhHpZNEas"
   },
   "outputs": [],
   "source": [
    "# Return n best features based on the test\n",
    "n = 20\n",
    "chi_gus = GenericUnivariateSelect(chi2, mode='k_best', param=n)\n",
    "chi_idx = []\n",
    "chi_features = []\n",
    "chi_pvalues = []\n",
    "\n",
    "# loop allows us to account for multilabel problems\n",
    "# We fit individually for each label\n",
    "for label in labels:\n",
    "    chi_gus.fit(X_train, y_train[label])\n",
    "\n",
    "    # Save features using the boolean mask \n",
    "    chi_idx += list(chi_gus.get_support())\n",
    "    chi_pvalues += list(compress(chi_gus.pvalues_, chi_idx))\n",
    "    chi_features += list(compress(X_train, chi_idx))"
   ]
  },
  {
   "cell_type": "code",
   "execution_count": 25,
   "metadata": {
    "colab": {
     "base_uri": "https://localhost:8080/",
     "height": 526
    },
    "colab_type": "code",
    "id": "Q1Hqb-tfNEa0",
    "outputId": "adeee73d-d058-428c-8783-afe6122650e1"
   },
   "outputs": [
    {
     "data": {
      "image/png": "[encoded data removed]",
      "text/plain": [
       "<Figure size 800x560 with 1 Axes>"
      ]
     },
     "metadata": {},
     "output_type": "display_data"
    }
   ],
   "source": [
    "# Visualize p values for top n feature from test\n",
    "important_features = ev.feat_importance(set(chi_pvalues), set(chi_features), n=20)"
   ]
  },
  {
   "cell_type": "code",
   "execution_count": null,
   "metadata": {
    "colab": {},
    "colab_type": "code",
    "id": "y4RfOFwXNEa4"
   },
   "outputs": [],
   "source": []
  },
  {
   "cell_type": "markdown",
   "metadata": {
    "colab_type": "text",
    "id": "Yxk6LmegNEa7"
   },
   "source": [
    "Now we try again using the mutual info classification test. Mutual information for each feature x and y is a measure of their mutual dependence. More generally, it determines how similar the joint distribution p(x, y) is to the products of factored marginal distribution p(x) * p(y). Mutual information is the expected value of the pointwise mutual information.   "
   ]
  },
  {
   "cell_type": "code",
   "execution_count": 26,
   "metadata": {
    "colab": {},
    "colab_type": "code",
    "id": "6f_oMIRbNEa8"
   },
   "outputs": [],
   "source": [
    "mic_gus = GenericUnivariateSelect(mutual_info_classif, mode='k_best', param=n)\n",
    "mic_idx = []\n",
    "mic_features = []\n",
    "mic_scores = []\n",
    "\n",
    "for label in labels:\n",
    "    mic_gus.fit(X_train, y_train[label])\n",
    "\n",
    "    # Save features using the boolean mask \n",
    "    mic_idx += list(mic_gus.get_support())\n",
    "    mic_features += list(compress(X_train.columns, mic_idx)) \n",
    "    mic_scores += list(compress(mic_gus.scores_, mic_idx))"
   ]
  },
  {
   "cell_type": "code",
   "execution_count": 27,
   "metadata": {
    "colab": {
     "base_uri": "https://localhost:8080/",
     "height": 526
    },
    "colab_type": "code",
    "id": "QtUYeN2PNEbC",
    "outputId": "a6874c81-9496-4c46-e891-fe179d7b8f96"
   },
   "outputs": [
    {
     "data": {
      "image/png": "[encoded data removed]",
      "text/plain": [
       "<Figure size 800x560 with 1 Axes>"
      ]
     },
     "metadata": {},
     "output_type": "display_data"
    }
   ],
   "source": [
    "# Visualize scores for top n feature from test\n",
    "important_features = ev.feat_importance(set(mic_scores), set(mic_features), n=20)"
   ]
  },
  {
   "cell_type": "code",
   "execution_count": 28,
   "metadata": {
    "colab": {
     "base_uri": "https://localhost:8080/",
     "height": 85
    },
    "colab_type": "code",
    "id": "LII6569rNEbI",
    "outputId": "7ce70eed-065d-4dea-f0c9-0522883cd07e"
   },
   "outputs": [
    {
     "name": "stdout",
     "output_type": "stream",
     "text": [
      "voightlab-data/multilabel/FeatureSelected/chi2/X_train.csv written\n",
      "voightlab-data/multilabel/FeatureSelected/chi2/y_train.csv written\n",
      "voightlab-data/multilabel/FeatureSelected/chi2/X_test.csv written\n",
      "voightlab-data/multilabel/FeatureSelected/chi2/y_test.csv written\n"
     ]
    }
   ],
   "source": [
    "# Save training and testing datframes only consisting of the features we have selected\n",
    "chi_Xtraindf = X_train.loc[:, list(set(chi_features))]\n",
    "chi_Xtestdf = X_test.loc[:, list(set(chi_features))]\n",
    "\n",
    "# Write the created dataset to a file so we can test model performance later\n",
    "write_to_S3(chi_Xtraindf, \"chi2/X_train.csv\")\n",
    "write_to_S3(y_train, \"chi2/y_train.csv\")\n",
    "write_to_S3(chi_Xtestdf, \"chi2/X_test.csv\")\n",
    "write_to_S3(y_test, \"chi2/y_test.csv\")"
   ]
  },
  {
   "cell_type": "code",
   "execution_count": 29,
   "metadata": {
    "colab": {
     "base_uri": "https://localhost:8080/",
     "height": 85
    },
    "colab_type": "code",
    "id": "2oW_u_G6NEbL",
    "outputId": "88abaedd-5734-4ac2-cba9-f62f6103347d"
   },
   "outputs": [
    {
     "name": "stdout",
     "output_type": "stream",
     "text": [
      "voightlab-data/multilabel/FeatureSelected/mic/X_train.csv written\n",
      "voightlab-data/multilabel/FeatureSelected/mic/y_train.csv written\n",
      "voightlab-data/multilabel/FeatureSelected/mic/X_test.csv written\n",
      "voightlab-data/multilabel/FeatureSelected/mic/y_test.csv written\n"
     ]
    }
   ],
   "source": [
    "# Save training and testing datframes only consisting of the features we have selected\n",
    "mic_Xtraindf = X_train.loc[:, list(set(mic_features))]\n",
    "mic_Xtestdf = X_test.loc[:, list(set(mic_features))]\n",
    "\n",
    "# Write the created dataset to a file so we can test model performance later\n",
    "write_to_S3(mic_Xtraindf, \"mic/X_train.csv\")\n",
    "write_to_S3(y_train, \"mic/y_train.csv\")\n",
    "write_to_S3(mic_Xtestdf, \"mic/X_test.csv\")\n",
    "write_to_S3(y_test, \"mic/y_test.csv\")"
   ]
  },
  {
   "cell_type": "code",
   "execution_count": null,
   "metadata": {
    "colab": {},
    "colab_type": "code",
    "id": "3gyyfbPcNEbN"
   },
   "outputs": [],
   "source": []
  },
  {
   "cell_type": "markdown",
   "metadata": {
    "colab_type": "text",
    "id": "1qBdqYZONEbP"
   },
   "source": [
    "### Recursive Feature Elimination"
   ]
  },
  {
   "cell_type": "markdown",
   "metadata": {
    "colab_type": "text",
    "id": "nC20WMTJNEbQ"
   },
   "source": [
    "\n",
    "Given an external estimator that assigns weights to features (e.g., the coefficients of a linear model), recursive feature elimination (RFE) is to select features by recursively considering smaller and smaller sets of features. First, the estimator is trained on the initial set of features and the importance of each feature is obtained either through a coef_ attribute or through a feature_importances_ attribute. Then, the least important features are pruned from current set of features.That procedure is recursively repeated on the pruned set until the desired number of features to select is eventually reached.\n",
    "\n",
    "Here, the efficacy of such an approach is questionable as it requires initially fitting models on the original dataset - which contains more features than samples. As a result, the model used by the recursive estimator's starting point could be flawed. However, we can use a different technique to drop the number of features below the sample size - say the chi squared test - and recursively eliminate from there. "
   ]
  },
  {
   "cell_type": "code",
   "execution_count": 30,
   "metadata": {
    "colab": {},
    "colab_type": "code",
    "id": "7kiNoi-2NEbR"
   },
   "outputs": [],
   "source": [
    "if len(X_train.columns) > len(X_train):\n",
    "    n = 2000\n",
    "    chi_gus = GenericUnivariateSelect(chi2, mode='k_best', param=n)\n",
    "    chi_gus.fit(X_train, y_train)\n",
    "\n",
    "    # Save features using the boolean mask \n",
    "    chi_idx = chi_gus.get_support()\n",
    "    chi_features = list(compress(X_train.columns, chi_idx)) "
   ]
  },
  {
   "cell_type": "code",
   "execution_count": 31,
   "metadata": {
    "colab": {},
    "colab_type": "code",
    "id": "ukaXtcjVNEbV"
   },
   "outputs": [],
   "source": [
    "if len(X_train.columns) > len(X_train):\n",
    "    X_train = X_train[chi_features]\n",
    "    X_test = X_test[chi_features]"
   ]
  },
  {
   "cell_type": "code",
   "execution_count": null,
   "metadata": {
    "colab": {
     "base_uri": "https://localhost:8080/",
     "height": 85
    },
    "colab_type": "code",
    "id": "fl-909NaNEba",
    "outputId": "207d8b4f-ccbd-4508-f997-fde01ce0de1b"
   },
   "outputs": [
    {
     "name": "stdout",
     "output_type": "stream",
     "text": [
      "Optimal number of features for label is_BMI : 1\n",
      "Optimal number of features for label is_CAD : 2801\n"
     ]
    }
   ],
   "source": [
    "rfecv_features = []\n",
    "feature_names = []\n",
    "step = 400\n",
    "\n",
    "for label in labels:\n",
    "    # Create the RFE object and compute a cross-validated score.\n",
    "    svc = SVC(kernel=\"linear\", class_weight='balanced')\n",
    "    rfecv = RFECV(estimator=svc, step=step, cv=StratifiedKFold(2), scoring='recall_micro', n_jobs=1)\n",
    "    rfecv.fit(X_train, y_train[label])\n",
    "\n",
    "    print(\"Optimal number of features for label {} : {}\".format(label, rfecv.n_features_))\n",
    "    rfecv_features.append(rfecv.support_)\n",
    "    optimal_df = X_train.loc[:, rfecv.support_]\n",
    "    feature_names += list(optimal_df.columns)\n"
   ]
  },
  {
   "cell_type": "code",
   "execution_count": null,
   "metadata": {
    "colab": {},
    "colab_type": "code",
    "id": "GWcovtuHNEbe"
   },
   "outputs": [],
   "source": [
    "# Plot number of features VS. cross-validation scores\n",
    "if not multilabel:\n",
    "    plt.figure()\n",
    "    plt.xlabel(\"Number of features selected\")\n",
    "    plt.ylabel(\"Cross validation score (nb of correct classifications)\")\n",
    "    plt.plot(range(0, n+step, step), rfecv.grid_scores_)\n",
    "    plt.show()"
   ]
  },
  {
   "cell_type": "markdown",
   "metadata": {
    "colab_type": "text",
    "id": "MWSK3pOuNEbj"
   },
   "source": [
    "The dataframe with the selected features:"
   ]
  },
  {
   "cell_type": "code",
   "execution_count": null,
   "metadata": {
    "colab": {
     "base_uri": "https://localhost:8080/",
     "height": 270
    },
    "colab_type": "code",
    "id": "0pcI4oQ8NEbj",
    "outputId": "fd88b24c-9543-4189-9b75-036c95c714aa"
   },
   "outputs": [],
   "source": [
    "feature_names = list(set(feature_names))\n",
    "X_train.loc[:, feature_names].head()"
   ]
  },
  {
   "cell_type": "code",
   "execution_count": null,
   "metadata": {
    "colab": {},
    "colab_type": "code",
    "id": "p9juaYVVNEbn"
   },
   "outputs": [],
   "source": [
    "# Save training and testing datframes only consisting of the features we have selected\n",
    "rfecv_Xtraindf = X_train[ feature_names]\n",
    "rfecv_Xtestdf = X_test[feature_names]\n",
    "\n",
    "# Write the created dataset to a file so we can test model performance later\n",
    "write_to_S3(rfecv_Xtraindf, \"rfecv/X_train.csv\")\n",
    "write_to_S3(y_train, \"rfecv/y_train.csv\")\n",
    "write_to_S3(rfecv_Xtestdf, \"rfecv/X_test.csv\")\n",
    "write_to_S3(y_test, \"rfecv/y_test.csv\")"
   ]
  },
  {
   "cell_type": "code",
   "execution_count": null,
   "metadata": {
    "colab": {},
    "colab_type": "code",
    "id": "ML8CPU_tNEbp"
   },
   "outputs": [],
   "source": []
  }
 ],
 "metadata": {
  "accelerator": "GPU",
  "colab": {
   "collapsed_sections": [],
   "name": "FeatureSelection.ipynb",
   "provenance": [],
   "toc_visible": true,
   "version": "0.3.2"
  },
  "kernelspec": {
   "display_name": "Python 3",
   "language": "python",
   "name": "python3"
  },
  "language_info": {
   "codemirror_mode": {
    "name": "ipython",
    "version": 3
   },
   "file_extension": ".py",
   "mimetype": "text/x-python",
   "name": "python",
   "nbconvert_exporter": "python",
   "pygments_lexer": "ipython3",
   "version": "3.6.6"
  }
 },
 "nbformat": 4,
 "nbformat_minor": 1
}
