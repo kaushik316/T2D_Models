{
 "cells": [
  {
   "cell_type": "markdown",
   "metadata": {},
   "source": [
    "## Model Evaluation - One vs Rest"
   ]
  },
  {
   "cell_type": "markdown",
   "metadata": {},
   "source": [
    "Fitting models to data after performing feature selection. This notebook contains models and evaluation methods applicable to multiclass and binary classification problems, i.e problems where a given sample belongs to only one class. "
   ]
  },
  {
   "cell_type": "code",
   "execution_count": 1,
   "metadata": {},
   "outputs": [],
   "source": [
    "import pandas as pd\n",
    "import numpy as np\n",
    "import boto3\n",
    "import s3fs\n",
    "import os\n",
    "import sys\n",
    "from sklearn.linear_model import LogisticRegressionCV, LogisticRegression\n",
    "from sklearn.model_selection import StratifiedShuffleSplit, GridSearchCV, train_test_split, RandomizedSearchCV\n",
    "from sklearn.ensemble import RandomForestClassifier\n",
    "from sklearn.svm import LinearSVC, SVC\n",
    "from sklearn.naive_bayes import ComplementNB\n",
    "from sklearn.metrics import roc_curve, auc\n",
    "from sklearn.metrics import precision_score, recall_score, accuracy_score\n",
    "from sklearn.metrics import confusion_matrix, roc_curve, roc_auc_score, f1_score, precision_recall_curve\n",
    "import xgboost as xgb\n",
    "import warnings\n",
    "import itertools\n",
    "from scipy import stats\n",
    "from matplotlib import pyplot as plt\n",
    "plt.style.use('ggplot')\n",
    "warnings.filterwarnings(action='ignore')\n",
    "sys.path.insert(1, os.path.join(sys.path[0], '..'))\n",
    "from Evaluator import Evaluator"
   ]
  },
  {
   "cell_type": "markdown",
   "metadata": {},
   "source": [
    "Helper functions for evaluation and plotting"
   ]
  },
  {
   "cell_type": "code",
   "execution_count": 2,
   "metadata": {},
   "outputs": [],
   "source": [
    "# Init class for model evaluation - detailed in Evaluation.py\n",
    "ev = Evaluator()"
   ]
  },
  {
   "cell_type": "code",
   "execution_count": 3,
   "metadata": {},
   "outputs": [],
   "source": [
    "# We read in a dataset that has already been feature selected\n",
    "# To obtain, just run the feature selection notebook and configure filepaths\n",
    "filepath = \"s3://voightlab-data/t2d/FeatureSelected/chi2/\"\n",
    "\n",
    "X_train = pd.read_csv(filepath + \"X_train.csv\", index_col=0)\n",
    "y_train = pd.read_csv(filepath + \"y_train.csv\", index_col=0, header=None)\n",
    "X_test = pd.read_csv(filepath + \"X_test.csv\", index_col=0)\n",
    "y_test = pd.read_csv(filepath + \"y_test.csv\", index_col=0, header=None)"
   ]
  },
  {
   "cell_type": "code",
   "execution_count": 4,
   "metadata": {},
   "outputs": [
    {
     "data": {
      "text/html": [
       "<div>\n",
       "<style scoped>\n",
       "    .dataframe tbody tr th:only-of-type {\n",
       "        vertical-align: middle;\n",
       "    }\n",
       "\n",
       "    .dataframe tbody tr th {\n",
       "        vertical-align: top;\n",
       "    }\n",
       "\n",
       "    .dataframe thead th {\n",
       "        text-align: right;\n",
       "    }\n",
       "</style>\n",
       "<table border=\"1\" class=\"dataframe\">\n",
       "  <thead>\n",
       "    <tr style=\"text-align: right;\">\n",
       "      <th></th>\n",
       "      <th>Ishikawa_ChIP-seq_YY1_ENCSR000BSY_ENCFF001TVY_ENCFF001TVX_intersect.bed</th>\n",
       "      <th>H1-hESC_ChIP-seq_BACH1_ENCFF002CQP.bed</th>\n",
       "      <th>E004-H3K79me1.gappedPeak</th>\n",
       "      <th>E004-H3K79me2.gappedPeak</th>\n",
       "      <th>E008-H3K79me2.gappedPeak</th>\n",
       "      <th>E087-H3K27ac.gappedPeak</th>\n",
       "      <th>E118-H3K79me2.gappedPeak</th>\n",
       "      <th>E122-H4K20me1.gappedPeak</th>\n",
       "      <th>PE_Active_Enhancers_hg19.bed</th>\n",
       "      <th>Islets.stretchEnhancers.bed</th>\n",
       "      <th>...</th>\n",
       "      <th>PANC.ISLT-EnhWk</th>\n",
       "      <th>PDX1</th>\n",
       "      <th>GSE64233_p65_V_final.bed</th>\n",
       "      <th>GSM1208731_batch2_chrom1_LoVo_E2F8_PassedQC_peaks_hg19.bed</th>\n",
       "      <th>GSM1208739_batch2_chrom1_LoVo_ETV7_PassedQC_peaks_hg19.bed</th>\n",
       "      <th>GSM1208788_batch2_chrom1_LoVo_RARG_PassedQC_peaks_hg19.bed</th>\n",
       "      <th>islet_H3K27ac.bed</th>\n",
       "      <th>islet_pooled_H3K27ac.bed</th>\n",
       "      <th>islet_pooled_H3K4me3_peaks.broadPeak</th>\n",
       "      <th>snpcount</th>\n",
       "    </tr>\n",
       "  </thead>\n",
       "  <tbody>\n",
       "    <tr>\n",
       "      <th>0</th>\n",
       "      <td>0</td>\n",
       "      <td>0</td>\n",
       "      <td>1</td>\n",
       "      <td>1</td>\n",
       "      <td>0</td>\n",
       "      <td>1</td>\n",
       "      <td>0</td>\n",
       "      <td>0</td>\n",
       "      <td>1</td>\n",
       "      <td>1</td>\n",
       "      <td>...</td>\n",
       "      <td>1</td>\n",
       "      <td>0</td>\n",
       "      <td>0</td>\n",
       "      <td>0</td>\n",
       "      <td>0</td>\n",
       "      <td>0</td>\n",
       "      <td>0</td>\n",
       "      <td>0</td>\n",
       "      <td>1</td>\n",
       "      <td>53</td>\n",
       "    </tr>\n",
       "    <tr>\n",
       "      <th>1</th>\n",
       "      <td>0</td>\n",
       "      <td>1</td>\n",
       "      <td>0</td>\n",
       "      <td>0</td>\n",
       "      <td>0</td>\n",
       "      <td>1</td>\n",
       "      <td>0</td>\n",
       "      <td>0</td>\n",
       "      <td>1</td>\n",
       "      <td>1</td>\n",
       "      <td>...</td>\n",
       "      <td>1</td>\n",
       "      <td>1</td>\n",
       "      <td>0</td>\n",
       "      <td>0</td>\n",
       "      <td>0</td>\n",
       "      <td>0</td>\n",
       "      <td>1</td>\n",
       "      <td>1</td>\n",
       "      <td>1</td>\n",
       "      <td>18</td>\n",
       "    </tr>\n",
       "    <tr>\n",
       "      <th>2</th>\n",
       "      <td>0</td>\n",
       "      <td>0</td>\n",
       "      <td>0</td>\n",
       "      <td>0</td>\n",
       "      <td>0</td>\n",
       "      <td>0</td>\n",
       "      <td>0</td>\n",
       "      <td>0</td>\n",
       "      <td>0</td>\n",
       "      <td>0</td>\n",
       "      <td>...</td>\n",
       "      <td>0</td>\n",
       "      <td>0</td>\n",
       "      <td>0</td>\n",
       "      <td>0</td>\n",
       "      <td>0</td>\n",
       "      <td>0</td>\n",
       "      <td>0</td>\n",
       "      <td>0</td>\n",
       "      <td>0</td>\n",
       "      <td>4</td>\n",
       "    </tr>\n",
       "    <tr>\n",
       "      <th>3</th>\n",
       "      <td>0</td>\n",
       "      <td>0</td>\n",
       "      <td>0</td>\n",
       "      <td>0</td>\n",
       "      <td>0</td>\n",
       "      <td>0</td>\n",
       "      <td>0</td>\n",
       "      <td>0</td>\n",
       "      <td>0</td>\n",
       "      <td>0</td>\n",
       "      <td>...</td>\n",
       "      <td>0</td>\n",
       "      <td>0</td>\n",
       "      <td>1</td>\n",
       "      <td>0</td>\n",
       "      <td>0</td>\n",
       "      <td>0</td>\n",
       "      <td>0</td>\n",
       "      <td>0</td>\n",
       "      <td>0</td>\n",
       "      <td>37</td>\n",
       "    </tr>\n",
       "    <tr>\n",
       "      <th>4</th>\n",
       "      <td>0</td>\n",
       "      <td>0</td>\n",
       "      <td>0</td>\n",
       "      <td>0</td>\n",
       "      <td>0</td>\n",
       "      <td>0</td>\n",
       "      <td>0</td>\n",
       "      <td>1</td>\n",
       "      <td>0</td>\n",
       "      <td>0</td>\n",
       "      <td>...</td>\n",
       "      <td>0</td>\n",
       "      <td>0</td>\n",
       "      <td>0</td>\n",
       "      <td>0</td>\n",
       "      <td>0</td>\n",
       "      <td>0</td>\n",
       "      <td>0</td>\n",
       "      <td>0</td>\n",
       "      <td>0</td>\n",
       "      <td>2</td>\n",
       "    </tr>\n",
       "  </tbody>\n",
       "</table>\n",
       "<p>5 rows × 25 columns</p>\n",
       "</div>"
      ],
      "text/plain": [
       "   Ishikawa_ChIP-seq_YY1_ENCSR000BSY_ENCFF001TVY_ENCFF001TVX_intersect.bed  \\\n",
       "0                                                  0                         \n",
       "1                                                  0                         \n",
       "2                                                  0                         \n",
       "3                                                  0                         \n",
       "4                                                  0                         \n",
       "\n",
       "   H1-hESC_ChIP-seq_BACH1_ENCFF002CQP.bed  E004-H3K79me1.gappedPeak  \\\n",
       "0                                       0                         1   \n",
       "1                                       1                         0   \n",
       "2                                       0                         0   \n",
       "3                                       0                         0   \n",
       "4                                       0                         0   \n",
       "\n",
       "   E004-H3K79me2.gappedPeak  E008-H3K79me2.gappedPeak  \\\n",
       "0                         1                         0   \n",
       "1                         0                         0   \n",
       "2                         0                         0   \n",
       "3                         0                         0   \n",
       "4                         0                         0   \n",
       "\n",
       "   E087-H3K27ac.gappedPeak  E118-H3K79me2.gappedPeak  \\\n",
       "0                        1                         0   \n",
       "1                        1                         0   \n",
       "2                        0                         0   \n",
       "3                        0                         0   \n",
       "4                        0                         0   \n",
       "\n",
       "   E122-H4K20me1.gappedPeak  PE_Active_Enhancers_hg19.bed  \\\n",
       "0                         0                             1   \n",
       "1                         0                             1   \n",
       "2                         0                             0   \n",
       "3                         0                             0   \n",
       "4                         1                             0   \n",
       "\n",
       "   Islets.stretchEnhancers.bed    ...     PANC.ISLT-EnhWk  PDX1  \\\n",
       "0                            1    ...                   1     0   \n",
       "1                            1    ...                   1     1   \n",
       "2                            0    ...                   0     0   \n",
       "3                            0    ...                   0     0   \n",
       "4                            0    ...                   0     0   \n",
       "\n",
       "   GSE64233_p65_V_final.bed  \\\n",
       "0                         0   \n",
       "1                         0   \n",
       "2                         0   \n",
       "3                         1   \n",
       "4                         0   \n",
       "\n",
       "   GSM1208731_batch2_chrom1_LoVo_E2F8_PassedQC_peaks_hg19.bed  \\\n",
       "0                                                  0            \n",
       "1                                                  0            \n",
       "2                                                  0            \n",
       "3                                                  0            \n",
       "4                                                  0            \n",
       "\n",
       "   GSM1208739_batch2_chrom1_LoVo_ETV7_PassedQC_peaks_hg19.bed  \\\n",
       "0                                                  0            \n",
       "1                                                  0            \n",
       "2                                                  0            \n",
       "3                                                  0            \n",
       "4                                                  0            \n",
       "\n",
       "   GSM1208788_batch2_chrom1_LoVo_RARG_PassedQC_peaks_hg19.bed  \\\n",
       "0                                                  0            \n",
       "1                                                  0            \n",
       "2                                                  0            \n",
       "3                                                  0            \n",
       "4                                                  0            \n",
       "\n",
       "   islet_H3K27ac.bed  islet_pooled_H3K27ac.bed  \\\n",
       "0                  0                         0   \n",
       "1                  1                         1   \n",
       "2                  0                         0   \n",
       "3                  0                         0   \n",
       "4                  0                         0   \n",
       "\n",
       "   islet_pooled_H3K4me3_peaks.broadPeak  snpcount  \n",
       "0                                     1        53  \n",
       "1                                     1        18  \n",
       "2                                     0         4  \n",
       "3                                     0        37  \n",
       "4                                     0         2  \n",
       "\n",
       "[5 rows x 25 columns]"
      ]
     },
     "execution_count": 4,
     "metadata": {},
     "output_type": "execute_result"
    }
   ],
   "source": [
    "X_train.head()\n",
    "X_test.head()"
   ]
  },
  {
   "cell_type": "code",
   "execution_count": 5,
   "metadata": {},
   "outputs": [],
   "source": [
    "# Normalize the columns that are continuous to fall between 0 and 1\n",
    "X_train = (X_train - X_train.min()) / (X_train.max() - X_train.min())\n",
    "X_test = (X_test - X_test.min()) / (X_test.max() - X_test.min())"
   ]
  },
  {
   "cell_type": "code",
   "execution_count": 6,
   "metadata": {},
   "outputs": [
    {
     "data": {
      "text/html": [
       "<div>\n",
       "<style scoped>\n",
       "    .dataframe tbody tr th:only-of-type {\n",
       "        vertical-align: middle;\n",
       "    }\n",
       "\n",
       "    .dataframe tbody tr th {\n",
       "        vertical-align: top;\n",
       "    }\n",
       "\n",
       "    .dataframe thead th {\n",
       "        text-align: right;\n",
       "    }\n",
       "</style>\n",
       "<table border=\"1\" class=\"dataframe\">\n",
       "  <thead>\n",
       "    <tr style=\"text-align: right;\">\n",
       "      <th></th>\n",
       "      <th>Ishikawa_ChIP-seq_YY1_ENCSR000BSY_ENCFF001TVY_ENCFF001TVX_intersect.bed</th>\n",
       "      <th>H1-hESC_ChIP-seq_BACH1_ENCFF002CQP.bed</th>\n",
       "      <th>E004-H3K79me1.gappedPeak</th>\n",
       "      <th>E004-H3K79me2.gappedPeak</th>\n",
       "      <th>E008-H3K79me2.gappedPeak</th>\n",
       "      <th>E087-H3K27ac.gappedPeak</th>\n",
       "      <th>E118-H3K79me2.gappedPeak</th>\n",
       "      <th>E122-H4K20me1.gappedPeak</th>\n",
       "      <th>PE_Active_Enhancers_hg19.bed</th>\n",
       "      <th>Islets.stretchEnhancers.bed</th>\n",
       "      <th>...</th>\n",
       "      <th>PANC.ISLT-EnhWk</th>\n",
       "      <th>PDX1</th>\n",
       "      <th>GSE64233_p65_V_final.bed</th>\n",
       "      <th>GSM1208731_batch2_chrom1_LoVo_E2F8_PassedQC_peaks_hg19.bed</th>\n",
       "      <th>GSM1208739_batch2_chrom1_LoVo_ETV7_PassedQC_peaks_hg19.bed</th>\n",
       "      <th>GSM1208788_batch2_chrom1_LoVo_RARG_PassedQC_peaks_hg19.bed</th>\n",
       "      <th>islet_H3K27ac.bed</th>\n",
       "      <th>islet_pooled_H3K27ac.bed</th>\n",
       "      <th>islet_pooled_H3K4me3_peaks.broadPeak</th>\n",
       "      <th>snpcount</th>\n",
       "    </tr>\n",
       "  </thead>\n",
       "  <tbody>\n",
       "    <tr>\n",
       "      <th>0</th>\n",
       "      <td>0.0</td>\n",
       "      <td>0.0</td>\n",
       "      <td>0.0</td>\n",
       "      <td>0.0</td>\n",
       "      <td>0.0</td>\n",
       "      <td>0.0</td>\n",
       "      <td>0.0</td>\n",
       "      <td>0.0</td>\n",
       "      <td>0.0</td>\n",
       "      <td>0.0</td>\n",
       "      <td>...</td>\n",
       "      <td>0.0</td>\n",
       "      <td>0.0</td>\n",
       "      <td>0.0</td>\n",
       "      <td>0.0</td>\n",
       "      <td>0.0</td>\n",
       "      <td>0.0</td>\n",
       "      <td>0.0</td>\n",
       "      <td>0.0</td>\n",
       "      <td>0.0</td>\n",
       "      <td>0.013831</td>\n",
       "    </tr>\n",
       "    <tr>\n",
       "      <th>1</th>\n",
       "      <td>0.0</td>\n",
       "      <td>0.0</td>\n",
       "      <td>0.0</td>\n",
       "      <td>0.0</td>\n",
       "      <td>0.0</td>\n",
       "      <td>0.0</td>\n",
       "      <td>0.0</td>\n",
       "      <td>0.0</td>\n",
       "      <td>0.0</td>\n",
       "      <td>0.0</td>\n",
       "      <td>...</td>\n",
       "      <td>0.0</td>\n",
       "      <td>0.0</td>\n",
       "      <td>0.0</td>\n",
       "      <td>0.0</td>\n",
       "      <td>0.0</td>\n",
       "      <td>0.0</td>\n",
       "      <td>0.0</td>\n",
       "      <td>0.0</td>\n",
       "      <td>0.0</td>\n",
       "      <td>0.005533</td>\n",
       "    </tr>\n",
       "    <tr>\n",
       "      <th>2</th>\n",
       "      <td>0.0</td>\n",
       "      <td>0.0</td>\n",
       "      <td>0.0</td>\n",
       "      <td>0.0</td>\n",
       "      <td>0.0</td>\n",
       "      <td>0.0</td>\n",
       "      <td>0.0</td>\n",
       "      <td>0.0</td>\n",
       "      <td>0.0</td>\n",
       "      <td>0.0</td>\n",
       "      <td>...</td>\n",
       "      <td>0.0</td>\n",
       "      <td>0.0</td>\n",
       "      <td>0.0</td>\n",
       "      <td>0.0</td>\n",
       "      <td>0.0</td>\n",
       "      <td>0.0</td>\n",
       "      <td>0.0</td>\n",
       "      <td>0.0</td>\n",
       "      <td>0.0</td>\n",
       "      <td>0.000000</td>\n",
       "    </tr>\n",
       "    <tr>\n",
       "      <th>3</th>\n",
       "      <td>0.0</td>\n",
       "      <td>0.0</td>\n",
       "      <td>0.0</td>\n",
       "      <td>0.0</td>\n",
       "      <td>0.0</td>\n",
       "      <td>1.0</td>\n",
       "      <td>0.0</td>\n",
       "      <td>0.0</td>\n",
       "      <td>1.0</td>\n",
       "      <td>0.0</td>\n",
       "      <td>...</td>\n",
       "      <td>0.0</td>\n",
       "      <td>0.0</td>\n",
       "      <td>0.0</td>\n",
       "      <td>1.0</td>\n",
       "      <td>0.0</td>\n",
       "      <td>0.0</td>\n",
       "      <td>1.0</td>\n",
       "      <td>1.0</td>\n",
       "      <td>0.0</td>\n",
       "      <td>0.048409</td>\n",
       "    </tr>\n",
       "    <tr>\n",
       "      <th>4</th>\n",
       "      <td>0.0</td>\n",
       "      <td>0.0</td>\n",
       "      <td>0.0</td>\n",
       "      <td>0.0</td>\n",
       "      <td>0.0</td>\n",
       "      <td>0.0</td>\n",
       "      <td>0.0</td>\n",
       "      <td>0.0</td>\n",
       "      <td>0.0</td>\n",
       "      <td>1.0</td>\n",
       "      <td>...</td>\n",
       "      <td>0.0</td>\n",
       "      <td>0.0</td>\n",
       "      <td>0.0</td>\n",
       "      <td>0.0</td>\n",
       "      <td>0.0</td>\n",
       "      <td>0.0</td>\n",
       "      <td>0.0</td>\n",
       "      <td>0.0</td>\n",
       "      <td>0.0</td>\n",
       "      <td>0.001383</td>\n",
       "    </tr>\n",
       "  </tbody>\n",
       "</table>\n",
       "<p>5 rows × 25 columns</p>\n",
       "</div>"
      ],
      "text/plain": [
       "   Ishikawa_ChIP-seq_YY1_ENCSR000BSY_ENCFF001TVY_ENCFF001TVX_intersect.bed  \\\n",
       "0                                                0.0                         \n",
       "1                                                0.0                         \n",
       "2                                                0.0                         \n",
       "3                                                0.0                         \n",
       "4                                                0.0                         \n",
       "\n",
       "   H1-hESC_ChIP-seq_BACH1_ENCFF002CQP.bed  E004-H3K79me1.gappedPeak  \\\n",
       "0                                     0.0                       0.0   \n",
       "1                                     0.0                       0.0   \n",
       "2                                     0.0                       0.0   \n",
       "3                                     0.0                       0.0   \n",
       "4                                     0.0                       0.0   \n",
       "\n",
       "   E004-H3K79me2.gappedPeak  E008-H3K79me2.gappedPeak  \\\n",
       "0                       0.0                       0.0   \n",
       "1                       0.0                       0.0   \n",
       "2                       0.0                       0.0   \n",
       "3                       0.0                       0.0   \n",
       "4                       0.0                       0.0   \n",
       "\n",
       "   E087-H3K27ac.gappedPeak  E118-H3K79me2.gappedPeak  \\\n",
       "0                      0.0                       0.0   \n",
       "1                      0.0                       0.0   \n",
       "2                      0.0                       0.0   \n",
       "3                      1.0                       0.0   \n",
       "4                      0.0                       0.0   \n",
       "\n",
       "   E122-H4K20me1.gappedPeak  PE_Active_Enhancers_hg19.bed  \\\n",
       "0                       0.0                           0.0   \n",
       "1                       0.0                           0.0   \n",
       "2                       0.0                           0.0   \n",
       "3                       0.0                           1.0   \n",
       "4                       0.0                           0.0   \n",
       "\n",
       "   Islets.stretchEnhancers.bed    ...     PANC.ISLT-EnhWk  PDX1  \\\n",
       "0                          0.0    ...                 0.0   0.0   \n",
       "1                          0.0    ...                 0.0   0.0   \n",
       "2                          0.0    ...                 0.0   0.0   \n",
       "3                          0.0    ...                 0.0   0.0   \n",
       "4                          1.0    ...                 0.0   0.0   \n",
       "\n",
       "   GSE64233_p65_V_final.bed  \\\n",
       "0                       0.0   \n",
       "1                       0.0   \n",
       "2                       0.0   \n",
       "3                       0.0   \n",
       "4                       0.0   \n",
       "\n",
       "   GSM1208731_batch2_chrom1_LoVo_E2F8_PassedQC_peaks_hg19.bed  \\\n",
       "0                                                0.0            \n",
       "1                                                0.0            \n",
       "2                                                0.0            \n",
       "3                                                1.0            \n",
       "4                                                0.0            \n",
       "\n",
       "   GSM1208739_batch2_chrom1_LoVo_ETV7_PassedQC_peaks_hg19.bed  \\\n",
       "0                                                0.0            \n",
       "1                                                0.0            \n",
       "2                                                0.0            \n",
       "3                                                0.0            \n",
       "4                                                0.0            \n",
       "\n",
       "   GSM1208788_batch2_chrom1_LoVo_RARG_PassedQC_peaks_hg19.bed  \\\n",
       "0                                                0.0            \n",
       "1                                                0.0            \n",
       "2                                                0.0            \n",
       "3                                                0.0            \n",
       "4                                                0.0            \n",
       "\n",
       "   islet_H3K27ac.bed  islet_pooled_H3K27ac.bed  \\\n",
       "0                0.0                       0.0   \n",
       "1                0.0                       0.0   \n",
       "2                0.0                       0.0   \n",
       "3                1.0                       1.0   \n",
       "4                0.0                       0.0   \n",
       "\n",
       "   islet_pooled_H3K4me3_peaks.broadPeak  snpcount  \n",
       "0                                   0.0  0.013831  \n",
       "1                                   0.0  0.005533  \n",
       "2                                   0.0  0.000000  \n",
       "3                                   0.0  0.048409  \n",
       "4                                   0.0  0.001383  \n",
       "\n",
       "[5 rows x 25 columns]"
      ]
     },
     "execution_count": 6,
     "metadata": {},
     "output_type": "execute_result"
    }
   ],
   "source": [
    "X_train.head()"
   ]
  },
  {
   "cell_type": "code",
   "execution_count": null,
   "metadata": {},
   "outputs": [],
   "source": []
  },
  {
   "cell_type": "markdown",
   "metadata": {},
   "source": [
    "### Logistic Regression"
   ]
  },
  {
   "cell_type": "code",
   "execution_count": 7,
   "metadata": {},
   "outputs": [
    {
     "data": {
      "text/plain": [
       "LogisticRegressionCV(Cs=10, class_weight='balanced', cv=10, dual=False,\n",
       "           fit_intercept=True, intercept_scaling=1.0, max_iter=5000,\n",
       "           multi_class='warn', n_jobs=-1, penalty='l1', random_state=None,\n",
       "           refit=True, scoring='roc_auc', solver='liblinear', tol=0.0001,\n",
       "           verbose=0)"
      ]
     },
     "execution_count": 7,
     "metadata": {},
     "output_type": "execute_result"
    }
   ],
   "source": [
    "log_model = LogisticRegressionCV(solver='liblinear', \n",
    "                                 penalty='l1', \n",
    "                                 class_weight='balanced',\n",
    "                                 scoring='roc_auc', \n",
    "                                 cv=10,\n",
    "                                 max_iter=5000,\n",
    "                                 n_jobs=-1)\n",
    "\n",
    "log_model.fit(X_train, y_train)"
   ]
  },
  {
   "cell_type": "code",
   "execution_count": 8,
   "metadata": {},
   "outputs": [
    {
     "name": "stdout",
     "output_type": "stream",
     "text": [
      "Training Dataset Logistic Model Performance:\n",
      " Precision: 0.26547231270358307\n",
      " Recall: 0.5379537953795379\n",
      " Accuracy: 0.7213578500707214\n"
     ]
    }
   ],
   "source": [
    "print(\"Training Dataset Logistic\", end=\" \")\n",
    "ev.summarize_performance(log_model, X_train, y_train, threshold=0.5)"
   ]
  },
  {
   "cell_type": "code",
   "execution_count": 9,
   "metadata": {},
   "outputs": [
    {
     "name": "stdout",
     "output_type": "stream",
     "text": [
      "Test Dataset Logistic Model Performance:\n",
      " Precision: 0.27586206896551724\n",
      " Recall: 0.5789473684210527\n",
      " Accuracy: 0.7227443609022557\n"
     ]
    }
   ],
   "source": [
    "print(\"Test Dataset Logistic\", end=\" \")\n",
    "log_metrics = ev.summarize_performance(log_model, X_test, y_test, threshold=0.5, return_stats=True)"
   ]
  },
  {
   "cell_type": "code",
   "execution_count": 10,
   "metadata": {},
   "outputs": [
    {
     "data": {
      "image/png": "[encoded data removed]",
      "text/plain": [
       "<Figure size 432x288 with 1 Axes>"
      ]
     },
     "metadata": {
      "needs_background": "light"
     },
     "output_type": "display_data"
    }
   ],
   "source": [
    "ev.plot_roc_curve(log_model, X_test, y_test)"
   ]
  },
  {
   "cell_type": "code",
   "execution_count": 11,
   "metadata": {},
   "outputs": [
    {
     "data": {
      "image/png": "[encoded data removed]",
      "text/plain": [
       "<Figure size 800x560 with 1 Axes>"
      ]
     },
     "metadata": {
      "needs_background": "light"
     },
     "output_type": "display_data"
    }
   ],
   "source": [
    "# Plot feature importance\n",
    "coefs = log_model.coef_\n",
    "feature_names = X_train.columns\n",
    "important_features = ev.feat_importance(coefs, feature_names, 20, one_dim=False)[0]"
   ]
  },
  {
   "cell_type": "code",
   "execution_count": null,
   "metadata": {},
   "outputs": [],
   "source": []
  },
  {
   "cell_type": "markdown",
   "metadata": {},
   "source": [
    "### Support Vector Machine "
   ]
  },
  {
   "cell_type": "code",
   "execution_count": 12,
   "metadata": {},
   "outputs": [
    {
     "data": {
      "text/plain": [
       "SVC(C=1.0, cache_size=200, class_weight='balanced', coef0=0.0,\n",
       "  decision_function_shape='ovr', degree=3, gamma='auto_deprecated',\n",
       "  kernel='linear', max_iter=5000, probability=True, random_state=None,\n",
       "  shrinking=True, tol=0.001, verbose=False)"
      ]
     },
     "execution_count": 12,
     "metadata": {},
     "output_type": "execute_result"
    }
   ],
   "source": [
    "svm_model = SVC(kernel='linear', class_weight='balanced', probability=True, max_iter=5000)\n",
    "svm_model.fit(X_train, y_train)"
   ]
  },
  {
   "cell_type": "code",
   "execution_count": 13,
   "metadata": {},
   "outputs": [
    {
     "name": "stdout",
     "output_type": "stream",
     "text": [
      "Training Dataset SVM Model Performance:\n",
      " Precision: 0.27454545454545454\n",
      " Recall: 0.49834983498349833\n",
      " Accuracy: 0.7402168788307402\n"
     ]
    }
   ],
   "source": [
    "print(\"Training Dataset SVM\", end=\" \")\n",
    "ev.summarize_performance(svm_model, X_train, y_train, proba=False)"
   ]
  },
  {
   "cell_type": "code",
   "execution_count": 14,
   "metadata": {},
   "outputs": [
    {
     "name": "stdout",
     "output_type": "stream",
     "text": [
      "Test Dataset SVM Model Performance:\n",
      " Precision: 0.0\n",
      " Recall: 0.0\n",
      " Accuracy: 0.8571428571428571\n"
     ]
    }
   ],
   "source": [
    "print(\"Test Dataset SVM\", end=\" \")\n",
    "svm_metrics = ev.summarize_performance(svm_model, X_test, y_test, threshold=0.5, return_stats=True)"
   ]
  },
  {
   "cell_type": "code",
   "execution_count": 15,
   "metadata": {},
   "outputs": [
    {
     "data": {
      "image/png": "[encoded data removed]",
      "text/plain": [
       "<Figure size 432x288 with 1 Axes>"
      ]
     },
     "metadata": {
      "needs_background": "light"
     },
     "output_type": "display_data"
    }
   ],
   "source": [
    "ev.plot_roc_curve(svm_model, X_test, y_test)"
   ]
  },
  {
   "cell_type": "code",
   "execution_count": 16,
   "metadata": {},
   "outputs": [
    {
     "data": {
      "image/png": "[encoded data removed]",
      "text/plain": [
       "<Figure size 800x560 with 1 Axes>"
      ]
     },
     "metadata": {
      "needs_background": "light"
     },
     "output_type": "display_data"
    }
   ],
   "source": [
    "# Plot feature importance\n",
    "coefs = log_model.coef_\n",
    "feature_names = X_train.columns\n",
    "important_features = ev.feat_importance(coefs, feature_names, 20, one_dim=False)"
   ]
  },
  {
   "cell_type": "code",
   "execution_count": null,
   "metadata": {},
   "outputs": [],
   "source": []
  },
  {
   "cell_type": "markdown",
   "metadata": {},
   "source": [
    "### Random Forest"
   ]
  },
  {
   "cell_type": "code",
   "execution_count": 17,
   "metadata": {},
   "outputs": [],
   "source": [
    "# n_jobs = -1 allows training to be done on all available cores\n",
    "rf_model = RandomForestClassifier(n_jobs=-1, class_weight='balanced', oob_score=True)\n",
    "\n",
    "# Parameter grid for grid search\n",
    "rf_params = {'n_estimators': stats.randint.rvs(100, 1000, size=50),\n",
    "\t\t\t 'max_depth': stats.randint.rvs(2, len(X_train.columns) - 2, size=15), \n",
    "             'min_samples_leaf': stats.uniform(0, 0.4),\n",
    "             'class_weight':['balanced', 'balanced_subsample']}\n",
    "\n",
    "scoring = ['recall', 'roc_auc']\n",
    "\n",
    "cv = StratifiedShuffleSplit(n_splits=10, test_size=0.3)"
   ]
  },
  {
   "cell_type": "code",
   "execution_count": null,
   "metadata": {},
   "outputs": [],
   "source": [
    "# Grid search to iteratively search parameter space\n",
    "rf_grid = RandomizedSearchCV(rf_model, n_iter=100, param_distributions=rf_params,\n",
    "                             cv=cv, scoring=scoring, refit='roc_auc')\n",
    "rf_grid.fit(X_train, y_train)\n",
    "print(\"The best parameters are %s with a score of %0.2f\" % (rf_grid.best_params_, rf_grid.best_score_))\n",
    "\n",
    "rf_grid_score = rf_grid.score(X_test, y_test)\n",
    "print (\"Grid search's score on new test data was {}\".format(rf_grid_score))"
   ]
  },
  {
   "cell_type": "code",
   "execution_count": null,
   "metadata": {},
   "outputs": [],
   "source": [
    "ev.summarize_performance(rf_grid, X_train, y_train, proba=True)"
   ]
  },
  {
   "cell_type": "code",
   "execution_count": null,
   "metadata": {},
   "outputs": [],
   "source": [
    "rf_metrics = ev.summarize_performance(rf_grid, X_test, y_test, proba=True, return_stats=True)"
   ]
  },
  {
   "cell_type": "code",
   "execution_count": null,
   "metadata": {},
   "outputs": [],
   "source": [
    "# Plot feature importance\n",
    "coefs = rf_grid.best_estimator_.feature_importances_\n",
    "feature_names = X_train.columns\n",
    "important_features = ev.feat_importance(coefs, feature_names, 20, one_dim=True)"
   ]
  },
  {
   "cell_type": "code",
   "execution_count": null,
   "metadata": {},
   "outputs": [],
   "source": [
    "ev.plot_roc_curve(rf_grid, X_test, y_test)"
   ]
  },
  {
   "cell_type": "code",
   "execution_count": null,
   "metadata": {},
   "outputs": [],
   "source": []
  },
  {
   "cell_type": "markdown",
   "metadata": {},
   "source": [
    "### Gradient Boosted Trees"
   ]
  },
  {
   "cell_type": "code",
   "execution_count": null,
   "metadata": {},
   "outputs": [],
   "source": [
    "xgtrain = X_train.values\n",
    "xgtrain_target = y_train.values\n",
    "xgtest = X_test.values\n",
    "xgtest_target = y_test.values"
   ]
  },
  {
   "cell_type": "code",
   "execution_count": null,
   "metadata": {},
   "outputs": [],
   "source": [
    " # parameters to be tries in the grid search\n",
    "cv_params = {'max_depth': [2, 3,5,7,10, 15, 20], 'min_child_weight': [1,2,3,4,5], 'scale_pos_weight':[2, 5, 7, 9]}   \n",
    "#other parameters, fixed for the moment \n",
    "fix_params = {'learning_rate': 0.1, 'n_estimators': 100, 'objective': 'binary:logistic','silent':1}   \n",
    "csv = GridSearchCV(xgb.XGBClassifier(**fix_params), cv_params, scoring = 'roc_auc', cv = 5)"
   ]
  },
  {
   "cell_type": "code",
   "execution_count": null,
   "metadata": {},
   "outputs": [],
   "source": [
    "# Trying to find best params for max depth and child weight\n",
    "csv.fit(xgtrain, xgtrain_target)\n",
    "csv.best_params_"
   ]
  },
  {
   "cell_type": "code",
   "execution_count": null,
   "metadata": {},
   "outputs": [],
   "source": [
    "best_depth = csv.best_params_['max_depth']\n",
    "best_child_weight = csv.best_params_['min_child_weight']\n",
    "best_pos_weight = csv.best_params_['scale_pos_weight']"
   ]
  },
  {
   "cell_type": "code",
   "execution_count": null,
   "metadata": {},
   "outputs": [],
   "source": [
    "cv_params = {'subsample': [0.8,0.9,1], 'max_delta_step': [0,1,2,4]}\n",
    "fix_params = {'learning_rate': 0.2, 'n_estimators': 150, 'objective': 'binary:logistic',\n",
    "              'max_depth': best_depth, 'min_child_weight':best_child_weight, 'scale_pos_weight':best_pos_weight}"
   ]
  },
  {
   "cell_type": "code",
   "execution_count": null,
   "metadata": {},
   "outputs": [],
   "source": [
    "csv = GridSearchCV(xgb.XGBClassifier(**fix_params), cv_params, scoring = 'roc_auc', cv = 5) \n",
    "csv.fit(xgtrain, xgtrain_target)\n",
    "csv.best_params_"
   ]
  },
  {
   "cell_type": "code",
   "execution_count": null,
   "metadata": {},
   "outputs": [],
   "source": [
    "cv_params = {'learning_rate': [0.05, 0.1, 0.15, 0.2, 0.25, 0.3, 0.35]}\n",
    "fix_params['max_delta_step'] = csv.best_params_['max_delta_step']\n",
    "fix_params['subsample'] = csv.best_params_['subsample']"
   ]
  },
  {
   "cell_type": "code",
   "execution_count": null,
   "metadata": {},
   "outputs": [],
   "source": [
    "csv = GridSearchCV(xgb.XGBClassifier(**fix_params), cv_params, scoring = 'roc_auc', cv = 5) \n",
    "csv.fit(xgtrain, xgtrain_target)\n",
    "csv.cv_results_\n",
    "csv.best_params_"
   ]
  },
  {
   "cell_type": "code",
   "execution_count": null,
   "metadata": {},
   "outputs": [],
   "source": [
    "fix_params['learning_rate'] = csv.best_params_['learning_rate']\n",
    "params_final =  fix_params\n",
    "params_final['eval_metric'] = 'auc'\n",
    "params_final['silent'] = 1\n",
    "print(params_final)"
   ]
  },
  {
   "cell_type": "code",
   "execution_count": null,
   "metadata": {},
   "outputs": [],
   "source": [
    "xgdmat_train = xgb.DMatrix(X_train, y_train)\n",
    "xgdmat_test = xgb.DMatrix(X_test, y_test)\n",
    "\n",
    "xgb_final = xgb.train(params_final, xgdmat_train, num_boost_round = 100)"
   ]
  },
  {
   "cell_type": "code",
   "execution_count": null,
   "metadata": {},
   "outputs": [],
   "source": [
    "# Plot feature importance\n",
    "fig, ax = plt.subplots(figsize=(10,7), dpi=80)\n",
    "#  fig = plt.figure(num=None, figsize=(10, 7), dpi=80)\n",
    "xgb.plot_importance(xgb_final, max_num_features=25, height=0.8, ax=ax)\n",
    "plt.show()"
   ]
  },
  {
   "cell_type": "code",
   "execution_count": null,
   "metadata": {},
   "outputs": [],
   "source": [
    "ev.plot_roc_curve(xgb_final, xgdmat_test, y_test, proba=False, model_type='xgboost')"
   ]
  },
  {
   "cell_type": "code",
   "execution_count": null,
   "metadata": {},
   "outputs": [],
   "source": [
    "y_pred = xgb_final.predict(xgdmat_test)\n",
    "thresh = 0.19\n",
    "y_pred [y_pred > thresh] = 1\n",
    "y_pred [y_pred <= thresh] = 0\n",
    "cm = confusion_matrix(y_test, y_pred)\n",
    "ev.plot_confusion_matrix(cm, ['0', '1'], )\n",
    "pr, tpr, fpr = ev.summarize_cmatrix(cm);\n",
    "\n",
    "xgb_metrics = [pr, tpr, accuracy_score( y_test,y_pred)]"
   ]
  },
  {
   "cell_type": "code",
   "execution_count": null,
   "metadata": {},
   "outputs": [],
   "source": [
    "'''\n",
    "These functions plot roc curves for model performance for each of the specified parameters to plot_roc.\n",
    "Pass the name of the parameter to name_par and pass values to test to list_par\n",
    "'''\n",
    "def get_curves(X_train, y_train, X_val, y_val, pars):\n",
    "    clf = xgb.XGBClassifier(**pars)\n",
    "    clf.fit(X_train, y_train)\n",
    "    y_prob = clf.predict_proba(X_val)[:,clf.classes_[1]]\n",
    "    fpr, tpr, thresholds_roc = roc_curve(y_val, y_prob)\n",
    "    prec, rec, thresholds_pr = precision_recall_curve(y_val, y_prob)\n",
    "    return fpr, tpr, prec, rec\n",
    "\n",
    "\n",
    "def gen_curves(X_train, y_train, X_val, y_val, pars):\n",
    "    N_iter = 300\n",
    "    mean_tpr = 0.0\n",
    "    mean_fpr = np.linspace(0, 1, 100000)\n",
    "    \n",
    "    mean_prec = 0.0\n",
    "    mean_rec = np.linspace(0, 1, 100000)\n",
    "    \n",
    "    for n in range(N_iter):\n",
    "        fpr, tpr, prec, rec = get_curves(X_train, y_train, X_val, y_val, pars)\n",
    "        prec = list(reversed(prec)) #reverse, otherwise the interp doesn not work\n",
    "        rec = list(reversed(rec))\n",
    "        mean_tpr  += np.interp(mean_fpr, fpr, tpr)\n",
    "        mean_prec += np.interp(mean_rec, rec, prec)\n",
    "\n",
    "    mean_tpr /= N_iter\n",
    "    mean_prec /= N_iter\n",
    "    \n",
    "    return mean_fpr, mean_tpr, mean_prec, mean_rec"
   ]
  },
  {
   "cell_type": "code",
   "execution_count": null,
   "metadata": {},
   "outputs": [],
   "source": [
    "def plot_roc(X_train, y_train, X_val, y_val, par, name_par, list_par):\n",
    "    f, (ax1, ax2) = plt.subplots(1, 2, figsize = (18,7));\n",
    "    for l in list_par:\n",
    "        par[name_par] = l\n",
    "        print(par)\n",
    "        mean_fpr, mean_tpr, mean_prec, mean_rec = gen_curves(X_train, y_train, X_val, y_val, par)\n",
    "        ax1.plot(mean_fpr, mean_tpr, label = name_par+\" = \"+str(l))\n",
    "        ax2.plot(mean_rec, mean_prec, label = name_par+\" = \"+str(l))\n",
    "    ax1.set_xlim([0, 0.0005])\n",
    "    ax1.set_ylim([0.5, 0.95])\n",
    "    ax1.axvline(2e-4, color='b', linestyle='dashed', linewidth=2)\n",
    "    ax1.legend(loc=\"lower right\")\n",
    "    ax1.set_xlabel('FPR/Fallout')\n",
    "    ax1.set_ylabel('TPR/Recall')\n",
    "    ax2.set_xlabel('Recall')\n",
    "    ax2.set_ylabel('Precision')\n",
    "    ax1.set_title('ROC')\n",
    "    ax2.set_title('PR')\n",
    "    ax2.legend(loc = \"lower left\")\n",
    "    ax2.set_xlim([0.5, 1])\n",
    "    plt.show()"
   ]
  },
  {
   "cell_type": "code",
   "execution_count": null,
   "metadata": {},
   "outputs": [],
   "source": [
    "par = params_final\n",
    "plot_roc(xgtrain, xgtrain_target, xgtest, xgtest_target, par, 'max_depth', [3,4,5,7,10,15])"
   ]
  },
  {
   "cell_type": "code",
   "execution_count": null,
   "metadata": {},
   "outputs": [],
   "source": [
    "# Take a look at current params\n",
    "par"
   ]
  },
  {
   "cell_type": "code",
   "execution_count": null,
   "metadata": {},
   "outputs": [],
   "source": [
    "par['max_depth'] = 3\n",
    "par['learning_rate'] = 0.05\n",
    "par['n_estimators'] = 200\n",
    "par['scale_pos_weight'] = 6"
   ]
  },
  {
   "cell_type": "code",
   "execution_count": null,
   "metadata": {},
   "outputs": [],
   "source": [
    "# Based on what we see with the graphs, re run xgboost with the params we think might help\n",
    "xgb_final = xgb.train(par, xgdmat_train, num_boost_round = 100)\n",
    "plot_roc_curve(xgb_final, xgdmat_test, y_test, proba=False)"
   ]
  },
  {
   "cell_type": "code",
   "execution_count": null,
   "metadata": {},
   "outputs": [],
   "source": []
  },
  {
   "cell_type": "markdown",
   "metadata": {},
   "source": [
    "### Model Comparison"
   ]
  },
  {
   "cell_type": "markdown",
   "metadata": {},
   "source": [
    "Lets visualize summary statistics for each of the model types we've tried to see how they stack up to one another. To do this I've made use of the plot_compare method in Evaluator.py. More details on params are provided in the class file. "
   ]
  },
  {
   "cell_type": "code",
   "execution_count": null,
   "metadata": {},
   "outputs": [],
   "source": [
    "results = [log_metrics, svm_metrics, rf_metrics, xgb_metrics]\n",
    "labels = [\"Precision\", \"Recall\", \"Accuracy\"]\n",
    "titles = [\"Logistic Regression\", \"SVM\", \"Random Forest\", \"XGboost\"]"
   ]
  },
  {
   "cell_type": "code",
   "execution_count": null,
   "metadata": {},
   "outputs": [],
   "source": [
    "ev.plot_compare(results, labels, xlabel='Metrics', ylabel='%', titles=titles)"
   ]
  },
  {
   "cell_type": "code",
   "execution_count": null,
   "metadata": {},
   "outputs": [],
   "source": []
  }
 ],
 "metadata": {
  "kernelspec": {
   "display_name": "Python 3",
   "language": "python",
   "name": "python3"
  },
  "language_info": {
   "codemirror_mode": {
    "name": "ipython",
    "version": 3
   },
   "file_extension": ".py",
   "mimetype": "text/x-python",
   "name": "python",
   "nbconvert_exporter": "python",
   "pygments_lexer": "ipython3",
   "version": "3.6.6"
  }
 },
 "nbformat": 4,
 "nbformat_minor": 2
}
