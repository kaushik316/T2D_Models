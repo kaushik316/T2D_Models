{
 "cells": [
  {
   "cell_type": "markdown",
   "metadata": {},
   "source": [
    "# Type 2 diabetes model"
   ]
  },
  {
   "cell_type": "code",
   "execution_count": 68,
   "metadata": {},
   "outputs": [],
   "source": [
    "import pandas as pd\n",
    "import numpy as np\n",
    "from sklearn.model_selection import train_test_split\n",
    "from sklearn.linear_model import LogisticRegressionCV\n",
    "from sklearn.linear_model import LogisticRegression\n",
    "from sklearn.model_selection import StratifiedShuffleSplit\n",
    "from sklearn.model_selection import GridSearchCV\n",
    "from sklearn.linear_model import LogisticRegression\n",
    "from sklearn.ensemble import RandomForestClassifier\n",
    "from sklearn.svm import LinearSVC\n",
    "from sklearn.svm import SVC\n",
    "from sklearn.naive_bayes import ComplementNB\n",
    "from sklearn.metrics import roc_curve, auc\n",
    "from sklearn.metrics import precision_score\n",
    "from sklearn.metrics import recall_score\n",
    "import warnings\n",
    "from matplotlib import pyplot as plt\n",
    "plt.style.use('ggplot')\n",
    "warnings.filterwarnings(action='ignore')\n",
    "import sklearn \n",
    "import jupyterthemes\n",
    "from jupyterthemes import jtplot\n",
    "jtplot.style(theme='oceans16')"
   ]
  },
  {
   "cell_type": "markdown",
   "metadata": {},
   "source": [
    "### Data Preprocessing"
   ]
  },
  {
   "cell_type": "code",
   "execution_count": 69,
   "metadata": {},
   "outputs": [
    {
     "data": {
      "text/html": [
       "<div>\n",
       "<style scoped>\n",
       "    .dataframe tbody tr th:only-of-type {\n",
       "        vertical-align: middle;\n",
       "    }\n",
       "\n",
       "    .dataframe tbody tr th {\n",
       "        vertical-align: top;\n",
       "    }\n",
       "\n",
       "    .dataframe thead th {\n",
       "        text-align: right;\n",
       "    }\n",
       "</style>\n",
       "<table border=\"1\" class=\"dataframe\">\n",
       "  <thead>\n",
       "    <tr style=\"text-align: right;\">\n",
       "      <th></th>\n",
       "      <th>snp</th>\n",
       "      <th>type</th>\n",
       "      <th>MCF-7_ChIP-seq_CTCF_ENCSR000AHD_ENCFF001UML_ENCFF001UMN_intersect.bed</th>\n",
       "      <th>MCF-7_ChIP-seq_TAF1_ENCSR000AHF_ENCFF001UNU_ENCFF001UNT_intersect.bed</th>\n",
       "      <th>GM12878_ChIP-seq_CTCF_ENCFF002CDP.bed</th>\n",
       "      <th>K562_ChIP-seq_CTCF_ENCFF002CEL.bed</th>\n",
       "      <th>K562_ChIP-seq_POLR2A_ENCFF002CET.bed</th>\n",
       "      <th>endothelial_cell_of_umbilical_vein_ChIP-seq_CTCF_ENCFF002CEH.bed</th>\n",
       "      <th>endothelial_cell_of_umbilical_vein_ChIP-seq_POLR2A_ENCFF002CEJ.bed</th>\n",
       "      <th>keratinocyte_ChIP-seq_CTCF_ENCFF002CFA.bed</th>\n",
       "      <th>...</th>\n",
       "      <th>Hepatocyte_PPARA_GW7647_2hr.bed</th>\n",
       "      <th>Hepatocyte_PPARA_GW7647_24hr.bed</th>\n",
       "      <th>liver_USF1_ctrl_peaks.narrowPeak</th>\n",
       "      <th>liver_USF1_ASH_peaks.narrowPeak</th>\n",
       "      <th>islet_pooled_H3K4me1_final.bed</th>\n",
       "      <th>islet_CTCF_intersectall.bed</th>\n",
       "      <th>islet_H3K27ac.bed</th>\n",
       "      <th>islet_pooled_H3K27ac.bed</th>\n",
       "      <th>islet_pooled_H3K4me3_peaks.broadPeak</th>\n",
       "      <th>snpcount</th>\n",
       "    </tr>\n",
       "  </thead>\n",
       "  <tbody>\n",
       "    <tr>\n",
       "      <th>2116</th>\n",
       "      <td>Chr1_Group_1072</td>\n",
       "      <td>control</td>\n",
       "      <td>0</td>\n",
       "      <td>0</td>\n",
       "      <td>0</td>\n",
       "      <td>0</td>\n",
       "      <td>0</td>\n",
       "      <td>0</td>\n",
       "      <td>0</td>\n",
       "      <td>0</td>\n",
       "      <td>...</td>\n",
       "      <td>0</td>\n",
       "      <td>0</td>\n",
       "      <td>0</td>\n",
       "      <td>0</td>\n",
       "      <td>0</td>\n",
       "      <td>0</td>\n",
       "      <td>1</td>\n",
       "      <td>1</td>\n",
       "      <td>1</td>\n",
       "      <td>65</td>\n",
       "    </tr>\n",
       "    <tr>\n",
       "      <th>2117</th>\n",
       "      <td>Chr2_Group_372</td>\n",
       "      <td>control</td>\n",
       "      <td>1</td>\n",
       "      <td>0</td>\n",
       "      <td>0</td>\n",
       "      <td>1</td>\n",
       "      <td>0</td>\n",
       "      <td>1</td>\n",
       "      <td>0</td>\n",
       "      <td>1</td>\n",
       "      <td>...</td>\n",
       "      <td>0</td>\n",
       "      <td>0</td>\n",
       "      <td>0</td>\n",
       "      <td>0</td>\n",
       "      <td>0</td>\n",
       "      <td>1</td>\n",
       "      <td>0</td>\n",
       "      <td>0</td>\n",
       "      <td>0</td>\n",
       "      <td>5</td>\n",
       "    </tr>\n",
       "    <tr>\n",
       "      <th>2118</th>\n",
       "      <td>Chr17_Group_188</td>\n",
       "      <td>control</td>\n",
       "      <td>0</td>\n",
       "      <td>0</td>\n",
       "      <td>0</td>\n",
       "      <td>0</td>\n",
       "      <td>0</td>\n",
       "      <td>0</td>\n",
       "      <td>0</td>\n",
       "      <td>0</td>\n",
       "      <td>...</td>\n",
       "      <td>0</td>\n",
       "      <td>0</td>\n",
       "      <td>0</td>\n",
       "      <td>0</td>\n",
       "      <td>0</td>\n",
       "      <td>0</td>\n",
       "      <td>0</td>\n",
       "      <td>1</td>\n",
       "      <td>0</td>\n",
       "      <td>8</td>\n",
       "    </tr>\n",
       "    <tr>\n",
       "      <th>2119</th>\n",
       "      <td>Chr22_Group_200</td>\n",
       "      <td>control</td>\n",
       "      <td>0</td>\n",
       "      <td>0</td>\n",
       "      <td>0</td>\n",
       "      <td>0</td>\n",
       "      <td>0</td>\n",
       "      <td>0</td>\n",
       "      <td>0</td>\n",
       "      <td>0</td>\n",
       "      <td>...</td>\n",
       "      <td>0</td>\n",
       "      <td>0</td>\n",
       "      <td>0</td>\n",
       "      <td>0</td>\n",
       "      <td>0</td>\n",
       "      <td>0</td>\n",
       "      <td>1</td>\n",
       "      <td>1</td>\n",
       "      <td>1</td>\n",
       "      <td>5</td>\n",
       "    </tr>\n",
       "    <tr>\n",
       "      <th>2120</th>\n",
       "      <td>Chr6_Group_23</td>\n",
       "      <td>control</td>\n",
       "      <td>0</td>\n",
       "      <td>0</td>\n",
       "      <td>0</td>\n",
       "      <td>0</td>\n",
       "      <td>0</td>\n",
       "      <td>0</td>\n",
       "      <td>0</td>\n",
       "      <td>0</td>\n",
       "      <td>...</td>\n",
       "      <td>0</td>\n",
       "      <td>0</td>\n",
       "      <td>0</td>\n",
       "      <td>0</td>\n",
       "      <td>0</td>\n",
       "      <td>0</td>\n",
       "      <td>0</td>\n",
       "      <td>0</td>\n",
       "      <td>0</td>\n",
       "      <td>31</td>\n",
       "    </tr>\n",
       "  </tbody>\n",
       "</table>\n",
       "<p>5 rows × 2750 columns</p>\n",
       "</div>"
      ],
      "text/plain": [
       "                  snp     type  \\\n",
       "2116  Chr1_Group_1072  control   \n",
       "2117   Chr2_Group_372  control   \n",
       "2118  Chr17_Group_188  control   \n",
       "2119  Chr22_Group_200  control   \n",
       "2120    Chr6_Group_23  control   \n",
       "\n",
       "      MCF-7_ChIP-seq_CTCF_ENCSR000AHD_ENCFF001UML_ENCFF001UMN_intersect.bed  \\\n",
       "2116                                                  0                       \n",
       "2117                                                  1                       \n",
       "2118                                                  0                       \n",
       "2119                                                  0                       \n",
       "2120                                                  0                       \n",
       "\n",
       "      MCF-7_ChIP-seq_TAF1_ENCSR000AHF_ENCFF001UNU_ENCFF001UNT_intersect.bed  \\\n",
       "2116                                                  0                       \n",
       "2117                                                  0                       \n",
       "2118                                                  0                       \n",
       "2119                                                  0                       \n",
       "2120                                                  0                       \n",
       "\n",
       "      GM12878_ChIP-seq_CTCF_ENCFF002CDP.bed  \\\n",
       "2116                                      0   \n",
       "2117                                      0   \n",
       "2118                                      0   \n",
       "2119                                      0   \n",
       "2120                                      0   \n",
       "\n",
       "      K562_ChIP-seq_CTCF_ENCFF002CEL.bed  \\\n",
       "2116                                   0   \n",
       "2117                                   1   \n",
       "2118                                   0   \n",
       "2119                                   0   \n",
       "2120                                   0   \n",
       "\n",
       "      K562_ChIP-seq_POLR2A_ENCFF002CET.bed  \\\n",
       "2116                                     0   \n",
       "2117                                     0   \n",
       "2118                                     0   \n",
       "2119                                     0   \n",
       "2120                                     0   \n",
       "\n",
       "      endothelial_cell_of_umbilical_vein_ChIP-seq_CTCF_ENCFF002CEH.bed  \\\n",
       "2116                                                  0                  \n",
       "2117                                                  1                  \n",
       "2118                                                  0                  \n",
       "2119                                                  0                  \n",
       "2120                                                  0                  \n",
       "\n",
       "      endothelial_cell_of_umbilical_vein_ChIP-seq_POLR2A_ENCFF002CEJ.bed  \\\n",
       "2116                                                  0                    \n",
       "2117                                                  0                    \n",
       "2118                                                  0                    \n",
       "2119                                                  0                    \n",
       "2120                                                  0                    \n",
       "\n",
       "      keratinocyte_ChIP-seq_CTCF_ENCFF002CFA.bed    ...     \\\n",
       "2116                                           0    ...      \n",
       "2117                                           1    ...      \n",
       "2118                                           0    ...      \n",
       "2119                                           0    ...      \n",
       "2120                                           0    ...      \n",
       "\n",
       "      Hepatocyte_PPARA_GW7647_2hr.bed  Hepatocyte_PPARA_GW7647_24hr.bed  \\\n",
       "2116                                0                                 0   \n",
       "2117                                0                                 0   \n",
       "2118                                0                                 0   \n",
       "2119                                0                                 0   \n",
       "2120                                0                                 0   \n",
       "\n",
       "      liver_USF1_ctrl_peaks.narrowPeak  liver_USF1_ASH_peaks.narrowPeak  \\\n",
       "2116                                 0                                0   \n",
       "2117                                 0                                0   \n",
       "2118                                 0                                0   \n",
       "2119                                 0                                0   \n",
       "2120                                 0                                0   \n",
       "\n",
       "      islet_pooled_H3K4me1_final.bed  islet_CTCF_intersectall.bed  \\\n",
       "2116                               0                            0   \n",
       "2117                               0                            1   \n",
       "2118                               0                            0   \n",
       "2119                               0                            0   \n",
       "2120                               0                            0   \n",
       "\n",
       "      islet_H3K27ac.bed  islet_pooled_H3K27ac.bed  \\\n",
       "2116                  1                         1   \n",
       "2117                  0                         0   \n",
       "2118                  0                         1   \n",
       "2119                  1                         1   \n",
       "2120                  0                         0   \n",
       "\n",
       "      islet_pooled_H3K4me3_peaks.broadPeak  snpcount  \n",
       "2116                                     1        65  \n",
       "2117                                     0         5  \n",
       "2118                                     0         8  \n",
       "2119                                     1         5  \n",
       "2120                                     0        31  \n",
       "\n",
       "[5 rows x 2750 columns]"
      ]
     },
     "execution_count": 69,
     "metadata": {},
     "output_type": "execute_result"
    }
   ],
   "source": [
    "t2d_train_df = pd.read_table(\"../data/T2D_data/T2D_training_ML_table.txt\")\n",
    "t2d_test_df = pd.read_table(\"../data/T2D_data/T2D_testing_ML_table.txt\")\n",
    "t2d_train_df.tail()"
   ]
  },
  {
   "cell_type": "code",
   "execution_count": 70,
   "metadata": {},
   "outputs": [],
   "source": [
    "def show_counts(df, pos_col, neg_col):\n",
    "    # Read in data and compare class balances\n",
    "    positives = df['type'].value_counts()[pos_col]\n",
    "    controls = df['type'].value_counts()[neg_col]\n",
    "    total = len(df)\n",
    "\n",
    "    print (\"Total samples: {} \\nPositives: {} \\nControls: {}\".format(total, positives, controls))"
   ]
  },
  {
   "cell_type": "code",
   "execution_count": 71,
   "metadata": {},
   "outputs": [
    {
     "name": "stdout",
     "output_type": "stream",
     "text": [
      "Total samples: 2121 \n",
      "Positives: 303 \n",
      "Controls: 1818\n"
     ]
    }
   ],
   "source": [
    "# Read in training data and compare class balances\n",
    "show_counts(t2d_train_df, 'index', 'control')"
   ]
  },
  {
   "cell_type": "code",
   "execution_count": 72,
   "metadata": {},
   "outputs": [
    {
     "name": "stdout",
     "output_type": "stream",
     "text": [
      "Total samples: 1064 \n",
      "Positives: 152 \n",
      "Controls: 912\n"
     ]
    }
   ],
   "source": [
    "# Read in testing data and compare class balances\n",
    "show_counts(t2d_test_df, 'index', 'control')"
   ]
  },
  {
   "cell_type": "code",
   "execution_count": 73,
   "metadata": {},
   "outputs": [],
   "source": [
    "# Change labels to 0 or 1 for control or positive\n",
    "t2d_train_df['type'] = t2d_train_df['type'].apply(lambda x: 0 if x == 'control' else 1)\n",
    "t2d_test_df['type'] = t2d_test_df['type'].apply(lambda x: 0 if x == 'control' else 1)\n",
    "\n",
    "# Add sample weights based on prevalence of class\n",
    "t2d_train_df['weight'] = t2d_train_df['type'].apply(lambda x: 1.5 if x == 1 else 1)"
   ]
  },
  {
   "cell_type": "code",
   "execution_count": 74,
   "metadata": {},
   "outputs": [
    {
     "data": {
      "text/html": [
       "<div>\n",
       "<style scoped>\n",
       "    .dataframe tbody tr th:only-of-type {\n",
       "        vertical-align: middle;\n",
       "    }\n",
       "\n",
       "    .dataframe tbody tr th {\n",
       "        vertical-align: top;\n",
       "    }\n",
       "\n",
       "    .dataframe thead th {\n",
       "        text-align: right;\n",
       "    }\n",
       "</style>\n",
       "<table border=\"1\" class=\"dataframe\">\n",
       "  <thead>\n",
       "    <tr style=\"text-align: right;\">\n",
       "      <th></th>\n",
       "      <th>snp</th>\n",
       "      <th>type</th>\n",
       "      <th>MCF-7_ChIP-seq_CTCF_ENCSR000AHD_ENCFF001UML_ENCFF001UMN_intersect.bed</th>\n",
       "      <th>MCF-7_ChIP-seq_TAF1_ENCSR000AHF_ENCFF001UNU_ENCFF001UNT_intersect.bed</th>\n",
       "      <th>GM12878_ChIP-seq_CTCF_ENCFF002CDP.bed</th>\n",
       "      <th>K562_ChIP-seq_CTCF_ENCFF002CEL.bed</th>\n",
       "      <th>K562_ChIP-seq_POLR2A_ENCFF002CET.bed</th>\n",
       "      <th>endothelial_cell_of_umbilical_vein_ChIP-seq_CTCF_ENCFF002CEH.bed</th>\n",
       "      <th>endothelial_cell_of_umbilical_vein_ChIP-seq_POLR2A_ENCFF002CEJ.bed</th>\n",
       "      <th>keratinocyte_ChIP-seq_CTCF_ENCFF002CFA.bed</th>\n",
       "      <th>...</th>\n",
       "      <th>Hepatocyte_PPARA_GW7647_24hr.bed</th>\n",
       "      <th>liver_USF1_ctrl_peaks.narrowPeak</th>\n",
       "      <th>liver_USF1_ASH_peaks.narrowPeak</th>\n",
       "      <th>islet_pooled_H3K4me1_final.bed</th>\n",
       "      <th>islet_CTCF_intersectall.bed</th>\n",
       "      <th>islet_H3K27ac.bed</th>\n",
       "      <th>islet_pooled_H3K27ac.bed</th>\n",
       "      <th>islet_pooled_H3K4me3_peaks.broadPeak</th>\n",
       "      <th>snpcount</th>\n",
       "      <th>weight</th>\n",
       "    </tr>\n",
       "  </thead>\n",
       "  <tbody>\n",
       "    <tr>\n",
       "      <th>0</th>\n",
       "      <td>Chr12_Group_459</td>\n",
       "      <td>1</td>\n",
       "      <td>0</td>\n",
       "      <td>0</td>\n",
       "      <td>0</td>\n",
       "      <td>0</td>\n",
       "      <td>0</td>\n",
       "      <td>0</td>\n",
       "      <td>0</td>\n",
       "      <td>0</td>\n",
       "      <td>...</td>\n",
       "      <td>0</td>\n",
       "      <td>0</td>\n",
       "      <td>0</td>\n",
       "      <td>0</td>\n",
       "      <td>0</td>\n",
       "      <td>0</td>\n",
       "      <td>0</td>\n",
       "      <td>0</td>\n",
       "      <td>11</td>\n",
       "      <td>1.5</td>\n",
       "    </tr>\n",
       "    <tr>\n",
       "      <th>1</th>\n",
       "      <td>Chr6_Group_395</td>\n",
       "      <td>1</td>\n",
       "      <td>0</td>\n",
       "      <td>0</td>\n",
       "      <td>0</td>\n",
       "      <td>0</td>\n",
       "      <td>0</td>\n",
       "      <td>0</td>\n",
       "      <td>0</td>\n",
       "      <td>0</td>\n",
       "      <td>...</td>\n",
       "      <td>0</td>\n",
       "      <td>0</td>\n",
       "      <td>0</td>\n",
       "      <td>0</td>\n",
       "      <td>0</td>\n",
       "      <td>0</td>\n",
       "      <td>0</td>\n",
       "      <td>0</td>\n",
       "      <td>5</td>\n",
       "      <td>1.5</td>\n",
       "    </tr>\n",
       "    <tr>\n",
       "      <th>2</th>\n",
       "      <td>Chr5_Group_351</td>\n",
       "      <td>1</td>\n",
       "      <td>0</td>\n",
       "      <td>0</td>\n",
       "      <td>0</td>\n",
       "      <td>0</td>\n",
       "      <td>0</td>\n",
       "      <td>0</td>\n",
       "      <td>0</td>\n",
       "      <td>0</td>\n",
       "      <td>...</td>\n",
       "      <td>0</td>\n",
       "      <td>0</td>\n",
       "      <td>0</td>\n",
       "      <td>0</td>\n",
       "      <td>0</td>\n",
       "      <td>0</td>\n",
       "      <td>0</td>\n",
       "      <td>0</td>\n",
       "      <td>1</td>\n",
       "      <td>1.5</td>\n",
       "    </tr>\n",
       "    <tr>\n",
       "      <th>3</th>\n",
       "      <td>Chr16_Group_19</td>\n",
       "      <td>1</td>\n",
       "      <td>0</td>\n",
       "      <td>0</td>\n",
       "      <td>0</td>\n",
       "      <td>0</td>\n",
       "      <td>0</td>\n",
       "      <td>0</td>\n",
       "      <td>0</td>\n",
       "      <td>0</td>\n",
       "      <td>...</td>\n",
       "      <td>0</td>\n",
       "      <td>0</td>\n",
       "      <td>0</td>\n",
       "      <td>1</td>\n",
       "      <td>0</td>\n",
       "      <td>1</td>\n",
       "      <td>1</td>\n",
       "      <td>0</td>\n",
       "      <td>36</td>\n",
       "      <td>1.5</td>\n",
       "    </tr>\n",
       "    <tr>\n",
       "      <th>4</th>\n",
       "      <td>Chr5_Group_55</td>\n",
       "      <td>1</td>\n",
       "      <td>0</td>\n",
       "      <td>0</td>\n",
       "      <td>0</td>\n",
       "      <td>0</td>\n",
       "      <td>0</td>\n",
       "      <td>0</td>\n",
       "      <td>0</td>\n",
       "      <td>0</td>\n",
       "      <td>...</td>\n",
       "      <td>0</td>\n",
       "      <td>0</td>\n",
       "      <td>0</td>\n",
       "      <td>0</td>\n",
       "      <td>0</td>\n",
       "      <td>0</td>\n",
       "      <td>0</td>\n",
       "      <td>0</td>\n",
       "      <td>2</td>\n",
       "      <td>1.5</td>\n",
       "    </tr>\n",
       "  </tbody>\n",
       "</table>\n",
       "<p>5 rows × 2751 columns</p>\n",
       "</div>"
      ],
      "text/plain": [
       "               snp  type  \\\n",
       "0  Chr12_Group_459     1   \n",
       "1   Chr6_Group_395     1   \n",
       "2   Chr5_Group_351     1   \n",
       "3   Chr16_Group_19     1   \n",
       "4    Chr5_Group_55     1   \n",
       "\n",
       "   MCF-7_ChIP-seq_CTCF_ENCSR000AHD_ENCFF001UML_ENCFF001UMN_intersect.bed  \\\n",
       "0                                                  0                       \n",
       "1                                                  0                       \n",
       "2                                                  0                       \n",
       "3                                                  0                       \n",
       "4                                                  0                       \n",
       "\n",
       "   MCF-7_ChIP-seq_TAF1_ENCSR000AHF_ENCFF001UNU_ENCFF001UNT_intersect.bed  \\\n",
       "0                                                  0                       \n",
       "1                                                  0                       \n",
       "2                                                  0                       \n",
       "3                                                  0                       \n",
       "4                                                  0                       \n",
       "\n",
       "   GM12878_ChIP-seq_CTCF_ENCFF002CDP.bed  K562_ChIP-seq_CTCF_ENCFF002CEL.bed  \\\n",
       "0                                      0                                   0   \n",
       "1                                      0                                   0   \n",
       "2                                      0                                   0   \n",
       "3                                      0                                   0   \n",
       "4                                      0                                   0   \n",
       "\n",
       "   K562_ChIP-seq_POLR2A_ENCFF002CET.bed  \\\n",
       "0                                     0   \n",
       "1                                     0   \n",
       "2                                     0   \n",
       "3                                     0   \n",
       "4                                     0   \n",
       "\n",
       "   endothelial_cell_of_umbilical_vein_ChIP-seq_CTCF_ENCFF002CEH.bed  \\\n",
       "0                                                  0                  \n",
       "1                                                  0                  \n",
       "2                                                  0                  \n",
       "3                                                  0                  \n",
       "4                                                  0                  \n",
       "\n",
       "   endothelial_cell_of_umbilical_vein_ChIP-seq_POLR2A_ENCFF002CEJ.bed  \\\n",
       "0                                                  0                    \n",
       "1                                                  0                    \n",
       "2                                                  0                    \n",
       "3                                                  0                    \n",
       "4                                                  0                    \n",
       "\n",
       "   keratinocyte_ChIP-seq_CTCF_ENCFF002CFA.bed   ...    \\\n",
       "0                                           0   ...     \n",
       "1                                           0   ...     \n",
       "2                                           0   ...     \n",
       "3                                           0   ...     \n",
       "4                                           0   ...     \n",
       "\n",
       "   Hepatocyte_PPARA_GW7647_24hr.bed  liver_USF1_ctrl_peaks.narrowPeak  \\\n",
       "0                                 0                                 0   \n",
       "1                                 0                                 0   \n",
       "2                                 0                                 0   \n",
       "3                                 0                                 0   \n",
       "4                                 0                                 0   \n",
       "\n",
       "   liver_USF1_ASH_peaks.narrowPeak  islet_pooled_H3K4me1_final.bed  \\\n",
       "0                                0                               0   \n",
       "1                                0                               0   \n",
       "2                                0                               0   \n",
       "3                                0                               1   \n",
       "4                                0                               0   \n",
       "\n",
       "   islet_CTCF_intersectall.bed  islet_H3K27ac.bed  islet_pooled_H3K27ac.bed  \\\n",
       "0                            0                  0                         0   \n",
       "1                            0                  0                         0   \n",
       "2                            0                  0                         0   \n",
       "3                            0                  1                         1   \n",
       "4                            0                  0                         0   \n",
       "\n",
       "   islet_pooled_H3K4me3_peaks.broadPeak  snpcount  weight  \n",
       "0                                     0        11     1.5  \n",
       "1                                     0         5     1.5  \n",
       "2                                     0         1     1.5  \n",
       "3                                     0        36     1.5  \n",
       "4                                     0         2     1.5  \n",
       "\n",
       "[5 rows x 2751 columns]"
      ]
     },
     "execution_count": 74,
     "metadata": {},
     "output_type": "execute_result"
    }
   ],
   "source": [
    "t2d_train_df.head()"
   ]
  },
  {
   "cell_type": "code",
   "execution_count": 75,
   "metadata": {},
   "outputs": [],
   "source": [
    "# Drop the snp feature so that only numerical data remains\n",
    "t2d_train_df = t2d_train_df.drop(['snp'], axis=1)\n",
    "t2d_test_df = t2d_test_df.drop(['snp'], axis=1)"
   ]
  },
  {
   "cell_type": "code",
   "execution_count": 76,
   "metadata": {},
   "outputs": [
    {
     "name": "stdout",
     "output_type": "stream",
     "text": [
      "Total samples: 2121 \n",
      "Positives: 303 \n",
      "Controls: 1818\n"
     ]
    }
   ],
   "source": [
    "# Verify value counts are the same to check conversion was performed correctly\n",
    "show_counts(t2d_train_df, 1, 0)"
   ]
  },
  {
   "cell_type": "code",
   "execution_count": 77,
   "metadata": {},
   "outputs": [
    {
     "name": "stdout",
     "output_type": "stream",
     "text": [
      "Total samples: 1064 \n",
      "Positives: 152 \n",
      "Controls: 912\n"
     ]
    }
   ],
   "source": [
    "show_counts(t2d_test_df, 1, 0)"
   ]
  },
  {
   "cell_type": "code",
   "execution_count": 78,
   "metadata": {},
   "outputs": [],
   "source": [
    "# Drop random samples from control class\n",
    "# pct_to_drop = 0.5\n",
    "# t2d_train_df = t2d_train_df.drop(t2d_train_df[t2d_train_df['type'] == 0].sample(frac=pct_to_drop).index)\n",
    "# print (\"Dropped {} % of control class.\".format(pct_to_drop))\n",
    "# show_counts(t2d_train_df, 1, 0)"
   ]
  },
  {
   "cell_type": "code",
   "execution_count": 79,
   "metadata": {},
   "outputs": [],
   "source": [
    "# Write out data to file so we don't have to repeat preprocessing \n",
    "# every time we train a model from a different file\n",
    "t2d_train_df.to_csv(\"../data/T2D_data/T2D_train.csv\")\n",
    "t2d_test_df.to_csv(\"../data/T2D_data/T2D_test.csv\")"
   ]
  },
  {
   "cell_type": "code",
   "execution_count": 80,
   "metadata": {},
   "outputs": [],
   "source": [
    "# Shuffle dataframe\n",
    "t2d_train_df = t2d_train_df.sample(frac=1)\n",
    "t2d_test_df = t2d_test_df.sample(frac=1)"
   ]
  },
  {
   "cell_type": "code",
   "execution_count": 81,
   "metadata": {},
   "outputs": [],
   "source": [
    "# Create training and test sets for model\n",
    "X_train = t2d_train_df.drop(['type', 'weight'], axis=1)\n",
    "y_train = t2d_train_df.loc[:, 'type']\n",
    "\n",
    "X_test = t2d_test_df.drop(['type'], axis=1)\n",
    "y_test = t2d_test_df.loc[:, 'type']"
   ]
  },
  {
   "cell_type": "code",
   "execution_count": 82,
   "metadata": {},
   "outputs": [],
   "source": [
    "# If we want to add sample weights\n",
    "sample_weight = t2d_train_df['weight']"
   ]
  },
  {
   "cell_type": "code",
   "execution_count": null,
   "metadata": {},
   "outputs": [],
   "source": []
  },
  {
   "cell_type": "markdown",
   "metadata": {},
   "source": [
    "### Logistic Regression "
   ]
  },
  {
   "cell_type": "markdown",
   "metadata": {},
   "source": [
    "Sklearn's logistic regression model, with ten fold cross validation. Using the following parameters:\n",
    "* cv = 10\n",
    "* penalty = L1 (Same as lasso regression)\n",
    "* class_weight = balanced (Sets regularization term C to 1/(class frequency) for each sample. Useful for imbalanced datasets. "
   ]
  },
  {
   "cell_type": "code",
   "execution_count": 83,
   "metadata": {},
   "outputs": [
    {
     "data": {
      "text/plain": [
       "LogisticRegressionCV(Cs=10, class_weight='balanced', cv=10, dual=False,\n",
       "           fit_intercept=True, intercept_scaling=1.0, max_iter=5000,\n",
       "           multi_class='warn', n_jobs=None, penalty='l1',\n",
       "           random_state=None, refit=True, scoring='roc_auc',\n",
       "           solver='liblinear', tol=0.0001, verbose=0)"
      ]
     },
     "execution_count": 83,
     "metadata": {},
     "output_type": "execute_result"
    }
   ],
   "source": [
    "log_model = LogisticRegressionCV(solver='liblinear', \n",
    "                                 penalty='l1', \n",
    "                                 class_weight='balanced',\n",
    "                                 scoring='roc_auc', \n",
    "                                 cv=10,\n",
    "                                 max_iter=5000)\n",
    "log_model.fit(X_train, y_train, sample_weight=sample_weight)"
   ]
  },
  {
   "cell_type": "code",
   "execution_count": 84,
   "metadata": {},
   "outputs": [],
   "source": [
    "'''\n",
    "Predict class using a model that predicts probabilities with a user \n",
    "defined threshold for classification\n",
    "'''\n",
    "def predict_class(model, Xtest, threshold):\n",
    "    logits = model.predict_proba(Xtest)\n",
    "    predictions = [1 if float(sample[1]) > threshold else 0 for sample in logits]\n",
    "    return predictions\n",
    "\n",
    "\n",
    "'''\n",
    "Summarize model performance with precision and recall statistics\n",
    "'''\n",
    "def summarize_performance(model, X, y, threshold=0.5, proba=True):\n",
    "    if proba:\n",
    "        predictions = predict_class(model, X, threshold)\n",
    "    else:\n",
    "        predictions = model.predict(X)\n",
    "    \n",
    "    precision = precision_score(y_true=y, y_pred=predictions)\n",
    "    recall = recall_score(y_true=y, y_pred=predictions)\n",
    "    accuracy = model.score(X, y)\n",
    "    print (\"Model Performance:\\n Precision: {}\\n Recall: {}\\n Accuracy: {}\".format(precision, recall, accuracy))"
   ]
  },
  {
   "cell_type": "code",
   "execution_count": 85,
   "metadata": {},
   "outputs": [
    {
     "name": "stdout",
     "output_type": "stream",
     "text": [
      "Training Dataset Logistic Model Performance:\n",
      " Precision: 0.7709923664122137\n",
      " Recall: 1.0\n",
      " Accuracy: 0.999023334676702\n"
     ]
    }
   ],
   "source": [
    "print(\"Training Dataset Logistic\", end=\" \")\n",
    "summarize_performance(log_model, X_train, y_train, threshold=0.5)"
   ]
  },
  {
   "cell_type": "code",
   "execution_count": 86,
   "metadata": {},
   "outputs": [
    {
     "name": "stdout",
     "output_type": "stream",
     "text": [
      "Test Dataset Logistic Model Performance:\n",
      " Precision: 0.22935779816513763\n",
      " Recall: 0.32894736842105265\n",
      " Accuracy: 0.588563307940905\n"
     ]
    }
   ],
   "source": [
    "print(\"Test Dataset Logistic\", end=\" \")\n",
    "summarize_performance(log_model, X_test, y_test, threshold=0.5)"
   ]
  },
  {
   "cell_type": "code",
   "execution_count": 87,
   "metadata": {},
   "outputs": [
    {
     "name": "stdout",
     "output_type": "stream",
     "text": [
      "[0 0 0 ... 0 0 1]\n"
     ]
    }
   ],
   "source": [
    "print (log_model.predict(X_test))"
   ]
  },
  {
   "cell_type": "code",
   "execution_count": 88,
   "metadata": {},
   "outputs": [],
   "source": [
    "def plot_roc_curve(model, Xtest, ytest):\n",
    "    # calculate the fpr and tpr for all thresholds of the classification\n",
    "    probs = model.predict_proba(Xtest)\n",
    "    preds = probs[:,1]\n",
    "    fpr, tpr, threshold = roc_curve(ytest, preds)\n",
    "    roc_auc = auc(fpr, tpr)\n",
    "\n",
    "    # method I: plt\n",
    "    plt.title('Receiver Operating Characteristic\\n')\n",
    "    plt.plot(fpr, tpr, 'b', label = 'AUC = %0.2f' % roc_auc)\n",
    "    plt.legend(loc = 'lower right')\n",
    "    plt.plot([0, 1], [0, 1],'r--')\n",
    "    plt.xlim([0, 1])\n",
    "    plt.ylim([0, 1])\n",
    "    plt.ylabel('True Positive Rate')\n",
    "    plt.xlabel('False Positive Rate')\n",
    "    plt.show()"
   ]
  },
  {
   "cell_type": "code",
   "execution_count": 89,
   "metadata": {},
   "outputs": [
    {
     "data": {
      "image/png": "[encoded data removed]",
      "text/plain": [
       "<Figure size 460.8x403.2 with 1 Axes>"
      ]
     },
     "metadata": {},
     "output_type": "display_data"
    }
   ],
   "source": [
    "plot_roc_curve(log_model, X_test, y_test)"
   ]
  },
  {
   "cell_type": "code",
   "execution_count": 90,
   "metadata": {},
   "outputs": [],
   "source": [
    "# Pass coefficents and feature names to see most important features\n",
    "def feat_importance(coef, names, n=10):\n",
    "    imp = coef\n",
    "    imp,names = zip(*sorted(zip(imp[0],names)))\n",
    "    print(imp[-20:], names[-20:])\n",
    "    fig = plt.figure(num=None, figsize=(8, 6), dpi=80)\n",
    "    plt.barh(range(len(names[-n:])), imp[-n:], align='center')\n",
    "    plt.yticks(range(len(names[-n:])), names[-n:])\n",
    "    plt.title(\"Most Important Features \\n\")\n",
    "    plt.xlabel(\"coefficient\")\n",
    "    plt.ylabel(\"features\")\n",
    "    plt.show()"
   ]
  },
  {
   "cell_type": "code",
   "execution_count": 91,
   "metadata": {},
   "outputs": [
    {
     "name": "stdout",
     "output_type": "stream",
     "text": [
      "(0.6875881884277558, 0.6944183190836074, 0.6955053634567647, 0.701970651645, 0.7371083370918183, 0.7418037102227719, 0.7788917585619229, 0.796436654253655, 0.8063219914603961, 0.8118150734549223, 0.8380700227320238, 0.9001337969041336, 0.9756255921043251, 1.0023974240969817, 1.013595316049272, 1.0482223619973763, 1.0618465328403597, 1.0689913907901984, 1.0793743820917872, 1.1672878739212196) ('PANC.ISLT-Tx', 'MAFB', 'Hsmm-Ins', 'E023-H3K9ac.gappedPeak', 'E129-H3K9me3.gappedPeak', 'E082-H3K36me3.gappedPeak', 'GSE64233_DHS_V_final.bed', 'GSM1208731_batch2_chrom1_LoVo_E2F8_PassedQC_peaks_hg19.bed', 'GT_Poised_Enhancers_hg19.bed', 'E057-DNase.hotspot.fdr0.01.broad.bed', 'E075-H3K36me3.gappedPeak', 'islet_pooled_H3K27ac.bed', 'neural_cell_ChIP-seq_POLR2AphosphoS5_ENCSR000BTW_ENCFF001UDH_ENCFF001UDG_intersect.bed', 'GSM1208788_batch2_chrom1_LoVo_RARG_PassedQC_peaks_hg19.bed', 'E006-H4K8ac.gappedPeak', 'osteoblast_ChIP-seq_EP300_ENCFF001TCZ.bed', 'Caco-2_ChIP-seq_H3K4me3_ENCSR000DQM_gappedpeak.bed', 'G401.6_FAIRE-seq_ENCFF001UYZ.bed', 'wgEncodeAwgDnaseDukeGm12891UniPk.narrowPeak', 'E043-H3K4me3.gappedPeak')\n"
     ]
    },
    {
     "data": {
      "image/png": "[encoded data removed]",
      "text/plain": [
       "<Figure size 640x480 with 1 Axes>"
      ]
     },
     "metadata": {},
     "output_type": "display_data"
    }
   ],
   "source": [
    "# Plot feature importance\n",
    "coefs = log_model.coef_\n",
    "feature_names = X_train.columns\n",
    "feat_importance(coefs, feature_names, 20)"
   ]
  },
  {
   "cell_type": "code",
   "execution_count": null,
   "metadata": {},
   "outputs": [],
   "source": []
  },
  {
   "cell_type": "markdown",
   "metadata": {},
   "source": [
    "# Random Forest"
   ]
  },
  {
   "cell_type": "code",
   "execution_count": 92,
   "metadata": {},
   "outputs": [],
   "source": [
    "# n_jobs = -1 allows training to be done on all available cores\n",
    "rf_model = RandomForestClassifier(n_jobs=-1, class_weight='balanced')\n",
    "\n",
    "# Parameter grid for grid search\n",
    "rf_params = {'n_estimators': [100, 500, 1000, 2000],\n",
    "\t\t\t 'max_depth': [30, 100, 200]}\n",
    "\n",
    "scoring = ['recall', 'roc_auc']\n",
    "\n",
    "cv = StratifiedShuffleSplit(n_splits=10, test_size=0.3)"
   ]
  },
  {
   "cell_type": "code",
   "execution_count": 93,
   "metadata": {},
   "outputs": [
    {
     "name": "stdout",
     "output_type": "stream",
     "text": [
      "The best parameters are {'max_depth': 30, 'n_estimators': 100} with a score of 0.00\n",
      "Grid search's score on new test data was 0.0\n"
     ]
    }
   ],
   "source": [
    "# Grid search to iteratively search parameter space\n",
    "rf_grid = GridSearchCV(rf_model, param_grid=rf_params, cv=cv, scoring=scoring, refit='recall')\n",
    "rf_grid.fit(X_train, y_train, sample_weight=sample_weight)\n",
    "print(\"The best parameters are %s with a score of %0.2f\" % (rf_grid.best_params_, rf_grid.best_score_))\n",
    "\n",
    "rf_grid_score = rf_grid.score(X_test, y_test)\n",
    "print (\"Grid search's score on new test data was {}\".format(rf_grid_score))"
   ]
  },
  {
   "cell_type": "code",
   "execution_count": 94,
   "metadata": {},
   "outputs": [
    {
     "name": "stdout",
     "output_type": "stream",
     "text": [
      "Model Performance:\n",
      " Precision: 1.0\n",
      " Recall: 0.9966996699669967\n",
      " Accuracy: 0.9966996699669967\n"
     ]
    }
   ],
   "source": [
    "summarize_performance(rf_grid, X_train, y_train, proba=False)"
   ]
  },
  {
   "cell_type": "code",
   "execution_count": 95,
   "metadata": {},
   "outputs": [
    {
     "name": "stdout",
     "output_type": "stream",
     "text": [
      "Model Performance:\n",
      " Precision: 0.0\n",
      " Recall: 0.0\n",
      " Accuracy: 0.8571428571428571\n"
     ]
    }
   ],
   "source": [
    "summarize_performance(rf_grid.best_estimator_, X_test, y_test, proba=False)"
   ]
  },
  {
   "cell_type": "code",
   "execution_count": 96,
   "metadata": {},
   "outputs": [
    {
     "name": "stdout",
     "output_type": "stream",
     "text": [
      "[0 0 0 ... 0 0 0]\n"
     ]
    }
   ],
   "source": [
    "# Eye test to see if we predict only one class\n",
    "print (rf_grid.predict(X_test))"
   ]
  },
  {
   "cell_type": "code",
   "execution_count": 97,
   "metadata": {},
   "outputs": [
    {
     "name": "stdout",
     "output_type": "stream",
     "text": [
      "Feature ranking:\n",
      "1. feature 2747 (0.005971)\n",
      "2. feature 2333 (0.005239)\n",
      "3. feature 2480 (0.003772)\n",
      "4. feature 2745 (0.002940)\n",
      "5. feature 75 (0.002847)\n",
      "6. feature 1363 (0.002374)\n",
      "7. feature 2478 (0.002122)\n",
      "8. feature 2502 (0.002073)\n",
      "9. feature 1837 (0.002058)\n",
      "10. feature 1018 (0.002029)\n",
      "11. feature 1026 (0.001998)\n",
      "12. feature 1880 (0.001942)\n",
      "13. feature 2023 (0.001836)\n",
      "14. feature 2053 (0.001773)\n",
      "15. feature 2318 (0.001751)\n",
      "16. feature 2484 (0.001680)\n",
      "17. feature 1834 (0.001665)\n",
      "18. feature 2369 (0.001658)\n",
      "19. feature 1444 (0.001608)\n",
      "20. feature 1478 (0.001605)\n"
     ]
    }
   ],
   "source": [
    "top_n_features = 20\n",
    "\n",
    "forest = rf_grid.best_estimator_\n",
    "importances = rf_grid.best_estimator_.feature_importances_\n",
    "std = np.std([tree.feature_importances_ for tree in forest.estimators_], axis=0)\n",
    "indices = np.argsort(importances)[::-1]\n",
    "\n",
    "# Print the feature ranking\n",
    "print(\"Feature ranking:\")\n",
    "\n",
    "for f in range(top_n_features):\n",
    "    print(\"%d. feature %d (%f)\" % (f + 1, indices[f], importances[indices[f]]))"
   ]
  },
  {
   "cell_type": "code",
   "execution_count": 98,
   "metadata": {},
   "outputs": [
    {
     "ename": "ValueError",
     "evalue": "shape mismatch: objects cannot be broadcast to a single shape",
     "output_type": "error",
     "traceback": [
      "\u001b[0;31m---------------------------------------------------------------------------\u001b[0m",
      "\u001b[0;31mValueError\u001b[0m                                Traceback (most recent call last)",
      "\u001b[0;32m<ipython-input-98-f4c7fa37c8e4>\u001b[0m in \u001b[0;36m<module>\u001b[0;34m()\u001b[0m\n\u001b[1;32m      3\u001b[0m \u001b[0mplt\u001b[0m\u001b[0;34m.\u001b[0m\u001b[0mtitle\u001b[0m\u001b[0;34m(\u001b[0m\u001b[0;34m\"Feature importances\"\u001b[0m\u001b[0;34m)\u001b[0m\u001b[0;34m\u001b[0m\u001b[0m\n\u001b[1;32m      4\u001b[0m plt.bar(range(top_n_features), [importances[ind] for ind in indices],\n\u001b[0;32m----> 5\u001b[0;31m        color=\"r\", yerr=std[indices][top_n_features], align=\"center\")\n\u001b[0m\u001b[1;32m      6\u001b[0m \u001b[0mplt\u001b[0m\u001b[0;34m.\u001b[0m\u001b[0mxticks\u001b[0m\u001b[0;34m(\u001b[0m\u001b[0mrange\u001b[0m\u001b[0;34m(\u001b[0m\u001b[0mX_train\u001b[0m\u001b[0;34m.\u001b[0m\u001b[0mshape\u001b[0m\u001b[0;34m[\u001b[0m\u001b[0;36m1\u001b[0m\u001b[0;34m]\u001b[0m\u001b[0;34m[\u001b[0m\u001b[0mtop_n_features\u001b[0m\u001b[0;34m]\u001b[0m\u001b[0;34m)\u001b[0m\u001b[0;34m,\u001b[0m \u001b[0mindices\u001b[0m\u001b[0;34m[\u001b[0m\u001b[0;34m[\u001b[0m\u001b[0mtop_n_features\u001b[0m\u001b[0;34m]\u001b[0m\u001b[0;34m]\u001b[0m\u001b[0;34m)\u001b[0m\u001b[0;34m\u001b[0m\u001b[0m\n\u001b[1;32m      7\u001b[0m \u001b[0mplt\u001b[0m\u001b[0;34m.\u001b[0m\u001b[0mxlim\u001b[0m\u001b[0;34m(\u001b[0m\u001b[0;34m[\u001b[0m\u001b[0;34m-\u001b[0m\u001b[0;36m1\u001b[0m\u001b[0;34m,\u001b[0m \u001b[0mX_train\u001b[0m\u001b[0;34m.\u001b[0m\u001b[0mshape\u001b[0m\u001b[0;34m[\u001b[0m\u001b[0;36m1\u001b[0m\u001b[0;34m]\u001b[0m\u001b[0;34m[\u001b[0m\u001b[0mtop_n_features\u001b[0m\u001b[0;34m]\u001b[0m\u001b[0;34m]\u001b[0m\u001b[0;34m)\u001b[0m\u001b[0;34m\u001b[0m\u001b[0m\n",
      "\u001b[0;32m~/anaconda/envs/t2d_model/lib/python3.6/site-packages/matplotlib/pyplot.py\u001b[0m in \u001b[0;36mbar\u001b[0;34m(x, height, width, bottom, align, data, **kwargs)\u001b[0m\n\u001b[1;32m   2443\u001b[0m     return gca().bar(\n\u001b[1;32m   2444\u001b[0m         \u001b[0mx\u001b[0m\u001b[0;34m=\u001b[0m\u001b[0mx\u001b[0m\u001b[0;34m,\u001b[0m \u001b[0mheight\u001b[0m\u001b[0;34m=\u001b[0m\u001b[0mheight\u001b[0m\u001b[0;34m,\u001b[0m \u001b[0mwidth\u001b[0m\u001b[0;34m=\u001b[0m\u001b[0mwidth\u001b[0m\u001b[0;34m,\u001b[0m \u001b[0mbottom\u001b[0m\u001b[0;34m=\u001b[0m\u001b[0mbottom\u001b[0m\u001b[0;34m,\u001b[0m \u001b[0malign\u001b[0m\u001b[0;34m=\u001b[0m\u001b[0malign\u001b[0m\u001b[0;34m,\u001b[0m\u001b[0;34m\u001b[0m\u001b[0m\n\u001b[0;32m-> 2445\u001b[0;31m         data=data, **kwargs)\n\u001b[0m\u001b[1;32m   2446\u001b[0m \u001b[0;34m\u001b[0m\u001b[0m\n\u001b[1;32m   2447\u001b[0m \u001b[0;31m# Autogenerated by boilerplate.py.  Do not edit as changes will be lost.\u001b[0m\u001b[0;34m\u001b[0m\u001b[0;34m\u001b[0m\u001b[0m\n",
      "\u001b[0;32m~/anaconda/envs/t2d_model/lib/python3.6/site-packages/matplotlib/__init__.py\u001b[0m in \u001b[0;36minner\u001b[0;34m(ax, data, *args, **kwargs)\u001b[0m\n\u001b[1;32m   1783\u001b[0m                         \u001b[0;34m\"the Matplotlib list!)\"\u001b[0m \u001b[0;34m%\u001b[0m \u001b[0;34m(\u001b[0m\u001b[0mlabel_namer\u001b[0m\u001b[0;34m,\u001b[0m \u001b[0mfunc\u001b[0m\u001b[0;34m.\u001b[0m\u001b[0m__name__\u001b[0m\u001b[0;34m)\u001b[0m\u001b[0;34m,\u001b[0m\u001b[0;34m\u001b[0m\u001b[0m\n\u001b[1;32m   1784\u001b[0m                         RuntimeWarning, stacklevel=2)\n\u001b[0;32m-> 1785\u001b[0;31m             \u001b[0;32mreturn\u001b[0m \u001b[0mfunc\u001b[0m\u001b[0;34m(\u001b[0m\u001b[0max\u001b[0m\u001b[0;34m,\u001b[0m \u001b[0;34m*\u001b[0m\u001b[0margs\u001b[0m\u001b[0;34m,\u001b[0m \u001b[0;34m**\u001b[0m\u001b[0mkwargs\u001b[0m\u001b[0;34m)\u001b[0m\u001b[0;34m\u001b[0m\u001b[0m\n\u001b[0m\u001b[1;32m   1786\u001b[0m \u001b[0;34m\u001b[0m\u001b[0m\n\u001b[1;32m   1787\u001b[0m         inner.__doc__ = _add_data_doc(inner.__doc__,\n",
      "\u001b[0;32m~/anaconda/envs/t2d_model/lib/python3.6/site-packages/matplotlib/axes/_axes.py\u001b[0m in \u001b[0;36mbar\u001b[0;34m(self, x, height, width, bottom, align, **kwargs)\u001b[0m\n\u001b[1;32m   2242\u001b[0m         x, height, width, y, linewidth = np.broadcast_arrays(\n\u001b[1;32m   2243\u001b[0m             \u001b[0;31m# Make args iterable too.\u001b[0m\u001b[0;34m\u001b[0m\u001b[0;34m\u001b[0m\u001b[0m\n\u001b[0;32m-> 2244\u001b[0;31m             np.atleast_1d(x), height, width, y, linewidth)\n\u001b[0m\u001b[1;32m   2245\u001b[0m \u001b[0;34m\u001b[0m\u001b[0m\n\u001b[1;32m   2246\u001b[0m         \u001b[0;31m# Now that units have been converted, set the tick locations.\u001b[0m\u001b[0;34m\u001b[0m\u001b[0;34m\u001b[0m\u001b[0m\n",
      "\u001b[0;32m~/anaconda/envs/t2d_model/lib/python3.6/site-packages/numpy/lib/stride_tricks.py\u001b[0m in \u001b[0;36mbroadcast_arrays\u001b[0;34m(*args, **kwargs)\u001b[0m\n\u001b[1;32m    250\u001b[0m     \u001b[0margs\u001b[0m \u001b[0;34m=\u001b[0m \u001b[0;34m[\u001b[0m\u001b[0mnp\u001b[0m\u001b[0;34m.\u001b[0m\u001b[0marray\u001b[0m\u001b[0;34m(\u001b[0m\u001b[0m_m\u001b[0m\u001b[0;34m,\u001b[0m \u001b[0mcopy\u001b[0m\u001b[0;34m=\u001b[0m\u001b[0;32mFalse\u001b[0m\u001b[0;34m,\u001b[0m \u001b[0msubok\u001b[0m\u001b[0;34m=\u001b[0m\u001b[0msubok\u001b[0m\u001b[0;34m)\u001b[0m \u001b[0;32mfor\u001b[0m \u001b[0m_m\u001b[0m \u001b[0;32min\u001b[0m \u001b[0margs\u001b[0m\u001b[0;34m]\u001b[0m\u001b[0;34m\u001b[0m\u001b[0m\n\u001b[1;32m    251\u001b[0m \u001b[0;34m\u001b[0m\u001b[0m\n\u001b[0;32m--> 252\u001b[0;31m     \u001b[0mshape\u001b[0m \u001b[0;34m=\u001b[0m \u001b[0m_broadcast_shape\u001b[0m\u001b[0;34m(\u001b[0m\u001b[0;34m*\u001b[0m\u001b[0margs\u001b[0m\u001b[0;34m)\u001b[0m\u001b[0;34m\u001b[0m\u001b[0m\n\u001b[0m\u001b[1;32m    253\u001b[0m \u001b[0;34m\u001b[0m\u001b[0m\n\u001b[1;32m    254\u001b[0m     \u001b[0;32mif\u001b[0m \u001b[0mall\u001b[0m\u001b[0;34m(\u001b[0m\u001b[0marray\u001b[0m\u001b[0;34m.\u001b[0m\u001b[0mshape\u001b[0m \u001b[0;34m==\u001b[0m \u001b[0mshape\u001b[0m \u001b[0;32mfor\u001b[0m \u001b[0marray\u001b[0m \u001b[0;32min\u001b[0m \u001b[0margs\u001b[0m\u001b[0;34m)\u001b[0m\u001b[0;34m:\u001b[0m\u001b[0;34m\u001b[0m\u001b[0m\n",
      "\u001b[0;32m~/anaconda/envs/t2d_model/lib/python3.6/site-packages/numpy/lib/stride_tricks.py\u001b[0m in \u001b[0;36m_broadcast_shape\u001b[0;34m(*args)\u001b[0m\n\u001b[1;32m    185\u001b[0m     \u001b[0;31m# use the old-iterator because np.nditer does not handle size 0 arrays\u001b[0m\u001b[0;34m\u001b[0m\u001b[0;34m\u001b[0m\u001b[0m\n\u001b[1;32m    186\u001b[0m     \u001b[0;31m# consistently\u001b[0m\u001b[0;34m\u001b[0m\u001b[0;34m\u001b[0m\u001b[0m\n\u001b[0;32m--> 187\u001b[0;31m     \u001b[0mb\u001b[0m \u001b[0;34m=\u001b[0m \u001b[0mnp\u001b[0m\u001b[0;34m.\u001b[0m\u001b[0mbroadcast\u001b[0m\u001b[0;34m(\u001b[0m\u001b[0;34m*\u001b[0m\u001b[0margs\u001b[0m\u001b[0;34m[\u001b[0m\u001b[0;34m:\u001b[0m\u001b[0;36m32\u001b[0m\u001b[0;34m]\u001b[0m\u001b[0;34m)\u001b[0m\u001b[0;34m\u001b[0m\u001b[0m\n\u001b[0m\u001b[1;32m    188\u001b[0m     \u001b[0;31m# unfortunately, it cannot handle 32 or more arguments directly\u001b[0m\u001b[0;34m\u001b[0m\u001b[0;34m\u001b[0m\u001b[0m\n\u001b[1;32m    189\u001b[0m     \u001b[0;32mfor\u001b[0m \u001b[0mpos\u001b[0m \u001b[0;32min\u001b[0m \u001b[0mrange\u001b[0m\u001b[0;34m(\u001b[0m\u001b[0;36m32\u001b[0m\u001b[0;34m,\u001b[0m \u001b[0mlen\u001b[0m\u001b[0;34m(\u001b[0m\u001b[0margs\u001b[0m\u001b[0;34m)\u001b[0m\u001b[0;34m,\u001b[0m \u001b[0;36m31\u001b[0m\u001b[0;34m)\u001b[0m\u001b[0;34m:\u001b[0m\u001b[0;34m\u001b[0m\u001b[0m\n",
      "\u001b[0;31mValueError\u001b[0m: shape mismatch: objects cannot be broadcast to a single shape"
     ]
    },
    {
     "data": {
      "image/png": "[encoded data removed]",
      "text/plain": [
       "<Figure size 460.8x403.2 with 1 Axes>"
      ]
     },
     "metadata": {},
     "output_type": "display_data"
    }
   ],
   "source": [
    "# Plot the feature importances of the forest\n",
    "plt.figure()\n",
    "plt.title(\"Feature importances\")\n",
    "plt.bar(range(top_n_features), [importances[ind] for ind in indices],\n",
    "       color=\"r\", yerr=std[indices][top_n_features], align=\"center\")\n",
    "plt.xticks(range(X_train.shape[1][top_n_features]), indices[[top_n_features]])\n",
    "plt.xlim([-1, X_train.shape[1][top_n_features]])\n",
    "plt.show()"
   ]
  },
  {
   "cell_type": "code",
   "execution_count": null,
   "metadata": {},
   "outputs": [],
   "source": []
  },
  {
   "cell_type": "markdown",
   "metadata": {
    "collapsed": true
   },
   "source": [
    "### Support Vector Machine "
   ]
  },
  {
   "cell_type": "markdown",
   "metadata": {},
   "source": [
    "When used with a linear kernel still allows for evaluation of feature coefficients. Class weight parameter sets regularization parameter C for class i to n_samples / (n_classes * np.bincount(y)) "
   ]
  },
  {
   "cell_type": "code",
   "execution_count": null,
   "metadata": {},
   "outputs": [],
   "source": [
    "svm_model = SVC(kernel='linear', class_weight='balanced', probability=True, penalty=\"l1\", max_iter=5000)\n",
    "svm_model.fit(X_train, y_train, sample_weight=sample_weight)"
   ]
  },
  {
   "cell_type": "code",
   "execution_count": null,
   "metadata": {},
   "outputs": [],
   "source": [
    "print(\"Training Dataset SVM\", end=\" \")\n",
    "summarize_performance(svm_model, X_train, y_train, proba=False)"
   ]
  },
  {
   "cell_type": "code",
   "execution_count": null,
   "metadata": {},
   "outputs": [],
   "source": [
    "print(\"Training Dataset SVM\", end=\" \")\n",
    "summarize_performance(svm_model, X_test, y_test, proba=False)"
   ]
  },
  {
   "cell_type": "code",
   "execution_count": null,
   "metadata": {},
   "outputs": [],
   "source": [
    "# Display samples that have been chosen as support vectors\n",
    "svec_indices = svm_model.support_\n",
    "svec_df = X_train.iloc[[124, 60, 112, 184, 53], :]\n",
    "svec_df.tail()"
   ]
  },
  {
   "cell_type": "code",
   "execution_count": null,
   "metadata": {},
   "outputs": [],
   "source": [
    "svec_labels = y_train.iloc[svec_indices]\n",
    "svec_labels[svec_labels.iloc[:] == 1].head()"
   ]
  },
  {
   "cell_type": "code",
   "execution_count": null,
   "metadata": {},
   "outputs": [],
   "source": [
    "plot_roc_curve(svm_model, X_test, y_test)"
   ]
  },
  {
   "cell_type": "code",
   "execution_count": null,
   "metadata": {},
   "outputs": [],
   "source": [
    "# Plot feature importance\n",
    "coefs = svm_model.coef_\n",
    "feature_names = X_train.columns\n",
    "feat_importance(coefs, feature_names, 20)"
   ]
  },
  {
   "cell_type": "code",
   "execution_count": null,
   "metadata": {},
   "outputs": [],
   "source": []
  },
  {
   "cell_type": "markdown",
   "metadata": {
    "collapsed": true
   },
   "source": [
    "### Complement Naive Bayes"
   ]
  },
  {
   "cell_type": "markdown",
   "metadata": {},
   "source": [
    "Designed to combat the assumptions made by the standard multinomial naive bayes classifier. Particularly suited for imbalanced datasets as the priors are calculated by using the complement of the class of each sample. "
   ]
  },
  {
   "cell_type": "code",
   "execution_count": null,
   "metadata": {},
   "outputs": [],
   "source": [
    "cnb_model = ComplementNB()\n",
    "cnb_model.fit(X_train, y_train, sample_weight=None)"
   ]
  },
  {
   "cell_type": "code",
   "execution_count": null,
   "metadata": {},
   "outputs": [],
   "source": [
    "print(\"Training Dataset CNB\", end=\" \")\n",
    "summarize_performance(cnb_model, X_train, y_train, proba=False)"
   ]
  },
  {
   "cell_type": "code",
   "execution_count": null,
   "metadata": {},
   "outputs": [],
   "source": [
    "print(\"Training Dataset CNB\", end=\" \")\n",
    "summarize_performance(cnb_model, X_test, y_test, proba=False)"
   ]
  },
  {
   "cell_type": "code",
   "execution_count": null,
   "metadata": {},
   "outputs": [],
   "source": [
    "plot_roc_curve(cnb_model, X_test, y_test)"
   ]
  },
  {
   "cell_type": "code",
   "execution_count": null,
   "metadata": {},
   "outputs": [],
   "source": []
  }
 ],
 "metadata": {
  "kernelspec": {
   "display_name": "Python 3",
   "language": "python",
   "name": "python3"
  },
  "language_info": {
   "codemirror_mode": {
    "name": "ipython",
    "version": 3
   },
   "file_extension": ".py",
   "mimetype": "text/x-python",
   "name": "python",
   "nbconvert_exporter": "python",
   "pygments_lexer": "ipython3",
   "version": "3.6.6"
  }
 },
 "nbformat": 4,
 "nbformat_minor": 2
}
